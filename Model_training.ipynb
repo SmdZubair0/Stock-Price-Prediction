{
 "cells": [
  {
   "cell_type": "code",
   "execution_count": 11,
   "metadata": {},
   "outputs": [],
   "source": [
    "import numpy as np\n",
    "import pandas as pd\n",
    "import matplotlib.pyplot as plt\n",
    "from sklearn.preprocessing import StandardScaler"
   ]
  },
  {
   "cell_type": "code",
   "execution_count": 5,
   "metadata": {},
   "outputs": [],
   "source": [
    "df = pd.read_csv(\"Stocks4.csv\")"
   ]
  },
  {
   "cell_type": "code",
   "execution_count": 6,
   "metadata": {},
   "outputs": [
    {
     "data": {
      "text/html": [
       "<div>\n",
       "<style scoped>\n",
       "    .dataframe tbody tr th:only-of-type {\n",
       "        vertical-align: middle;\n",
       "    }\n",
       "\n",
       "    .dataframe tbody tr th {\n",
       "        vertical-align: top;\n",
       "    }\n",
       "\n",
       "    .dataframe thead th {\n",
       "        text-align: right;\n",
       "    }\n",
       "</style>\n",
       "<table border=\"1\" class=\"dataframe\">\n",
       "  <thead>\n",
       "    <tr style=\"text-align: right;\">\n",
       "      <th></th>\n",
       "      <th>open</th>\n",
       "      <th>adj_close</th>\n",
       "      <th>rolling_ma</th>\n",
       "      <th>RSI</th>\n",
       "      <th>MACD</th>\n",
       "      <th>Signal_Line</th>\n",
       "      <th>MACD_Histogram</th>\n",
       "      <th>SMA_20</th>\n",
       "      <th>upper_band</th>\n",
       "      <th>lower_band</th>\n",
       "    </tr>\n",
       "  </thead>\n",
       "  <tbody>\n",
       "    <tr>\n",
       "      <th>0</th>\n",
       "      <td>0.094005</td>\n",
       "      <td>0.093575</td>\n",
       "      <td>0.097789</td>\n",
       "      <td>0.000000</td>\n",
       "      <td>-0.000411</td>\n",
       "      <td>-0.000082</td>\n",
       "      <td>-0.000329</td>\n",
       "      <td>0.098235</td>\n",
       "      <td>0.105519</td>\n",
       "      <td>0.090951</td>\n",
       "    </tr>\n",
       "    <tr>\n",
       "      <th>1</th>\n",
       "      <td>0.087136</td>\n",
       "      <td>0.086707</td>\n",
       "      <td>0.095774</td>\n",
       "      <td>0.000000</td>\n",
       "      <td>-0.001276</td>\n",
       "      <td>-0.000321</td>\n",
       "      <td>-0.000955</td>\n",
       "      <td>0.097137</td>\n",
       "      <td>0.110273</td>\n",
       "      <td>0.084001</td>\n",
       "    </tr>\n",
       "    <tr>\n",
       "      <th>2</th>\n",
       "      <td>0.088853</td>\n",
       "      <td>0.088853</td>\n",
       "      <td>0.094516</td>\n",
       "      <td>17.933108</td>\n",
       "      <td>-0.001768</td>\n",
       "      <td>-0.000610</td>\n",
       "      <td>-0.001158</td>\n",
       "      <td>0.096348</td>\n",
       "      <td>0.109358</td>\n",
       "      <td>0.083339</td>\n",
       "    </tr>\n",
       "    <tr>\n",
       "      <th>3</th>\n",
       "      <td>0.091429</td>\n",
       "      <td>0.091429</td>\n",
       "      <td>0.093955</td>\n",
       "      <td>34.260880</td>\n",
       "      <td>-0.001928</td>\n",
       "      <td>-0.000874</td>\n",
       "      <td>-0.001054</td>\n",
       "      <td>0.095880</td>\n",
       "      <td>0.107771</td>\n",
       "      <td>0.083989</td>\n",
       "    </tr>\n",
       "    <tr>\n",
       "      <th>4</th>\n",
       "      <td>0.097009</td>\n",
       "      <td>0.097009</td>\n",
       "      <td>0.094510</td>\n",
       "      <td>56.093613</td>\n",
       "      <td>-0.001586</td>\n",
       "      <td>-0.001016</td>\n",
       "      <td>-0.000570</td>\n",
       "      <td>0.095988</td>\n",
       "      <td>0.106579</td>\n",
       "      <td>0.085396</td>\n",
       "    </tr>\n",
       "  </tbody>\n",
       "</table>\n",
       "</div>"
      ],
      "text/plain": [
       "       open  adj_close  rolling_ma        RSI      MACD  Signal_Line  \\\n",
       "0  0.094005   0.093575    0.097789   0.000000 -0.000411    -0.000082   \n",
       "1  0.087136   0.086707    0.095774   0.000000 -0.001276    -0.000321   \n",
       "2  0.088853   0.088853    0.094516  17.933108 -0.001768    -0.000610   \n",
       "3  0.091429   0.091429    0.093955  34.260880 -0.001928    -0.000874   \n",
       "4  0.097009   0.097009    0.094510  56.093613 -0.001586    -0.001016   \n",
       "\n",
       "   MACD_Histogram    SMA_20  upper_band  lower_band  \n",
       "0       -0.000329  0.098235    0.105519    0.090951  \n",
       "1       -0.000955  0.097137    0.110273    0.084001  \n",
       "2       -0.001158  0.096348    0.109358    0.083339  \n",
       "3       -0.001054  0.095880    0.107771    0.083989  \n",
       "4       -0.000570  0.095988    0.106579    0.085396  "
      ]
     },
     "execution_count": 6,
     "metadata": {},
     "output_type": "execute_result"
    }
   ],
   "source": [
    "df.head()"
   ]
  },
  {
   "cell_type": "code",
   "execution_count": 7,
   "metadata": {},
   "outputs": [
    {
     "data": {
      "text/plain": [
       "Index(['open', 'adj_close', 'rolling_ma', 'RSI', 'MACD', 'Signal_Line',\n",
       "       'MACD_Histogram', 'SMA_20', 'upper_band', 'lower_band'],\n",
       "      dtype='object')"
      ]
     },
     "execution_count": 7,
     "metadata": {},
     "output_type": "execute_result"
    }
   ],
   "source": [
    "df.columns"
   ]
  },
  {
   "cell_type": "code",
   "execution_count": 10,
   "metadata": {},
   "outputs": [],
   "source": [
    "features = df.drop(columns = \"adj_close\")\n",
    "target = df[['adj_close']]\n",
    "\n",
    "feature_scaler = StandardScaler()\n",
    "target_scaler = StandardScaler()\n",
    "\n",
    "scaled_features = feature_scaler.fit_transform(features)\n",
    "scaled_target = target_scaler.fit_transform(target)"
   ]
  },
  {
   "cell_type": "code",
   "execution_count": 15,
   "metadata": {},
   "outputs": [
    {
     "data": {
      "image/png": "[encoded data removed]",
      "text/plain": [
       "<Figure size 1200x500 with 2 Axes>"
      ]
     },
     "metadata": {},
     "output_type": "display_data"
    }
   ],
   "source": [
    "fig, ax = plt.subplots(1, 2, figsize = (12, 5))\n",
    "\n",
    "ax[0].hist(target)\n",
    "ax[1].hist(scaled_target)\n",
    "\n",
    "plt.show()"
   ]
  }
 ],
 "metadata": {
  "kernelspec": {
   "display_name": "Python 3",
   "language": "python",
   "name": "python3"
  },
  "language_info": {
   "codemirror_mode": {
    "name": "ipython",
    "version": 3
   },
   "file_extension": ".py",
   "mimetype": "text/x-python",
   "name": "python",
   "nbconvert_exporter": "python",
   "pygments_lexer": "ipython3",
   "version": "3.11.4"
  }
 },
 "nbformat": 4,
 "nbformat_minor": 2
}
