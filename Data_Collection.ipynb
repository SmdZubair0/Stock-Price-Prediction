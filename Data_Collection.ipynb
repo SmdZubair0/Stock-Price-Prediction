{
 "cells": [
  {
   "cell_type": "markdown",
   "metadata": {},
   "source": [
    "#### **Imports**"
   ]
  },
  {
   "cell_type": "code",
   "execution_count": 2,
   "metadata": {},
   "outputs": [],
   "source": [
    "import numpy as np\n",
    "import pandas as pd\n",
    "import yfinance as yf"
   ]
  },
  {
   "cell_type": "markdown",
   "metadata": {},
   "source": [
    "#### **Date Gathering and Preprocessig**"
   ]
  },
  {
   "cell_type": "markdown",
   "metadata": {},
   "source": [
    "##### *Dowloading*"
   ]
  },
  {
   "cell_type": "code",
   "execution_count": 3,
   "metadata": {},
   "outputs": [
    {
     "name": "stdout",
     "output_type": "stream",
     "text": [
      "YF.download() has changed argument auto_adjust default to True\n"
     ]
    },
    {
     "name": "stderr",
     "output_type": "stream",
     "text": [
      "[*********************100%***********************]  1 of 1 completed\n"
     ]
    }
   ],
   "source": [
    "# This is for downloading Apple stock data\n",
    "data = yf.download(tickers = ['AAPL'])"
   ]
  },
  {
   "cell_type": "code",
   "execution_count": 4,
   "metadata": {},
   "outputs": [
    {
     "data": {
      "text/html": [
       "<div>\n",
       "<style scoped>\n",
       "    .dataframe tbody tr th:only-of-type {\n",
       "        vertical-align: middle;\n",
       "    }\n",
       "\n",
       "    .dataframe tbody tr th {\n",
       "        vertical-align: top;\n",
       "    }\n",
       "\n",
       "    .dataframe thead tr th {\n",
       "        text-align: left;\n",
       "    }\n",
       "\n",
       "    .dataframe thead tr:last-of-type th {\n",
       "        text-align: right;\n",
       "    }\n",
       "</style>\n",
       "<table border=\"1\" class=\"dataframe\">\n",
       "  <thead>\n",
       "    <tr>\n",
       "      <th>Price</th>\n",
       "      <th>Close</th>\n",
       "      <th>High</th>\n",
       "      <th>Low</th>\n",
       "      <th>Open</th>\n",
       "      <th>Volume</th>\n",
       "    </tr>\n",
       "    <tr>\n",
       "      <th>Ticker</th>\n",
       "      <th>AAPL</th>\n",
       "      <th>AAPL</th>\n",
       "      <th>AAPL</th>\n",
       "      <th>AAPL</th>\n",
       "      <th>AAPL</th>\n",
       "    </tr>\n",
       "    <tr>\n",
       "      <th>Date</th>\n",
       "      <th></th>\n",
       "      <th></th>\n",
       "      <th></th>\n",
       "      <th></th>\n",
       "      <th></th>\n",
       "    </tr>\n",
       "  </thead>\n",
       "  <tbody>\n",
       "    <tr>\n",
       "      <th>1980-12-12</th>\n",
       "      <td>0.098726</td>\n",
       "      <td>0.099155</td>\n",
       "      <td>0.098726</td>\n",
       "      <td>0.098726</td>\n",
       "      <td>469033600</td>\n",
       "    </tr>\n",
       "    <tr>\n",
       "      <th>1980-12-15</th>\n",
       "      <td>0.093575</td>\n",
       "      <td>0.094005</td>\n",
       "      <td>0.093575</td>\n",
       "      <td>0.094005</td>\n",
       "      <td>175884800</td>\n",
       "    </tr>\n",
       "    <tr>\n",
       "      <th>1980-12-16</th>\n",
       "      <td>0.086707</td>\n",
       "      <td>0.087136</td>\n",
       "      <td>0.086707</td>\n",
       "      <td>0.087136</td>\n",
       "      <td>105728000</td>\n",
       "    </tr>\n",
       "    <tr>\n",
       "      <th>1980-12-17</th>\n",
       "      <td>0.088853</td>\n",
       "      <td>0.089282</td>\n",
       "      <td>0.088853</td>\n",
       "      <td>0.088853</td>\n",
       "      <td>86441600</td>\n",
       "    </tr>\n",
       "    <tr>\n",
       "      <th>1980-12-18</th>\n",
       "      <td>0.091429</td>\n",
       "      <td>0.091858</td>\n",
       "      <td>0.091429</td>\n",
       "      <td>0.091429</td>\n",
       "      <td>73449600</td>\n",
       "    </tr>\n",
       "    <tr>\n",
       "      <th>...</th>\n",
       "      <td>...</td>\n",
       "      <td>...</td>\n",
       "      <td>...</td>\n",
       "      <td>...</td>\n",
       "      <td>...</td>\n",
       "    </tr>\n",
       "    <tr>\n",
       "      <th>2025-03-03</th>\n",
       "      <td>238.029999</td>\n",
       "      <td>244.029999</td>\n",
       "      <td>236.110001</td>\n",
       "      <td>241.789993</td>\n",
       "      <td>47184000</td>\n",
       "    </tr>\n",
       "    <tr>\n",
       "      <th>2025-03-04</th>\n",
       "      <td>235.929993</td>\n",
       "      <td>240.070007</td>\n",
       "      <td>234.679993</td>\n",
       "      <td>237.710007</td>\n",
       "      <td>53798100</td>\n",
       "    </tr>\n",
       "    <tr>\n",
       "      <th>2025-03-05</th>\n",
       "      <td>235.740005</td>\n",
       "      <td>236.550003</td>\n",
       "      <td>229.229996</td>\n",
       "      <td>235.419998</td>\n",
       "      <td>47227600</td>\n",
       "    </tr>\n",
       "    <tr>\n",
       "      <th>2025-03-06</th>\n",
       "      <td>235.330002</td>\n",
       "      <td>237.860001</td>\n",
       "      <td>233.160004</td>\n",
       "      <td>234.440002</td>\n",
       "      <td>45170400</td>\n",
       "    </tr>\n",
       "    <tr>\n",
       "      <th>2025-03-07</th>\n",
       "      <td>239.070007</td>\n",
       "      <td>241.369995</td>\n",
       "      <td>234.759995</td>\n",
       "      <td>235.110001</td>\n",
       "      <td>46245700</td>\n",
       "    </tr>\n",
       "  </tbody>\n",
       "</table>\n",
       "<p>11149 rows × 5 columns</p>\n",
       "</div>"
      ],
      "text/plain": [
       "Price            Close        High         Low        Open     Volume\n",
       "Ticker            AAPL        AAPL        AAPL        AAPL       AAPL\n",
       "Date                                                                 \n",
       "1980-12-12    0.098726    0.099155    0.098726    0.098726  469033600\n",
       "1980-12-15    0.093575    0.094005    0.093575    0.094005  175884800\n",
       "1980-12-16    0.086707    0.087136    0.086707    0.087136  105728000\n",
       "1980-12-17    0.088853    0.089282    0.088853    0.088853   86441600\n",
       "1980-12-18    0.091429    0.091858    0.091429    0.091429   73449600\n",
       "...                ...         ...         ...         ...        ...\n",
       "2025-03-03  238.029999  244.029999  236.110001  241.789993   47184000\n",
       "2025-03-04  235.929993  240.070007  234.679993  237.710007   53798100\n",
       "2025-03-05  235.740005  236.550003  229.229996  235.419998   47227600\n",
       "2025-03-06  235.330002  237.860001  233.160004  234.440002   45170400\n",
       "2025-03-07  239.070007  241.369995  234.759995  235.110001   46245700\n",
       "\n",
       "[11149 rows x 5 columns]"
      ]
     },
     "execution_count": 4,
     "metadata": {},
     "output_type": "execute_result"
    }
   ],
   "source": [
    "data"
   ]
  },
  {
   "cell_type": "markdown",
   "metadata": {},
   "source": [
    "##### *Formating and storing*"
   ]
  },
  {
   "cell_type": "code",
   "execution_count": 5,
   "metadata": {},
   "outputs": [],
   "source": [
    "# Storing date as a column instead of index\n",
    "data = data.reset_index()"
   ]
  },
  {
   "cell_type": "code",
   "execution_count": 6,
   "metadata": {},
   "outputs": [],
   "source": [
    "# Removing multilevel index\n",
    "df = data.droplevel(level=0,axis=1)"
   ]
  },
  {
   "cell_type": "code",
   "execution_count": 7,
   "metadata": {},
   "outputs": [],
   "source": [
    "# Assigning column names for further use\n",
    "cols = ['date','close','high','low','open','volumn']\n",
    "df.columns = cols"
   ]
  },
  {
   "cell_type": "code",
   "execution_count": 8,
   "metadata": {},
   "outputs": [
    {
     "data": {
      "text/html": [
       "<div>\n",
       "<style scoped>\n",
       "    .dataframe tbody tr th:only-of-type {\n",
       "        vertical-align: middle;\n",
       "    }\n",
       "\n",
       "    .dataframe tbody tr th {\n",
       "        vertical-align: top;\n",
       "    }\n",
       "\n",
       "    .dataframe thead th {\n",
       "        text-align: right;\n",
       "    }\n",
       "</style>\n",
       "<table border=\"1\" class=\"dataframe\">\n",
       "  <thead>\n",
       "    <tr style=\"text-align: right;\">\n",
       "      <th></th>\n",
       "      <th>date</th>\n",
       "      <th>close</th>\n",
       "      <th>high</th>\n",
       "      <th>low</th>\n",
       "      <th>open</th>\n",
       "      <th>volumn</th>\n",
       "    </tr>\n",
       "  </thead>\n",
       "  <tbody>\n",
       "    <tr>\n",
       "      <th>0</th>\n",
       "      <td>1980-12-12</td>\n",
       "      <td>0.098726</td>\n",
       "      <td>0.099155</td>\n",
       "      <td>0.098726</td>\n",
       "      <td>0.098726</td>\n",
       "      <td>469033600</td>\n",
       "    </tr>\n",
       "    <tr>\n",
       "      <th>1</th>\n",
       "      <td>1980-12-15</td>\n",
       "      <td>0.093575</td>\n",
       "      <td>0.094005</td>\n",
       "      <td>0.093575</td>\n",
       "      <td>0.094005</td>\n",
       "      <td>175884800</td>\n",
       "    </tr>\n",
       "    <tr>\n",
       "      <th>2</th>\n",
       "      <td>1980-12-16</td>\n",
       "      <td>0.086707</td>\n",
       "      <td>0.087136</td>\n",
       "      <td>0.086707</td>\n",
       "      <td>0.087136</td>\n",
       "      <td>105728000</td>\n",
       "    </tr>\n",
       "    <tr>\n",
       "      <th>3</th>\n",
       "      <td>1980-12-17</td>\n",
       "      <td>0.088853</td>\n",
       "      <td>0.089282</td>\n",
       "      <td>0.088853</td>\n",
       "      <td>0.088853</td>\n",
       "      <td>86441600</td>\n",
       "    </tr>\n",
       "    <tr>\n",
       "      <th>4</th>\n",
       "      <td>1980-12-18</td>\n",
       "      <td>0.091429</td>\n",
       "      <td>0.091858</td>\n",
       "      <td>0.091429</td>\n",
       "      <td>0.091429</td>\n",
       "      <td>73449600</td>\n",
       "    </tr>\n",
       "    <tr>\n",
       "      <th>...</th>\n",
       "      <td>...</td>\n",
       "      <td>...</td>\n",
       "      <td>...</td>\n",
       "      <td>...</td>\n",
       "      <td>...</td>\n",
       "      <td>...</td>\n",
       "    </tr>\n",
       "    <tr>\n",
       "      <th>11144</th>\n",
       "      <td>2025-03-03</td>\n",
       "      <td>238.029999</td>\n",
       "      <td>244.029999</td>\n",
       "      <td>236.110001</td>\n",
       "      <td>241.789993</td>\n",
       "      <td>47184000</td>\n",
       "    </tr>\n",
       "    <tr>\n",
       "      <th>11145</th>\n",
       "      <td>2025-03-04</td>\n",
       "      <td>235.929993</td>\n",
       "      <td>240.070007</td>\n",
       "      <td>234.679993</td>\n",
       "      <td>237.710007</td>\n",
       "      <td>53798100</td>\n",
       "    </tr>\n",
       "    <tr>\n",
       "      <th>11146</th>\n",
       "      <td>2025-03-05</td>\n",
       "      <td>235.740005</td>\n",
       "      <td>236.550003</td>\n",
       "      <td>229.229996</td>\n",
       "      <td>235.419998</td>\n",
       "      <td>47227600</td>\n",
       "    </tr>\n",
       "    <tr>\n",
       "      <th>11147</th>\n",
       "      <td>2025-03-06</td>\n",
       "      <td>235.330002</td>\n",
       "      <td>237.860001</td>\n",
       "      <td>233.160004</td>\n",
       "      <td>234.440002</td>\n",
       "      <td>45170400</td>\n",
       "    </tr>\n",
       "    <tr>\n",
       "      <th>11148</th>\n",
       "      <td>2025-03-07</td>\n",
       "      <td>239.070007</td>\n",
       "      <td>241.369995</td>\n",
       "      <td>234.759995</td>\n",
       "      <td>235.110001</td>\n",
       "      <td>46245700</td>\n",
       "    </tr>\n",
       "  </tbody>\n",
       "</table>\n",
       "<p>11149 rows × 6 columns</p>\n",
       "</div>"
      ],
      "text/plain": [
       "            date       close        high         low        open     volumn\n",
       "0     1980-12-12    0.098726    0.099155    0.098726    0.098726  469033600\n",
       "1     1980-12-15    0.093575    0.094005    0.093575    0.094005  175884800\n",
       "2     1980-12-16    0.086707    0.087136    0.086707    0.087136  105728000\n",
       "3     1980-12-17    0.088853    0.089282    0.088853    0.088853   86441600\n",
       "4     1980-12-18    0.091429    0.091858    0.091429    0.091429   73449600\n",
       "...          ...         ...         ...         ...         ...        ...\n",
       "11144 2025-03-03  238.029999  244.029999  236.110001  241.789993   47184000\n",
       "11145 2025-03-04  235.929993  240.070007  234.679993  237.710007   53798100\n",
       "11146 2025-03-05  235.740005  236.550003  229.229996  235.419998   47227600\n",
       "11147 2025-03-06  235.330002  237.860001  233.160004  234.440002   45170400\n",
       "11148 2025-03-07  239.070007  241.369995  234.759995  235.110001   46245700\n",
       "\n",
       "[11149 rows x 6 columns]"
      ]
     },
     "execution_count": 8,
     "metadata": {},
     "output_type": "execute_result"
    }
   ],
   "source": [
    "df"
   ]
  },
  {
   "cell_type": "code",
   "execution_count": 9,
   "metadata": {},
   "outputs": [],
   "source": [
    "# Saving to a CSV file\n",
    "df.to_csv(\"Stocks1.csv\", index = False)"
   ]
  },
  {
   "cell_type": "markdown",
   "metadata": {},
   "source": [
    "##### *Basic Analysis*"
   ]
  },
  {
   "cell_type": "code",
   "execution_count": 10,
   "metadata": {},
   "outputs": [
    {
     "name": "stdout",
     "output_type": "stream",
     "text": [
      "<class 'pandas.core.frame.DataFrame'>\n",
      "RangeIndex: 11149 entries, 0 to 11148\n",
      "Data columns (total 6 columns):\n",
      " #   Column  Non-Null Count  Dtype         \n",
      "---  ------  --------------  -----         \n",
      " 0   date    11149 non-null  datetime64[ns]\n",
      " 1   close   11149 non-null  float64       \n",
      " 2   high    11149 non-null  float64       \n",
      " 3   low     11149 non-null  float64       \n",
      " 4   open    11149 non-null  float64       \n",
      " 5   volumn  11149 non-null  int64         \n",
      "dtypes: datetime64[ns](1), float64(4), int64(1)\n",
      "memory usage: 522.7 KB\n"
     ]
    }
   ],
   "source": [
    "# Check for column names and categoris\n",
    "df.info()"
   ]
  },
  {
   "cell_type": "code",
   "execution_count": 11,
   "metadata": {},
   "outputs": [
    {
     "data": {
      "text/plain": [
       "(11149, 6)"
      ]
     },
     "execution_count": 11,
     "metadata": {},
     "output_type": "execute_result"
    }
   ],
   "source": [
    "# Shape of dataset\n",
    "df.shape"
   ]
  },
  {
   "cell_type": "code",
   "execution_count": 12,
   "metadata": {},
   "outputs": [
    {
     "data": {
      "text/plain": [
       "0"
      ]
     },
     "execution_count": 12,
     "metadata": {},
     "output_type": "execute_result"
    }
   ],
   "source": [
    "# Check for duplicates\n",
    "df.duplicated().sum()"
   ]
  },
  {
   "cell_type": "code",
   "execution_count": 13,
   "metadata": {},
   "outputs": [
    {
     "data": {
      "text/html": [
       "<div>\n",
       "<style scoped>\n",
       "    .dataframe tbody tr th:only-of-type {\n",
       "        vertical-align: middle;\n",
       "    }\n",
       "\n",
       "    .dataframe tbody tr th {\n",
       "        vertical-align: top;\n",
       "    }\n",
       "\n",
       "    .dataframe thead th {\n",
       "        text-align: right;\n",
       "    }\n",
       "</style>\n",
       "<table border=\"1\" class=\"dataframe\">\n",
       "  <thead>\n",
       "    <tr style=\"text-align: right;\">\n",
       "      <th></th>\n",
       "      <th>date</th>\n",
       "      <th>close</th>\n",
       "      <th>high</th>\n",
       "      <th>low</th>\n",
       "      <th>open</th>\n",
       "      <th>volumn</th>\n",
       "    </tr>\n",
       "  </thead>\n",
       "  <tbody>\n",
       "    <tr>\n",
       "      <th>count</th>\n",
       "      <td>11149</td>\n",
       "      <td>11149.000000</td>\n",
       "      <td>11149.000000</td>\n",
       "      <td>11149.000000</td>\n",
       "      <td>11149.000000</td>\n",
       "      <td>1.114900e+04</td>\n",
       "    </tr>\n",
       "    <tr>\n",
       "      <th>mean</th>\n",
       "      <td>2003-01-14 02:52:48.929948800</td>\n",
       "      <td>24.297109</td>\n",
       "      <td>24.537571</td>\n",
       "      <td>24.031195</td>\n",
       "      <td>24.277353</td>\n",
       "      <td>3.144460e+08</td>\n",
       "    </tr>\n",
       "    <tr>\n",
       "      <th>min</th>\n",
       "      <td>1980-12-12 00:00:00</td>\n",
       "      <td>0.037773</td>\n",
       "      <td>0.038203</td>\n",
       "      <td>0.037773</td>\n",
       "      <td>0.038203</td>\n",
       "      <td>0.000000e+00</td>\n",
       "    </tr>\n",
       "    <tr>\n",
       "      <th>25%</th>\n",
       "      <td>1991-12-20 00:00:00</td>\n",
       "      <td>0.244240</td>\n",
       "      <td>0.248482</td>\n",
       "      <td>0.238868</td>\n",
       "      <td>0.243894</td>\n",
       "      <td>1.103648e+08</td>\n",
       "    </tr>\n",
       "    <tr>\n",
       "      <th>50%</th>\n",
       "      <td>2003-01-10 00:00:00</td>\n",
       "      <td>0.451589</td>\n",
       "      <td>0.458785</td>\n",
       "      <td>0.445621</td>\n",
       "      <td>0.451589</td>\n",
       "      <td>2.028068e+08</td>\n",
       "    </tr>\n",
       "    <tr>\n",
       "      <th>75%</th>\n",
       "      <td>2014-02-06 00:00:00</td>\n",
       "      <td>18.600872</td>\n",
       "      <td>18.783790</td>\n",
       "      <td>18.462639</td>\n",
       "      <td>18.609282</td>\n",
       "      <td>3.950128e+08</td>\n",
       "    </tr>\n",
       "    <tr>\n",
       "      <th>max</th>\n",
       "      <td>2025-03-07 00:00:00</td>\n",
       "      <td>258.735504</td>\n",
       "      <td>259.814335</td>\n",
       "      <td>257.347047</td>\n",
       "      <td>257.906429</td>\n",
       "      <td>7.421641e+09</td>\n",
       "    </tr>\n",
       "    <tr>\n",
       "      <th>std</th>\n",
       "      <td>NaN</td>\n",
       "      <td>51.301472</td>\n",
       "      <td>51.791001</td>\n",
       "      <td>50.747535</td>\n",
       "      <td>51.247433</td>\n",
       "      <td>3.346296e+08</td>\n",
       "    </tr>\n",
       "  </tbody>\n",
       "</table>\n",
       "</div>"
      ],
      "text/plain": [
       "                                date         close          high  \\\n",
       "count                          11149  11149.000000  11149.000000   \n",
       "mean   2003-01-14 02:52:48.929948800     24.297109     24.537571   \n",
       "min              1980-12-12 00:00:00      0.037773      0.038203   \n",
       "25%              1991-12-20 00:00:00      0.244240      0.248482   \n",
       "50%              2003-01-10 00:00:00      0.451589      0.458785   \n",
       "75%              2014-02-06 00:00:00     18.600872     18.783790   \n",
       "max              2025-03-07 00:00:00    258.735504    259.814335   \n",
       "std                              NaN     51.301472     51.791001   \n",
       "\n",
       "                low          open        volumn  \n",
       "count  11149.000000  11149.000000  1.114900e+04  \n",
       "mean      24.031195     24.277353  3.144460e+08  \n",
       "min        0.037773      0.038203  0.000000e+00  \n",
       "25%        0.238868      0.243894  1.103648e+08  \n",
       "50%        0.445621      0.451589  2.028068e+08  \n",
       "75%       18.462639     18.609282  3.950128e+08  \n",
       "max      257.347047    257.906429  7.421641e+09  \n",
       "std       50.747535     51.247433  3.346296e+08  "
      ]
     },
     "execution_count": 13,
     "metadata": {},
     "output_type": "execute_result"
    }
   ],
   "source": [
    "# Statistics of the date\n",
    "df.describe()"
   ]
  },
  {
   "cell_type": "markdown",
   "metadata": {},
   "source": [
    "#### **Feature Construction**"
   ]
  },
  {
   "cell_type": "markdown",
   "metadata": {},
   "source": [
    "##### *Adjusted close*"
   ]
  },
  {
   "cell_type": "markdown",
   "metadata": {},
   "source": [
    "**Concept of Splits**\n",
    "* Normally for each share bought the price is retured for invested in that share\n",
    "* But sometimes the share gets split i.e the same amount invested is used in multiple shares\n",
    "* The returns of this share is given individually but that should be the sum of all shares\n",
    "\n",
    "**Example :** On day 1 if a share is bought for 100 the close price will be 100. On day 2 if 2-for-1 split has happened, the share is split into 50 and 50, but the close price will be shown as 50 only but it should be 50 * 2 = 100.\n",
    "\n",
    "**Issue :** When we use model like LSTM, the sudden fall in price due to split may cause the model to fail\n"
   ]
  },
  {
   "cell_type": "code",
   "execution_count": 14,
   "metadata": {},
   "outputs": [
    {
     "data": {
      "text/html": [
       "<div>\n",
       "<style scoped>\n",
       "    .dataframe tbody tr th:only-of-type {\n",
       "        vertical-align: middle;\n",
       "    }\n",
       "\n",
       "    .dataframe tbody tr th {\n",
       "        vertical-align: top;\n",
       "    }\n",
       "\n",
       "    .dataframe thead th {\n",
       "        text-align: right;\n",
       "    }\n",
       "</style>\n",
       "<table border=\"1\" class=\"dataframe\">\n",
       "  <thead>\n",
       "    <tr style=\"text-align: right;\">\n",
       "      <th></th>\n",
       "      <th>date</th>\n",
       "      <th>split_ratio</th>\n",
       "    </tr>\n",
       "  </thead>\n",
       "  <tbody>\n",
       "    <tr>\n",
       "      <th>0</th>\n",
       "      <td>1987-06-16 00:00:00-04:00</td>\n",
       "      <td>2.0</td>\n",
       "    </tr>\n",
       "    <tr>\n",
       "      <th>1</th>\n",
       "      <td>2000-06-21 00:00:00-04:00</td>\n",
       "      <td>2.0</td>\n",
       "    </tr>\n",
       "    <tr>\n",
       "      <th>2</th>\n",
       "      <td>2005-02-28 00:00:00-05:00</td>\n",
       "      <td>2.0</td>\n",
       "    </tr>\n",
       "    <tr>\n",
       "      <th>3</th>\n",
       "      <td>2014-06-09 00:00:00-04:00</td>\n",
       "      <td>7.0</td>\n",
       "    </tr>\n",
       "    <tr>\n",
       "      <th>4</th>\n",
       "      <td>2020-08-31 00:00:00-04:00</td>\n",
       "      <td>4.0</td>\n",
       "    </tr>\n",
       "  </tbody>\n",
       "</table>\n",
       "</div>"
      ],
      "text/plain": [
       "                       date  split_ratio\n",
       "0 1987-06-16 00:00:00-04:00          2.0\n",
       "1 2000-06-21 00:00:00-04:00          2.0\n",
       "2 2005-02-28 00:00:00-05:00          2.0\n",
       "3 2014-06-09 00:00:00-04:00          7.0\n",
       "4 2020-08-31 00:00:00-04:00          4.0"
      ]
     },
     "execution_count": 14,
     "metadata": {},
     "output_type": "execute_result"
    }
   ],
   "source": [
    "# Get the dates and split ratio\n",
    "stock = yf.Ticker('AAPL')\n",
    "splits = stock.splits\n",
    "splits = splits.reset_index()\n",
    "splits.columns = ['date', 'split_ratio']\n",
    "splits"
   ]
  },
  {
   "cell_type": "markdown",
   "metadata": {},
   "source": [
    "**Split_ratio** : previous close / current close"
   ]
  },
  {
   "cell_type": "code",
   "execution_count": 15,
   "metadata": {},
   "outputs": [
    {
     "data": {
      "text/plain": [
       "datetime64[ns, America/New_York]"
      ]
     },
     "execution_count": 15,
     "metadata": {},
     "output_type": "execute_result"
    }
   ],
   "source": [
    "splits.date.dtype"
   ]
  },
  {
   "cell_type": "code",
   "execution_count": 16,
   "metadata": {},
   "outputs": [],
   "source": [
    "# convert date type from datetime64[ns, America/New_York] to datetime64[ns]\n",
    "splits['date'] = splits[\"date\"].dt.tz_localize(None)"
   ]
  },
  {
   "cell_type": "code",
   "execution_count": 17,
   "metadata": {},
   "outputs": [],
   "source": [
    "# add split ratio column to original data\n",
    "df = df.merge(splits, on='date', how='left')"
   ]
  },
  {
   "cell_type": "code",
   "execution_count": 18,
   "metadata": {},
   "outputs": [],
   "source": [
    "# replace null values with 1 showing no split took place\n",
    "df['split_ratio'].fillna(1, inplace=True)"
   ]
  },
  {
   "cell_type": "markdown",
   "metadata": {},
   "source": [
    "- **Adj_factor** : It is simply the number of dividends that happened. The cummulative product of split ratio gives how many times and how many dividends occurs until that date\n",
    "- **Example** : If on day 2 it is 2-for-1 and on day 3 it is 2-for-1, then it becomes 2 * 2 on day 4 (as the 2 dividends of day2 are again divided into 2 parts each on day 3)"
   ]
  },
  {
   "cell_type": "code",
   "execution_count": 19,
   "metadata": {},
   "outputs": [],
   "source": [
    "df['adj_factor'] = df['split_ratio'].cumprod()"
   ]
  },
  {
   "cell_type": "code",
   "execution_count": 20,
   "metadata": {},
   "outputs": [],
   "source": [
    "# the product of no. of dividends and close price gives adj_close\n",
    "df['adj_close'] = df['adj_factor'] * df['close']"
   ]
  },
  {
   "cell_type": "markdown",
   "metadata": {},
   "source": [
    "##### *Moving Averages*"
   ]
  },
  {
   "cell_type": "markdown",
   "metadata": {},
   "source": [
    "**Moving Average :** The averge of a certain window helps in analysing the adj close value of that terms better. It is simple mean of n windows."
   ]
  },
  {
   "cell_type": "code",
   "execution_count": 21,
   "metadata": {},
   "outputs": [],
   "source": [
    "# df['adj_close'].rolling(window=10).mean() # standard moving average\n",
    "# exponential moving average\n",
    "df['rolling_ma'] = df['adj_close'].ewm(span=10, adjust=False).mean()  "
   ]
  },
  {
   "cell_type": "markdown",
   "metadata": {},
   "source": [
    "##### *RSI*"
   ]
  },
  {
   "cell_type": "markdown",
   "metadata": {},
   "source": [
    "**RSI (Relative Strength Index)** is a momentum indicator used in stock trading to measure the speed and magnitude of price changes. It helps traders identify overbought or oversold conditions.\n",
    "\n",
    "RSI values range from 0 to 100:\n",
    "\n",
    "- Above 70 : Overbought (price may fall soon)\n",
    "- Below 30 : Oversold (price may rise soon)\n",
    "- Between 30-70 : Neutral (no strong trend)\n",
    "\n",
    "\n",
    "- **Relative Strenght** = *(Average gain for N periods / Avg loss for N periods)*\n",
    "- **RSI** = *100 - (100 / 1 - RS)*"
   ]
  },
  {
   "cell_type": "code",
   "execution_count": 22,
   "metadata": {},
   "outputs": [],
   "source": [
    "# curr close value - past close value\n",
    "df['change'] = df['adj_close'].diff()"
   ]
  },
  {
   "cell_type": "code",
   "execution_count": 23,
   "metadata": {},
   "outputs": [],
   "source": [
    "# take gain if gain, else take 0\n",
    "df['gain'] = np.where(df['change'] > 0, df['change'], 0)\n",
    "# take loss if loss, else take 0\n",
    "df['loss'] = np.where(df['change'] < 0, -df['change'], 0)"
   ]
  },
  {
   "cell_type": "code",
   "execution_count": 24,
   "metadata": {},
   "outputs": [],
   "source": [
    "# calculate average gain and loss usign exponentially moving average\n",
    "df['avg_gain'] = df['gain'].ewm(span=14, adjust=False).mean()\n",
    "df['avg_loss'] = df['loss'].ewm(span=14, adjust=False).mean()"
   ]
  },
  {
   "cell_type": "code",
   "execution_count": 25,
   "metadata": {},
   "outputs": [
    {
     "data": {
      "text/html": [
       "<div>\n",
       "<style scoped>\n",
       "    .dataframe tbody tr th:only-of-type {\n",
       "        vertical-align: middle;\n",
       "    }\n",
       "\n",
       "    .dataframe tbody tr th {\n",
       "        vertical-align: top;\n",
       "    }\n",
       "\n",
       "    .dataframe thead th {\n",
       "        text-align: right;\n",
       "    }\n",
       "</style>\n",
       "<table border=\"1\" class=\"dataframe\">\n",
       "  <thead>\n",
       "    <tr style=\"text-align: right;\">\n",
       "      <th></th>\n",
       "      <th>date</th>\n",
       "      <th>adj_close</th>\n",
       "      <th>change</th>\n",
       "      <th>gain</th>\n",
       "      <th>loss</th>\n",
       "      <th>avg_gain</th>\n",
       "      <th>avg_loss</th>\n",
       "    </tr>\n",
       "  </thead>\n",
       "  <tbody>\n",
       "    <tr>\n",
       "      <th>0</th>\n",
       "      <td>1980-12-12</td>\n",
       "      <td>0.098726</td>\n",
       "      <td>NaN</td>\n",
       "      <td>0.000000</td>\n",
       "      <td>0.000000</td>\n",
       "      <td>0.000000</td>\n",
       "      <td>0.000000</td>\n",
       "    </tr>\n",
       "    <tr>\n",
       "      <th>1</th>\n",
       "      <td>1980-12-15</td>\n",
       "      <td>0.093575</td>\n",
       "      <td>-0.005151</td>\n",
       "      <td>0.000000</td>\n",
       "      <td>0.005151</td>\n",
       "      <td>0.000000</td>\n",
       "      <td>0.000687</td>\n",
       "    </tr>\n",
       "    <tr>\n",
       "      <th>2</th>\n",
       "      <td>1980-12-16</td>\n",
       "      <td>0.086707</td>\n",
       "      <td>-0.006868</td>\n",
       "      <td>0.000000</td>\n",
       "      <td>0.006868</td>\n",
       "      <td>0.000000</td>\n",
       "      <td>0.001511</td>\n",
       "    </tr>\n",
       "    <tr>\n",
       "      <th>3</th>\n",
       "      <td>1980-12-17</td>\n",
       "      <td>0.088853</td>\n",
       "      <td>0.002146</td>\n",
       "      <td>0.002146</td>\n",
       "      <td>0.000000</td>\n",
       "      <td>0.000286</td>\n",
       "      <td>0.001309</td>\n",
       "    </tr>\n",
       "    <tr>\n",
       "      <th>4</th>\n",
       "      <td>1980-12-18</td>\n",
       "      <td>0.091429</td>\n",
       "      <td>0.002576</td>\n",
       "      <td>0.002576</td>\n",
       "      <td>0.000000</td>\n",
       "      <td>0.000591</td>\n",
       "      <td>0.001135</td>\n",
       "    </tr>\n",
       "  </tbody>\n",
       "</table>\n",
       "</div>"
      ],
      "text/plain": [
       "        date  adj_close    change      gain      loss  avg_gain  avg_loss\n",
       "0 1980-12-12   0.098726       NaN  0.000000  0.000000  0.000000  0.000000\n",
       "1 1980-12-15   0.093575 -0.005151  0.000000  0.005151  0.000000  0.000687\n",
       "2 1980-12-16   0.086707 -0.006868  0.000000  0.006868  0.000000  0.001511\n",
       "3 1980-12-17   0.088853  0.002146  0.002146  0.000000  0.000286  0.001309\n",
       "4 1980-12-18   0.091429  0.002576  0.002576  0.000000  0.000591  0.001135"
      ]
     },
     "execution_count": 25,
     "metadata": {},
     "output_type": "execute_result"
    }
   ],
   "source": [
    "df.loc[:,['date','adj_close','change','gain','loss','avg_gain','avg_loss']].head()"
   ]
  },
  {
   "cell_type": "code",
   "execution_count": 26,
   "metadata": {},
   "outputs": [],
   "source": [
    "df['relative_strength'] = df['avg_gain'] / df['avg_loss']"
   ]
  },
  {
   "cell_type": "code",
   "execution_count": 27,
   "metadata": {},
   "outputs": [],
   "source": [
    "df['RSI'] = 100 - (100 / (1 + df[\"relative_strength\"]))"
   ]
  },
  {
   "cell_type": "markdown",
   "metadata": {},
   "source": [
    "##### *MACD*"
   ]
  },
  {
   "cell_type": "markdown",
   "metadata": {},
   "source": [
    "**MACD** is a momentum indicator that helps identify trend direction, strength, and potential reversals in stock prices. It is calculated using two Exponential Moving Averages (EMAs).\n",
    "\n",
    "*MACD Calculation Formula*\n",
    "- **MACD Line** = 12-day EMA – 26-day EMA\n",
    "- **Signal Line** = 9-day EMA of the MACD Line\n",
    "- **MACD Histogram** = MACD Line – Signal Line\n",
    "\n",
    "- If MACD > Signal Line → Bullish (buy signal)\n",
    "- If MACD < Signal Line → Bearish (sell signal)\n",
    "\n"
   ]
  },
  {
   "cell_type": "code",
   "execution_count": 28,
   "metadata": {},
   "outputs": [],
   "source": [
    "df[\"EMA_12\"] = df[\"adj_close\"].ewm(span=12, adjust=False).mean()\n",
    "df[\"EMA_26\"] = df[\"adj_close\"].ewm(span=26, adjust=False).mean()\n",
    "\n",
    "# Calculate MACD Line\n",
    "df[\"MACD\"] = df[\"EMA_12\"] - df[\"EMA_26\"]\n",
    "\n",
    "# Calculate Signal Line (9-day EMA of MACD)\n",
    "df[\"Signal_Line\"] = df[\"MACD\"].ewm(span=9, adjust=False).mean()\n",
    "\n",
    "# Calculate MACD Histogram\n",
    "df[\"MACD_Histogram\"] = df[\"MACD\"] - df[\"Signal_Line\"]"
   ]
  },
  {
   "cell_type": "code",
   "execution_count": 29,
   "metadata": {},
   "outputs": [
    {
     "data": {
      "text/html": [
       "<div>\n",
       "<style scoped>\n",
       "    .dataframe tbody tr th:only-of-type {\n",
       "        vertical-align: middle;\n",
       "    }\n",
       "\n",
       "    .dataframe tbody tr th {\n",
       "        vertical-align: top;\n",
       "    }\n",
       "\n",
       "    .dataframe thead th {\n",
       "        text-align: right;\n",
       "    }\n",
       "</style>\n",
       "<table border=\"1\" class=\"dataframe\">\n",
       "  <thead>\n",
       "    <tr style=\"text-align: right;\">\n",
       "      <th></th>\n",
       "      <th>EMA_12</th>\n",
       "      <th>EMA_26</th>\n",
       "      <th>MACD</th>\n",
       "      <th>Signal_Line</th>\n",
       "      <th>MACD_Histogram</th>\n",
       "    </tr>\n",
       "  </thead>\n",
       "  <tbody>\n",
       "    <tr>\n",
       "      <th>0</th>\n",
       "      <td>0.098726</td>\n",
       "      <td>0.098726</td>\n",
       "      <td>0.000000</td>\n",
       "      <td>0.000000</td>\n",
       "      <td>0.000000</td>\n",
       "    </tr>\n",
       "    <tr>\n",
       "      <th>1</th>\n",
       "      <td>0.097934</td>\n",
       "      <td>0.098344</td>\n",
       "      <td>-0.000411</td>\n",
       "      <td>-0.000082</td>\n",
       "      <td>-0.000329</td>\n",
       "    </tr>\n",
       "    <tr>\n",
       "      <th>2</th>\n",
       "      <td>0.096206</td>\n",
       "      <td>0.097482</td>\n",
       "      <td>-0.001276</td>\n",
       "      <td>-0.000321</td>\n",
       "      <td>-0.000955</td>\n",
       "    </tr>\n",
       "    <tr>\n",
       "      <th>3</th>\n",
       "      <td>0.095075</td>\n",
       "      <td>0.096843</td>\n",
       "      <td>-0.001768</td>\n",
       "      <td>-0.000610</td>\n",
       "      <td>-0.001158</td>\n",
       "    </tr>\n",
       "    <tr>\n",
       "      <th>4</th>\n",
       "      <td>0.094514</td>\n",
       "      <td>0.096442</td>\n",
       "      <td>-0.001928</td>\n",
       "      <td>-0.000874</td>\n",
       "      <td>-0.001054</td>\n",
       "    </tr>\n",
       "  </tbody>\n",
       "</table>\n",
       "</div>"
      ],
      "text/plain": [
       "     EMA_12    EMA_26      MACD  Signal_Line  MACD_Histogram\n",
       "0  0.098726  0.098726  0.000000     0.000000        0.000000\n",
       "1  0.097934  0.098344 -0.000411    -0.000082       -0.000329\n",
       "2  0.096206  0.097482 -0.001276    -0.000321       -0.000955\n",
       "3  0.095075  0.096843 -0.001768    -0.000610       -0.001158\n",
       "4  0.094514  0.096442 -0.001928    -0.000874       -0.001054"
      ]
     },
     "execution_count": 29,
     "metadata": {},
     "output_type": "execute_result"
    }
   ],
   "source": [
    "df.loc[:,['EMA_12','EMA_26','MACD','Signal_Line','MACD_Histogram']].head()"
   ]
  },
  {
   "cell_type": "markdown",
   "metadata": {},
   "source": [
    "##### *Bollinger brand*"
   ]
  },
  {
   "cell_type": "markdown",
   "metadata": {},
   "source": [
    "**Bollinger Bands** are a volatility indicator that helps identify overbought and oversold conditions in a stock. They consist of three lines:\n",
    "\n",
    "- *Upper Band* = Moving Average + (2 × Standard Deviation)\n",
    "- *Middle Band* = Simple Moving Average (SMA) (default: 20-day)\n",
    "- *Lower Band* = Moving Average - (2 × Standard Deviation)"
   ]
  },
  {
   "cell_type": "code",
   "execution_count": 30,
   "metadata": {},
   "outputs": [],
   "source": [
    "df[\"SMA_20\"] = df[\"adj_close\"].ewm(span=20, adjust=False).mean()\n",
    "\n",
    "# Standard Deviation\n",
    "df[\"STD\"] = df[\"adj_close\"].ewm(span=20, adjust=False).std()\n",
    "\n",
    "# Calculate Bollinger Bands\n",
    "df[\"upper_band\"] = df[\"SMA_20\"] + (2 * df[\"STD\"])\n",
    "df[\"lower_band\"] = df[\"SMA_20\"] - (2 * df[\"STD\"])"
   ]
  },
  {
   "cell_type": "code",
   "execution_count": 31,
   "metadata": {},
   "outputs": [
    {
     "data": {
      "text/html": [
       "<div>\n",
       "<style scoped>\n",
       "    .dataframe tbody tr th:only-of-type {\n",
       "        vertical-align: middle;\n",
       "    }\n",
       "\n",
       "    .dataframe tbody tr th {\n",
       "        vertical-align: top;\n",
       "    }\n",
       "\n",
       "    .dataframe thead th {\n",
       "        text-align: right;\n",
       "    }\n",
       "</style>\n",
       "<table border=\"1\" class=\"dataframe\">\n",
       "  <thead>\n",
       "    <tr style=\"text-align: right;\">\n",
       "      <th></th>\n",
       "      <th>SMA_20</th>\n",
       "      <th>STD</th>\n",
       "      <th>upper_band</th>\n",
       "      <th>lower_band</th>\n",
       "    </tr>\n",
       "  </thead>\n",
       "  <tbody>\n",
       "    <tr>\n",
       "      <th>0</th>\n",
       "      <td>0.098726</td>\n",
       "      <td>NaN</td>\n",
       "      <td>NaN</td>\n",
       "      <td>NaN</td>\n",
       "    </tr>\n",
       "    <tr>\n",
       "      <th>1</th>\n",
       "      <td>0.098235</td>\n",
       "      <td>0.003642</td>\n",
       "      <td>0.105519</td>\n",
       "      <td>0.090951</td>\n",
       "    </tr>\n",
       "    <tr>\n",
       "      <th>2</th>\n",
       "      <td>0.097137</td>\n",
       "      <td>0.006568</td>\n",
       "      <td>0.110273</td>\n",
       "      <td>0.084001</td>\n",
       "    </tr>\n",
       "    <tr>\n",
       "      <th>3</th>\n",
       "      <td>0.096348</td>\n",
       "      <td>0.006505</td>\n",
       "      <td>0.109358</td>\n",
       "      <td>0.083339</td>\n",
       "    </tr>\n",
       "    <tr>\n",
       "      <th>4</th>\n",
       "      <td>0.095880</td>\n",
       "      <td>0.005946</td>\n",
       "      <td>0.107771</td>\n",
       "      <td>0.083989</td>\n",
       "    </tr>\n",
       "  </tbody>\n",
       "</table>\n",
       "</div>"
      ],
      "text/plain": [
       "     SMA_20       STD  upper_band  lower_band\n",
       "0  0.098726       NaN         NaN         NaN\n",
       "1  0.098235  0.003642    0.105519    0.090951\n",
       "2  0.097137  0.006568    0.110273    0.084001\n",
       "3  0.096348  0.006505    0.109358    0.083339\n",
       "4  0.095880  0.005946    0.107771    0.083989"
      ]
     },
     "execution_count": 31,
     "metadata": {},
     "output_type": "execute_result"
    }
   ],
   "source": [
    "df.loc[:, ['SMA_20', 'STD', 'upper_band', 'lower_band']].head()"
   ]
  },
  {
   "cell_type": "markdown",
   "metadata": {},
   "source": [
    "##### *Date*"
   ]
  },
  {
   "cell_type": "markdown",
   "metadata": {},
   "source": [
    "Splitting of date may help you find the seasonality and different trends in the data"
   ]
  },
  {
   "cell_type": "code",
   "execution_count": 32,
   "metadata": {},
   "outputs": [],
   "source": [
    "df[\"year\"] = df[\"date\"].dt.year\n",
    "df[\"month\"] = df[\"date\"].dt.month\n",
    "df[\"day\"] = df[\"date\"].dt.day\n",
    "df[\"weekday\"] = df[\"date\"].dt.weekday\n",
    "df[\"is_weekend\"] = (df[\"weekday\"] >= 5).astype(int) "
   ]
  },
  {
   "cell_type": "markdown",
   "metadata": {},
   "source": [
    "##### *Adding Seasonality*"
   ]
  },
  {
   "cell_type": "code",
   "execution_count": 42,
   "metadata": {},
   "outputs": [],
   "source": [
    "\n",
    "df[\"Fourier_Sin_7\"] = np.sin(2 * np.pi * df.date.dt.day_of_year / 7)\n",
    "df[\"Fourier_Cos_7\"] = np.cos(2 * np.pi * df.date.dt.day_of_year / 7)\n",
    "df[\"Fourier_Sin_30\"] = np.sin(2 * np.pi * df.date.dt.day_of_year / 30)\n",
    "df[\"Fourier_Cos_30\"] = np.cos(2 * np.pi * df.date.dt.day_of_year / 30)\n"
   ]
  },
  {
   "cell_type": "markdown",
   "metadata": {},
   "source": [
    "##### *Saving the feature constructed data*"
   ]
  },
  {
   "cell_type": "code",
   "execution_count": 44,
   "metadata": {},
   "outputs": [
    {
     "name": "stdout",
     "output_type": "stream",
     "text": [
      "<class 'pandas.core.frame.DataFrame'>\n",
      "Index: 11148 entries, 1 to 11148\n",
      "Data columns (total 35 columns):\n",
      " #   Column             Non-Null Count  Dtype         \n",
      "---  ------             --------------  -----         \n",
      " 0   date               11148 non-null  datetime64[ns]\n",
      " 1   close              11148 non-null  float64       \n",
      " 2   high               11148 non-null  float64       \n",
      " 3   low                11148 non-null  float64       \n",
      " 4   open               11148 non-null  float64       \n",
      " 5   volumn             11148 non-null  int64         \n",
      " 6   split_ratio        11148 non-null  float64       \n",
      " 7   adj_factor         11148 non-null  float64       \n",
      " 8   adj_close          11148 non-null  float64       \n",
      " 9   rolling_ma         11148 non-null  float64       \n",
      " 10  change             11148 non-null  float64       \n",
      " 11  gain               11148 non-null  float64       \n",
      " 12  loss               11148 non-null  float64       \n",
      " 13  avg_gain           11148 non-null  float64       \n",
      " 14  avg_loss           11148 non-null  float64       \n",
      " 15  relative_strength  11148 non-null  float64       \n",
      " 16  RSI                11148 non-null  float64       \n",
      " 17  EMA_12             11148 non-null  float64       \n",
      " 18  EMA_26             11148 non-null  float64       \n",
      " 19  MACD               11148 non-null  float64       \n",
      " 20  Signal_Line        11148 non-null  float64       \n",
      " 21  MACD_Histogram     11148 non-null  float64       \n",
      " 22  SMA_20             11148 non-null  float64       \n",
      " 23  STD                11148 non-null  float64       \n",
      " 24  upper_band         11148 non-null  float64       \n",
      " 25  lower_band         11148 non-null  float64       \n",
      " 26  year               11148 non-null  int32         \n",
      " 27  month              11148 non-null  int32         \n",
      " 28  day                11148 non-null  int32         \n",
      " 29  weekday            11148 non-null  int32         \n",
      " 30  is_weekend         11148 non-null  int32         \n",
      " 31  Fourier_Sin_7      11148 non-null  float64       \n",
      " 32  Fourier_Cos_7      11148 non-null  float64       \n",
      " 33  Fourier_Sin_30     11148 non-null  float64       \n",
      " 34  Fourier_Cos_30     11148 non-null  float64       \n",
      "dtypes: datetime64[ns](1), float64(28), int32(5), int64(1)\n",
      "memory usage: 2.8 MB\n"
     ]
    }
   ],
   "source": [
    "df.info()"
   ]
  },
  {
   "cell_type": "code",
   "execution_count": 45,
   "metadata": {},
   "outputs": [],
   "source": [
    "df.dropna(inplace=True)"
   ]
  },
  {
   "cell_type": "code",
   "execution_count": 46,
   "metadata": {},
   "outputs": [
    {
     "data": {
      "text/html": [
       "<div>\n",
       "<style scoped>\n",
       "    .dataframe tbody tr th:only-of-type {\n",
       "        vertical-align: middle;\n",
       "    }\n",
       "\n",
       "    .dataframe tbody tr th {\n",
       "        vertical-align: top;\n",
       "    }\n",
       "\n",
       "    .dataframe thead th {\n",
       "        text-align: right;\n",
       "    }\n",
       "</style>\n",
       "<table border=\"1\" class=\"dataframe\">\n",
       "  <thead>\n",
       "    <tr style=\"text-align: right;\">\n",
       "      <th></th>\n",
       "      <th>date</th>\n",
       "      <th>close</th>\n",
       "      <th>high</th>\n",
       "      <th>low</th>\n",
       "      <th>open</th>\n",
       "      <th>volumn</th>\n",
       "      <th>split_ratio</th>\n",
       "      <th>adj_factor</th>\n",
       "      <th>adj_close</th>\n",
       "      <th>rolling_ma</th>\n",
       "      <th>...</th>\n",
       "      <th>lower_band</th>\n",
       "      <th>year</th>\n",
       "      <th>month</th>\n",
       "      <th>day</th>\n",
       "      <th>weekday</th>\n",
       "      <th>is_weekend</th>\n",
       "      <th>Fourier_Sin_7</th>\n",
       "      <th>Fourier_Cos_7</th>\n",
       "      <th>Fourier_Sin_30</th>\n",
       "      <th>Fourier_Cos_30</th>\n",
       "    </tr>\n",
       "  </thead>\n",
       "  <tbody>\n",
       "    <tr>\n",
       "      <th>1</th>\n",
       "      <td>1980-12-15</td>\n",
       "      <td>0.093575</td>\n",
       "      <td>0.094005</td>\n",
       "      <td>0.093575</td>\n",
       "      <td>0.094005</td>\n",
       "      <td>175884800</td>\n",
       "      <td>1.0</td>\n",
       "      <td>1.0</td>\n",
       "      <td>0.093575</td>\n",
       "      <td>0.097789</td>\n",
       "      <td>...</td>\n",
       "      <td>0.090951</td>\n",
       "      <td>1980</td>\n",
       "      <td>12</td>\n",
       "      <td>15</td>\n",
       "      <td>0</td>\n",
       "      <td>0</td>\n",
       "      <td>-5.487903e-14</td>\n",
       "      <td>1.000000</td>\n",
       "      <td>-0.866025</td>\n",
       "      <td>-0.500000</td>\n",
       "    </tr>\n",
       "    <tr>\n",
       "      <th>2</th>\n",
       "      <td>1980-12-16</td>\n",
       "      <td>0.086707</td>\n",
       "      <td>0.087136</td>\n",
       "      <td>0.086707</td>\n",
       "      <td>0.087136</td>\n",
       "      <td>105728000</td>\n",
       "      <td>1.0</td>\n",
       "      <td>1.0</td>\n",
       "      <td>0.086707</td>\n",
       "      <td>0.095774</td>\n",
       "      <td>...</td>\n",
       "      <td>0.084001</td>\n",
       "      <td>1980</td>\n",
       "      <td>12</td>\n",
       "      <td>16</td>\n",
       "      <td>1</td>\n",
       "      <td>0</td>\n",
       "      <td>7.818315e-01</td>\n",
       "      <td>0.623490</td>\n",
       "      <td>-0.951057</td>\n",
       "      <td>-0.309017</td>\n",
       "    </tr>\n",
       "    <tr>\n",
       "      <th>3</th>\n",
       "      <td>1980-12-17</td>\n",
       "      <td>0.088853</td>\n",
       "      <td>0.089282</td>\n",
       "      <td>0.088853</td>\n",
       "      <td>0.088853</td>\n",
       "      <td>86441600</td>\n",
       "      <td>1.0</td>\n",
       "      <td>1.0</td>\n",
       "      <td>0.088853</td>\n",
       "      <td>0.094516</td>\n",
       "      <td>...</td>\n",
       "      <td>0.083339</td>\n",
       "      <td>1980</td>\n",
       "      <td>12</td>\n",
       "      <td>17</td>\n",
       "      <td>2</td>\n",
       "      <td>0</td>\n",
       "      <td>9.749279e-01</td>\n",
       "      <td>-0.222521</td>\n",
       "      <td>-0.994522</td>\n",
       "      <td>-0.104528</td>\n",
       "    </tr>\n",
       "    <tr>\n",
       "      <th>4</th>\n",
       "      <td>1980-12-18</td>\n",
       "      <td>0.091429</td>\n",
       "      <td>0.091858</td>\n",
       "      <td>0.091429</td>\n",
       "      <td>0.091429</td>\n",
       "      <td>73449600</td>\n",
       "      <td>1.0</td>\n",
       "      <td>1.0</td>\n",
       "      <td>0.091429</td>\n",
       "      <td>0.093955</td>\n",
       "      <td>...</td>\n",
       "      <td>0.083989</td>\n",
       "      <td>1980</td>\n",
       "      <td>12</td>\n",
       "      <td>18</td>\n",
       "      <td>3</td>\n",
       "      <td>0</td>\n",
       "      <td>4.338837e-01</td>\n",
       "      <td>-0.900969</td>\n",
       "      <td>-0.994522</td>\n",
       "      <td>0.104528</td>\n",
       "    </tr>\n",
       "    <tr>\n",
       "      <th>5</th>\n",
       "      <td>1980-12-19</td>\n",
       "      <td>0.097009</td>\n",
       "      <td>0.097438</td>\n",
       "      <td>0.097009</td>\n",
       "      <td>0.097009</td>\n",
       "      <td>48630400</td>\n",
       "      <td>1.0</td>\n",
       "      <td>1.0</td>\n",
       "      <td>0.097009</td>\n",
       "      <td>0.094510</td>\n",
       "      <td>...</td>\n",
       "      <td>0.085396</td>\n",
       "      <td>1980</td>\n",
       "      <td>12</td>\n",
       "      <td>19</td>\n",
       "      <td>4</td>\n",
       "      <td>0</td>\n",
       "      <td>-4.338837e-01</td>\n",
       "      <td>-0.900969</td>\n",
       "      <td>-0.951057</td>\n",
       "      <td>0.309017</td>\n",
       "    </tr>\n",
       "  </tbody>\n",
       "</table>\n",
       "<p>5 rows × 35 columns</p>\n",
       "</div>"
      ],
      "text/plain": [
       "        date     close      high       low      open     volumn  split_ratio  \\\n",
       "1 1980-12-15  0.093575  0.094005  0.093575  0.094005  175884800          1.0   \n",
       "2 1980-12-16  0.086707  0.087136  0.086707  0.087136  105728000          1.0   \n",
       "3 1980-12-17  0.088853  0.089282  0.088853  0.088853   86441600          1.0   \n",
       "4 1980-12-18  0.091429  0.091858  0.091429  0.091429   73449600          1.0   \n",
       "5 1980-12-19  0.097009  0.097438  0.097009  0.097009   48630400          1.0   \n",
       "\n",
       "   adj_factor  adj_close  rolling_ma  ...  lower_band  year  month  day  \\\n",
       "1         1.0   0.093575    0.097789  ...    0.090951  1980     12   15   \n",
       "2         1.0   0.086707    0.095774  ...    0.084001  1980     12   16   \n",
       "3         1.0   0.088853    0.094516  ...    0.083339  1980     12   17   \n",
       "4         1.0   0.091429    0.093955  ...    0.083989  1980     12   18   \n",
       "5         1.0   0.097009    0.094510  ...    0.085396  1980     12   19   \n",
       "\n",
       "   weekday  is_weekend  Fourier_Sin_7  Fourier_Cos_7  Fourier_Sin_30  \\\n",
       "1        0           0  -5.487903e-14       1.000000       -0.866025   \n",
       "2        1           0   7.818315e-01       0.623490       -0.951057   \n",
       "3        2           0   9.749279e-01      -0.222521       -0.994522   \n",
       "4        3           0   4.338837e-01      -0.900969       -0.994522   \n",
       "5        4           0  -4.338837e-01      -0.900969       -0.951057   \n",
       "\n",
       "   Fourier_Cos_30  \n",
       "1       -0.500000  \n",
       "2       -0.309017  \n",
       "3       -0.104528  \n",
       "4        0.104528  \n",
       "5        0.309017  \n",
       "\n",
       "[5 rows x 35 columns]"
      ]
     },
     "execution_count": 46,
     "metadata": {},
     "output_type": "execute_result"
    }
   ],
   "source": [
    "df.head()"
   ]
  },
  {
   "cell_type": "code",
   "execution_count": 47,
   "metadata": {},
   "outputs": [],
   "source": [
    "df.to_csv('Stocks2.csv', index = False)"
   ]
  }
 ],
 "metadata": {
  "kernelspec": {
   "display_name": "Python 3",
   "language": "python",
   "name": "python3"
  },
  "language_info": {
   "codemirror_mode": {
    "name": "ipython",
    "version": 3
   },
   "file_extension": ".py",
   "mimetype": "text/x-python",
   "name": "python",
   "nbconvert_exporter": "python",
   "pygments_lexer": "ipython3",
   "version": "3.11.4"
  }
 },
 "nbformat": 4,
 "nbformat_minor": 2
}
