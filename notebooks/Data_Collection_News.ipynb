{
 "cells": [
  {
   "cell_type": "markdown",
   "metadata": {},
   "source": [
    "#### **Import**"
   ]
  },
  {
   "cell_type": "code",
   "execution_count": 1,
   "metadata": {},
   "outputs": [],
   "source": [
    "import warnings\n",
    "import requests\n",
    "import numpy as np\n",
    "import pandas as pd\n",
    "from bs4 import BeautifulSoup\n",
    "\n",
    "warnings.filterwarnings('ignore')"
   ]
  },
  {
   "cell_type": "code",
   "execution_count": 4,
   "metadata": {},
   "outputs": [
    {
     "data": {
      "text/plain": [
       "array([[1, 1, 1, 1]])"
      ]
     },
     "execution_count": 4,
     "metadata": {},
     "output_type": "execute_result"
    }
   ],
   "source": [
    "np.array([1, 1, 1, 1]).reshape(1, -1)"
   ]
  },
  {
   "cell_type": "markdown",
   "metadata": {},
   "source": [
    "#### **Data Gathering and Cleaning**"
   ]
  },
  {
   "cell_type": "markdown",
   "metadata": {},
   "source": [
    "##### API data"
   ]
  },
  {
   "cell_type": "markdown",
   "metadata": {},
   "source": [
    "I am not using API data since I don't have paid plan to fetch enough data required for this project"
   ]
  },
  {
   "cell_type": "code",
   "execution_count": 79,
   "metadata": {},
   "outputs": [],
   "source": [
    "response = requests.get(\"https://newsapi.org/v2/everything?q=apple&from=2025-03-09&to=2025-04-09&sortBy=popularity&apiKey=4c48d0bffc7443e7a85ea78ae3bc640f\")\n",
    "# response = requests.get(\"https://www.alphavantage.co/query?function=NEWS_SENTIMENT&tickers=AAPL&apikey=BP6PQU06XN7TNL7O\")"
   ]
  },
  {
   "cell_type": "code",
   "execution_count": null,
   "metadata": {},
   "outputs": [],
   "source": []
  },
  {
   "cell_type": "code",
   "execution_count": 80,
   "metadata": {},
   "outputs": [],
   "source": [
    "response = requests.get(f\"https://newsapi.org/v2/everything?q=apple&from=2025-04-09&to=2025-04-10&sortBy=popularity&apiKey=4c48d0bffc7443e7a85ea78ae3bc640f\")\n",
    "\n",
    "soup = BeautifulSoup(response.content, 'html.parser')"
   ]
  },
  {
   "cell_type": "code",
   "execution_count": 97,
   "metadata": {},
   "outputs": [],
   "source": [
    "s= soup.get_text()"
   ]
  },
  {
   "cell_type": "code",
   "execution_count": 100,
   "metadata": {},
   "outputs": [],
   "source": [
    "d = json.loads(s)"
   ]
  },
  {
   "cell_type": "code",
   "execution_count": null,
   "metadata": {},
   "outputs": [],
   "source": [
    "for i in d['articles']:\n",
    "    print(i['title'])\n",
    "    # break"
   ]
  },
  {
   "cell_type": "code",
   "execution_count": 91,
   "metadata": {},
   "outputs": [],
   "source": [
    "for i in soup:\n",
    "    s = i\n",
    "    break"
   ]
  },
  {
   "cell_type": "code",
   "execution_count": 83,
   "metadata": {},
   "outputs": [
    {
     "data": {
      "text/plain": [
       "'{\"status\":\"ok\",\"totalResults\":1498,\"articles\":[{\"source\":{\"id\":null,\"name\":\"MacRumors\"},\"author\":\"Hartley Charlton\",\"title\":\"Key Apple Supplier Eyeing Production Move to US in Response to Tariffs\",\"description\":\"Apple supplier Luxshare is weighing the possibility of manufacturing some products in the United States as it seeks to address the implications of new tariffs on goods exported from China, Reuters reports.\\\\n\\\\n\\\\n\\\\n\\\\n\\\\nThe comments were made by Luxshare chairwoman Wa…\",\"url\":\"https://www.macrumors.com/2025/04/09/apple-supplier-eyeing-move-to-us/\",\"urlToImage\":\"https://images.macrumors.com/t/2HTpELVLXLYZFGeEUcTVCDGzZ6U=/2500x/article-new/2025/03/airpods-4-blue-hue.jpeg\",\"publishedAt\":\"2025-04-09T13:17:34Z\",\"content\":\"Apple supplier Luxshare is weighing the possibility of manufacturing some products in the United States as it seeks to address the implications of new tariffs on goods exported from China, Reuters re… [+1602 chars]\"},{\"source\":{\"id\":null,\"name\":\"MacRumors\"},\"author\":\"Mitchel Broussard\",\"title\":\"OWC\\'s Spring Savings Sale Includes Big Discounts on Mac Docks, Memory, Accessories, and More\",\"description\":\"OWC kicked off a new \\\\\"Spring Savings Celebration\\\\\" this week, offering solid discounts on a variety of USB-C docks, memory cards, external drives and enclosures, and Mac accessories. Many of these deals won\\'t be applied until you add the items to your cart, at…\",\"url\":\"https://www.macrumors.com/2025/04/09/owcs-spring-savings-sale/\",\"urlToImage\":\"https://images.macrumors.com/t/3Bol9vL22-A0BvTSRNG1gpUR1f8=/1920x/article-new/2024/04/owc-docks-white-logo.jpg\",\"publishedAt\":\"2025-04-09T14:19:10Z\",\"content\":\"OWC kicked off a new \\\\\"Spring Savings Celebration\\\\\" this week, offering solid discounts on a variety of USB-C docks, memory cards, external drives and enclosures, and Mac accessories. Many of these dea… [+990 chars]\"},{\"source\":{\"id\":null,\"name\":\"CNET\"},\"author\":\"Aly Lopez\",\"title\":\"I Swam Twice a Week for 3 Weeks to See if It Would Affect My Sleep. Here’s What Happened\",\"description\":\"Can regular swimming sessions help you sleep? I tried it out.\",\"url\":\"https://www.cnet.com/health/sleep/i-swam-twice-a-week-for-3-weeks-to-see-if-it-would-affect-my-sleep-heres-what-happened/\",\"urlToImage\":\"https://www.cnet.com/a/img/resize/d2f83e4a08916b94c3a80f3d2b0a6253d6fdd8c9/hub/2024/03/21/d704500c-8819-49cd-ab0d-2938af51bd49/img-4096.jpg?auto=webp&amp;fit=crop&amp;height=675&amp;width=1200\",\"publishedAt\":\"2025-04-09T04:12:00Z\",\"content\":\"If you\\'re an avid swimmer, you know the joy of getting in a few laps. Being in the water and reaching that rhythmic state is therapeutic. As someone who grew up across the street from my hometown\\'s p… [+6365 chars]\"},{\"source\":{\"id\":null,\"name\":\"MacRumors\"},\"author\":\"Tim Hardwick\",\"title\":\"Apple Dethroned by Microsoft As Top-Valued Company Amid Tariff Fears\",\"description\":\"Apple has lost its position as the world\\'s most valuable public company to Microsoft following a dramatic four-day slide in its stock price, driven largely by concerns over President Donald Trump\\'s escalating tariff war with China, where most of its iPhones a…\",\"url\":\"https://www.macrumors.com/2025/04/09/apple-loses-most-valuable-company/\",\"urlToImage\":\"https://images.macrumors.com/t/01PJDK4giliGBSuyRJCCe_GrZqY=/2500x/article-new/2021/05/Apple-vs-Microsoft-feature.jpg\",\"publishedAt\":\"2025-04-09T11:30:42Z\",\"content\":\"Apple has lost its position as the world\\'s most valuable public company to Microsoft following a dramatic four-day slide in its stock price, driven largely by concerns over President Donald Trump\\'s e… [+2909 chars]\"},{\"source\":{\"id\":null,\"name\":\"MacRumors\"},\"author\":\"Tim Hardwick\",\"title\":\"Leaked iPhone 17 Pro Cases Show Huge Cutout for New Camera Bump\",\"description\":\"Serial leaker Sonny Dickson is back today with a new image of some protective cases for Apple\\'s upcoming iPhone 17 Pro, and the large camera hole is certainly the standout feature on show.\\\\n\\\\n\\\\n\\\\n\\\\n\\\\nThe iPhone 17 Pro and 17 Pro Max are expected to debut a major re…\",\"url\":\"https://www.macrumors.com/2025/04/09/leaked-iphone-17-pro-cases-huge-cutout-camera-bump/\",\"urlToImage\":\"https://images.macrumors.com/t/H1u6LUu4r1JHyd_N9zCoBT2uwKk=/1920x/article-new/2025/04/iphone-17-pro-cases-sonny-dickson.jpg\",\"publishedAt\":\"2025-04-09T08:31:00Z\",\"content\":\"Serial leaker Sonny Dickson is back today with a new image of some protective cases for Apple\\'s upcoming iPhone 17 Pro, and the large camera hole is certainly the standout feature on show.\\\\r\\\\nThe iPhon… [+1412 chars]\"},{\"source\":{\"id\":\"business-insider\",\"name\":\"Business Insider\"},\"author\":\"Hallam Bullock\",\"title\":\"When you can expect price hikes — and how severe they may be\",\"description\":\"A slew of companies have talked about raising prices due to Trump\\'s tariffs, but prices might not rise immediately.\",\"url\":\"https://www.businessinsider.com/when-expect-prices-rise-hike-iphone-tariffs-stockpile-consumer-apple-2025-4\",\"urlToImage\":\"https://i.insider.com/67f64cd33fe8d39283628899?width=1200&amp;format=jpeg\",\"publishedAt\":\"2025-04-09T11:29:44Z\",\"content\":\"CFOTO/Future Publishing via Getty Images\\\\r\\\\n<ul><li>This post originally appeared in the Business Insider Today newsletter.</li><li>You can sign up for Business Insider\\'s daily newsletter here.</li><li>Trump\\'s new tariff policies have caused a ma… [+4958 chars]\"},{\"source\":{\"id\":null,\"name\":\"Hipertextual\"},\"author\":\"Alberto Martín\",\"title\":\"Apple ha encontrado la solución para hacer frente a los aranceles a China, pero es solo un parche\",\"description\":\"Apple (y toda la industria tecnológica) tiene un enorme problema con los aranceles y la guerra comercial entre China y EE.\\xa0UU. La administración Trump quiere que se fabriquen los iPhone en Estados Unidos, algo a corto plazo imposible, y las cosas para Apple s…\",\"url\":\"http://hipertextual.com/2025/04/apple-aranceles-trump\",\"urlToImage\":\"https://imgs.hipertextual.com/wp-content/uploads/2022/10/Apple-Tim-Cook.webp\",\"publishedAt\":\"2025-04-09T12:56:33Z\",\"content\":\"Apple (y toda la industria tecnológica) tiene un enorme problema con los aranceles y la guerra comercial entre China y EE.\\xa0UU. La administración Trump quiere que se fabriquen los iPhone en Estados Un… [+2660 chars]\"},{\"source\":{\"id\":null,\"name\":\"Hipertextual\"},\"author\":\"José María López\",\"title\":\"Cómo crear rutas para andar o correr en Google Maps o Apple Maps\",\"description\":\"Hay muchas maneras de desconectar del trabajo y del estrés diario que supone vivir en una ciudad o en una gran urbe. Y una de las que va ganando adeptos consiste en caminar, pasear o correr. Las rutas para andar y correr están a la orden del día. Y ya vivas e…\",\"url\":\"http://hipertextual.com/2025/04/rutas-andar-correr-apple-maps-google-maps\",\"urlToImage\":\"https://imgs.hipertextual.com/wp-content/uploads/2020/05/hipertextual-mejores-aplicaciones-salir-correr-2020538519.jpg\",\"publishedAt\":\"2025-04-09T09:59:41Z\",\"content\":\"Hay muchas maneras de desconectar del trabajo y del estrés diario que supone vivir en una ciudad o en una gran urbe. Y una de las que va ganando adeptos consiste en caminar, pasear o correr. Las ruta… [+6355 chars]\"},{\"source\":{\"id\":null,\"name\":\"Hipertextual\"},\"author\":\"Rubén Chicharro\",\"title\":\"Instagram pone fin a la mayor carencia de su app: una versión para el iPad\",\"description\":\"Instagram podría solucionar pronto uno de los principales problemas de la red social: no tener una aplicación para el iPad en condiciones. Según un nuevo reporte de The Information, la compañía podría estar preparando una app específica para las tablets de Ap…\",\"url\":\"http://hipertextual.com/2025/04/instagram-pone-fin-a-la-mayor-carencia-de-su-app-una-version-para-el-ipad\",\"urlToImage\":\"https://imgs.hipertextual.com/wp-content/uploads/2024/05/instagram-logo-scaled.jpg\",\"publishedAt\":\"2025-04-09T09:14:09Z\",\"content\":\"Instagram podría solucionar pronto uno de los principales problemas de la red social: no tener una aplicación para el iPad en condiciones. Según un nuevo reporte de The Information, la compañía podrí… [+1854 chars]\"},{\"source\":{\"id\":null,\"name\":\"Hipertextual\"},\"author\":\"Quelian Sanz\",\"title\":\"Android 16 llega hoy a los móviles Xiaomi: en todo el mundo y por sorpresa\",\"description\":\"Xiaomi quiere consolidarse como la marca referencia cuando se habla de actualizaciones. Tras lanzar HyperOS 2.0 en decenas de móviles, seguir con la versión 2.1 y volver a traer novedades con 2.2, ahora toca hablar de otro hito que llega por sorpresa. Como bi…\",\"url\":\"http://hipertextual.com/2025/04/android-16-llega-hoy-a-los-moviles-xiaomi-en-todo-el-mundo-y-por-sorpresa\",\"urlToImage\":\"https://imgs.hipertextual.com/wp-content/uploads/2025/02/android-16.jpg\",\"publishedAt\":\"2025-04-09T09:17:02Z\",\"content\":\"Xiaomi quiere consolidarse como la marca referencia cuando se habla de actualizaciones. Tras lanzar HyperOS 2.0 en decenas de móviles, seguir con la versión 2.1 y volver a traer novedades con 2.2, ah… [+2809 chars]\"},{\"source\":{\"id\":null,\"name\":\"Yahoo Entertainment\"},\"author\":\"Marco Quiroz-Gutierrez\",\"title\":\"Trump’s trade war has taken a $700 billion bite out of Apple as people wake up to the reality of how expensive an iPhone will be under the new tariffs\",\"description\":\"Apple produces around 90% of its iPhones in China, according to Wedbush Securities analysts.\",\"url\":\"https://finance.yahoo.com/news/trump-trade-war-taken-700-110500448.html\",\"urlToImage\":\"https://s.yimg.com/ny/api/res/1.2/tJ5zze68dGs1hHtQDVpM9Q--/YXBwaWQ9aGlnaGxhbmRlcjt3PTEyMDA7aD04MDA-/https://media.zenfs.com/en/fortune_175/bf907d51add980ced32897b5fbaee86f\",\"publishedAt\":\"2025-04-09T11:05:00Z\",\"content\":\"<ul><li>Apples market cap has plummeted by $700 billion as its stock takes a beating in the aftermath of Trumps liberation day tariffs. The company is uniquely exposed to Trumps tariffs on China, as … [+3294 chars]\"},{\"source\":{\"id\":null,\"name\":\"Xataka.com\"},\"author\":\"Alberto García\",\"title\":\"Si buscas un buen iPhone, mucho ojo a la última oferta de MediaMarkt en este modelo compatible con Apple Intelligence\",\"description\":\"MediaMarkt ha lanzado una nueva campaña, esta vez denominada \\\\\"Abril, ahorral\\\\\", en la que podemos encontrar ofertas muy buenas en móviles. Una de las mejores es la que tiene el iPhone 16, ya que por 839 euros nos encontramos ante un nuevo precio mínimo históri…\",\"url\":\"https://www.xataka.com/seleccion/buscas-buen-iphone-mucho-ojo-a-ultima-oferta-mediamarkt-este-modelo-compatible-apple-intelligence\",\"urlToImage\":\"https://i.blogs.es/39c6e4/iphone-16/840_560.jpeg\",\"publishedAt\":\"2025-04-09T13:30:17Z\",\"content\":\"MediaMarkt ha lanzado una nueva campaña, esta vez denominada \\\\\"Abril, ahorral\\\\\", en la que podemos encontrar ofertas muy buenas en móviles. Una de las mejores es la que tiene el iPhone 16, ya que por 8… [+1673 chars]\"},{\"source\":{\"id\":null,\"name\":\"Xataka.com\"},\"author\":\"Javier Lacort\",\"title\":\"El iPhone \\'made in USA\\' es ciencia-ficción. India es la única alternativa viable a China\",\"description\":\"La guerra comercial desatada por Trump está forzando a Apple a buscar alternativas para sus iPhone, sobre todo para los dedicados a Estados Unidos, con India surgiendo como la tabla de salvación frente a unos aranceles que amenazan con disparar los precios.\\\\n&lt;…\",\"url\":\"https://www.xataka.com/empresas-y-economia/iphone-made-in-usa-ciencia-ficcion-india-unica-alternativa-viable-a-china\",\"urlToImage\":\"https://i.blogs.es/b5c34c/india/840_560.jpeg\",\"publishedAt\":\"2025-04-09T11:30:16Z\",\"content\":\"La guerra comercial desatada por Trump está forzando a Apple a buscar alternativas para sus iPhone, sobre todo para los dedicados a Estados Unidos, con India surgiendo como la tabla de salvación fren… [+3530 chars]\"},{\"source\":{\"id\":null,\"name\":\"Xataka.com\"},\"author\":\"Ricardo Aguilar\",\"title\":\"Si la pregunta es \\\\\"cómo van a afectar los aranceles al precio de los móviles\\\\\", ninguna de las respuestas es optimista\",\"description\":\"Si te estás preguntando si los teléfonos van a subir de precio en este escenario de guerra arancelaria, la respuesta más honesta en un “no lo sabemos”. Pero la más predecible un “es prácticamente imposible que no lo hagan”. Apple y Samsung, dos de los princip…\",\"url\":\"https://www.xataka.com/empresas-y-economia/pregunta-como-van-a-afectar-aranceles-al-precio-moviles-ninguna-respuestas-optimista\",\"urlToImage\":\"https://i.blogs.es/2f03cd/1200_800-2-/840_560.jpeg\",\"publishedAt\":\"2025-04-09T16:00:16Z\",\"content\":\"Si te estás preguntando si los teléfonos van a subir de precio en este escenario de guerra arancelaria, la respuesta más honesta en un no lo sabemos. Pero la más predecible un es prácticamente imposi… [+5561 chars]\"},{\"source\":{\"id\":null,\"name\":\"Xataka.com\"},\"author\":\"Javier Pastor\",\"title\":\"Las Big Tech se lo han jugado todo a la IA. Los aranceles van a poner a prueba esa apuesta\",\"description\":\"La economía mundial hace aguas. El huracán geopolítico y económico llamado aranceles está afectando especialmente a las grandes empresas tecnológicas, que caen de forma notable en bolsa. Hay muchos problemas derivados de esa caída de valor de las Big Tech, pe…\",\"url\":\"https://www.xataka.com/robotica-e-ia/aranceles-han-hecho-que-valoracion-big-tech-se-hunda-muy-mala-senal-para-futuro-ia\",\"urlToImage\":\"https://i.blogs.es/1dd27a/bolsa/840_560.jpeg\",\"publishedAt\":\"2025-04-09T10:00:16Z\",\"content\":\"La economía mundial hace aguas. El huracán geopolítico y económico llamado aranceles está afectando especialmente a las grandes empresas tecnológicas, que caen de forma notable en bolsa. Hay muchos p… [+3249 chars]\"},{\"source\":{\"id\":null,\"name\":\"Xataka.com\"},\"author\":\"Ricardo Aguilar\",\"title\":\"Los aranceles de EEUU son un arma de destrucción masiva en la industria tech. Excepto para los móviles chinos\",\"description\":\"El arancel del 104% impuesto a China por la administración Trump va a sacudir los cimientos de la industria del smartphone. Apple y Samsung, los dos grandes actores del sector, basan buena parte de su estrategia de fabricación en países especialmente penaliza…\",\"url\":\"https://www.xataka.com/empresas-y-economia/moviles-chinos-frente-a-aranceles-estados-unidos-mejor-parados-esta-guerra\",\"urlToImage\":\"https://i.blogs.es/5fe33b/1200_800/840_560.jpeg\",\"publishedAt\":\"2025-04-09T12:00:16Z\",\"content\":\"El arancel del 104% impuesto a China por la administración Trump va a sacudir los cimientos de la industria del smartphone. Apple y Samsung, los dos grandes actores del sector, basan buena parte de s… [+4971 chars]\"},{\"source\":{\"id\":null,\"name\":\"Xataka.com\"},\"author\":\"Alberto de la Torre\",\"title\":\"Ford Capri, análisis: sus 400 kilómetros (reales) de autonomía y un gran comportamiento brillan sobre su colaboración con Volkswagen\",\"description\":\"Hay un término para explicar por qué solo nos quedamos con los mejores recuerdos de aquello que nos ha sucedido. Se llama retrospección idílica y es la causa de que olvidemos las peores canciones de nuestro grupo de música favorito, de que añoremos nuestra in…\",\"url\":\"https://www.xataka.com/movilidad/ford-capri-analisis-review-caracteristicas-precio-ficha-tecnica\",\"urlToImage\":\"https://i.blogs.es/bb246b/dscf4737/840_560.jpeg\",\"publishedAt\":\"2025-04-09T11:00:16Z\",\"content\":\"Hay un término para explicar por qué solo nos quedamos con los mejores recuerdos de aquello que nos ha sucedido. Se llama retrospección idílica y es la causa de que olvidemos las peores canciones de … [+12865 chars]\"},{\"source\":{\"id\":null,\"name\":\"Xataka.com\"},\"author\":\"Miguel Jorge\",\"title\":\"Imágenes por satélite revelan la dimensión de los tambores de guerra en China: la mayor base militar del planeta\",\"description\":\"Durante la Guerra Fría, la Unión Soviética se preparó para “lo peor” construyendo un gran número de bases subterráneas y bunkers, estructuras resistentes que pudieran hacer frente a ataques nucleares. En Alemania también cuentan con un gran número de estos ve…\",\"url\":\"https://www.xataka.com/magnet/imagenes-satelite-revelan-dimension-tambores-guerra-china-construyen-mayor-base-militar-planeta\",\"urlToImage\":\"https://i.blogs.es/4976bb/289560b158f55027c9073b7eaf28c35fa4f6e79c.avif/840_560.png\",\"publishedAt\":\"2025-04-09T09:30:16Z\",\"content\":\"Durante la Guerra Fría, la Unión Soviética se preparó para lo peor construyendo un gran número de bases subterráneas y bunkers, estructuras resistentes que pudieran hacer frente a ataques nucleares. … [+7412 chars]\"},{\"source\":{\"id\":null,\"name\":\"Xataka.com\"},\"author\":\"Miguel Jorge\",\"title\":\"EEUU ha detectado un objeto en el espacio con un comportamiento extraño. También ha localizado la fuente que lo liberó: Rusia\",\"description\":\"El año pasado hubo un dato que oficializaba que la retórica de la “guerra espacial” era un hecho. Se sabía, en algunos casos se intuía, que Estados Unidos, Rusia y China habían trasladado sus confrontaciones a cientos de kilómetros de la Tierra a través de su…\",\"url\":\"https://www.xataka.com/espacio/eeuu-ha-detectado-objeto-espacio-comportamiento-extrano-tambien-ha-localizado-fuente-que-libero-rusia\",\"urlToImage\":\"https://i.blogs.es/2951c2/satellites-in-orbit-1400x932-2/840_560.jpeg\",\"publishedAt\":\"2025-04-09T13:46:15Z\",\"content\":\"El año pasado hubo un dato que oficializaba que la retórica de la guerra espacial era un hecho. Se sabía, en algunos casos se intuía, que Estados Unidos, Rusia y China habían trasladado sus confronta… [+5667 chars]\"},{\"source\":{\"id\":null,\"name\":\"Gizmodo.com\"},\"author\":\"Joe Tilleli\",\"title\":\"The Apple Watch SE (2nd Gen) Dropped to Its Lowest Price Ever in a Variety of Colors\",\"description\":\"For a limited time, you can save 32% on the second generation Apple Watch SE.\",\"url\":\"https://gizmodo.com/the-apple-watch-se-2nd-gen-dropped-to-its-lowest-price-ever-in-a-variety-of-colors-2000586728\",\"urlToImage\":\"https://gizmodo.com/app/uploads/2025/04/AppleWatchSEs.jpg\",\"publishedAt\":\"2025-04-09T13:15:32Z\",\"content\":\"Looking to go to the gym more? Perhaps get better sleep? Well, let me be the one to tell you that the best way to achieve a goal youve set for your own self-improvement is to track it. Having data al… [+2156 chars]\"},{\"source\":{\"id\":null,\"name\":\"Gizmodo.com\"},\"author\":\"Cheryl Eddy\",\"title\":\"Murderbot‘s First Trailer Shows Off Its Wry Mechanical Protagonist\",\"description\":\"Alexander Skarsgård stars in Apple TV+\\'s sci-fi comedy series based on the Martha Wells books.\",\"url\":\"https://gizmodo.com/murderbot-trailer-apple-tv-alexander-skarsgard-2000586736\",\"urlToImage\":\"https://gizmodo.com/app/uploads/2025/04/Murderbot.jpg\",\"publishedAt\":\"2025-04-09T15:00:47Z\",\"content\":\"His name is “Murderbot,” and he doesn’t think much of humansbut the rogue security unit at the center of Apple TV+’s new sci-fi comedy thriller series is no rage-filled killing machine. He’s more of … [+1825 chars]\"},{\"source\":{\"id\":null,\"name\":\"Digital Trends\"},\"author\":\"Andy Boxall\",\"title\":\"The Galaxy S26 Ultra may get a brand new camera upgrade\",\"description\":\"Samsung may be working on fitting a brand new camera in place of an aging one for the Galaxy S26 Ultra.\",\"url\":\"https://www.digitaltrends.com/mobile/the-galaxy-s26-ultra-may-get-a-brand-new-camera-upgrade/\",\"urlToImage\":\"https://www.digitaltrends.com/wp-content/uploads/2025/03/s25-ultra-camera.jpg?resize=1200%2C630&amp;p=1\",\"publishedAt\":\"2025-04-09T09:21:57Z\",\"content\":\"Samsung may be working on upgrading the Galaxy S25 Ultra‘s already complex, high performance camera system for the Galaxy S26 Ultra, by replacing one of its multiple cameras with a brand new sensor. … [+2193 chars]\"},{\"source\":{\"id\":null,\"name\":\"Speedbumpapp.com\"},\"author\":\"Mario Ortiz Manero\",\"title\":\"The guide to reduce screen time\",\"description\":\"An extensive guide with over 40 ideas to learn how to reduce your screen time. Understand why, create new objectives, and leverage tools.\",\"url\":\"https://speedbumpapp.com/en/blog/how-to-reduce-screen-time/\",\"urlToImage\":\"https://speedbumpapp.com/assets/blog/social-media-timer/preview.jpg\",\"publishedAt\":\"2025-04-09T10:34:42Z\",\"content\":\"Completely quitting social media is getting less and less realistic. Platforms like Instagram or TikTok can be essential to connect with friends, but its easy to get hooked. Weve all been there: some… [+8987 chars]\"},{\"source\":{\"id\":null,\"name\":\"Governance.fyi\"},\"author\":\"Dave Deek, Kevin Hawickhorst\",\"title\":\"Work Simplification and the History of Government Efficiency and Management\",\"description\":\"A conversation with Kevin Hawickhorst on the evolution of government management practices and their implications for modern public administration.\",\"url\":\"https://www.governance.fyi/p/historical-government-efficiency\",\"urlToImage\":\"https://substackcdn.com/image/fetch/w_1200,h_600,c_fill,f_jpg,q_auto:good,fl_progressive:steep,g_auto/https%3A%2F%2Fsubstack-post-media.s3.amazonaws.com%2Fpublic%2Fimages%2Fd59cf866-155c-4129-bfc8-81c9be2765c4_1196x601.heic\",\"publishedAt\":\"2025-04-09T00:17:33Z\",\"content\":\"Dave Deek: Okay, recording has started. How\\'s your week been going?\\\\r\\\\nKevin Hawickhorst: My week\\'s been going pretty well. I\\'ve been scrambling to finish a submission for a magazine article, but I got… [+32934 chars]\"},{\"source\":{\"id\":null,\"name\":\"Sig7.se\"},\"author\":null,\"title\":\"The Barium Experiment\",\"description\":\"There’s been a lot of buzz about GUI stuff lately, which made mebriefly reflect on the state of the art and share something I’ve beenworking on as of late.\",\"url\":\"https://tomscii.sig7.se/2025/04/The-Barium-Experiment\",\"urlToImage\":null,\"publishedAt\":\"2025-04-09T00:44:22Z\",\"content\":\"Theres been a lot of buzz about GUI stuff lately, which made me\\\\r\\\\nbriefly reflect on the state of the art and share something Ive been\\\\r\\\\nworking on as of late.\\\\r\\\\nWhat\\'s this? Read on, it\\'s a bit of a st… [+27659 chars]\"},{\"source\":{\"id\":null,\"name\":\"heise online\"},\"author\":\"Ben Schwan\",\"title\":\"\\\\\"Request to Pay\\\\\": Apple Store erlaubt neue Bezahlmöglichkeit – mit Pferdefuß\",\"description\":\"Neben Kreditkarten oder PayPal kann man bei Apple nun auch per Überweisung zahlen – das Verfahren kommt von der Deutschen Bank.\",\"url\":\"https://www.heise.de/news/Request-to-Pay-Apple-Store-erlaubt-neue-Bezahlmoeglichkeit-mit-Pferdefuss-10341050.html\",\"urlToImage\":\"https://heise.cloudimg.io/bound/1200x1200/q85.png-lossy-85.webp-lossy-85.foil1/_www-heise-de_/imgs/18/4/8/3/1/9/2/9/appleonlinestore-713a3ef7a01dcfbf.png\",\"publishedAt\":\"2025-04-09T10:31:00Z\",\"content\":\"Apple hat in seinem deutschen Online-Laden eine neue Zahlungsoption eingeführt, mit der man direkt vom eigenen Bankkonto aus zahlen kann. Das Verfahren namens \\\\\"Request to Pay\\\\\" (R2P) wird mit dem Dien… [+2398 chars]\"},{\"source\":{\"id\":null,\"name\":\"heise online\"},\"author\":\"Sebastian Trepesch\",\"title\":\"heise+ | Apple AirTags: Batterielaufzeit, Flugzeugregeln, bewegte Objekte tracken,...\",\"description\":\"Ein AirTag führt ein unauffälliges Leben – bis man es mit Schlüsselbund verliert. Oder einen fremden Tracker findet. Oder eine Warnmeldung erhält. Unsere Tipps.\",\"url\":\"https://www.heise.de/ratgeber/Getaggt-und-geortet-Die-grosse-FAQ-zu-Apples-AirTag-10335069.html?wt_mc=rss.red.ho.ho.atom.beitrag_plus.beitrag_plus\",\"urlToImage\":\"https://heise.cloudimg.io/bound/1200x1200/q85.png-lossy-85.webp-lossy-85.foil1/_www-heise-de_/imgs/18/4/8/2/8/8/0/2/mi_25_02_tre_airtag_10_kamera_aufmcher_digital-6721d7dd3ddd34dd.jpg\",\"publishedAt\":\"2025-04-09T08:30:00Z\",\"content\":\"Inhaltsverzeichnis\\\\r\\\\nApples AirTags gehören zu den beliebtesten Produkten des iPhone-Herstellers. Die kleinen Bluetooth- und Ultra-Wideband-Tracker sind kostengünstig und auf viele Arten potenziell nü… [+908 chars]\"},{\"source\":{\"id\":null,\"name\":\"heise online\"},\"author\":\"Holger Zelder\",\"title\":\"heise+ | Entfesselter Sound: AirPods Max mit neuem USB-C-Audio-Update im Test\",\"description\":\"Per Update wertet Apple die USB-C-Version der AirPods Max auf: Musik lässt sich nun endlich per Kabel abspielen, sogar in verlustfreier Qualität. Lohnt sich\\'s?\",\"url\":\"https://www.heise.de/tests/Entfesselter-Sound-AirPods-Max-mit-neuem-USB-C-Audio-Update-im-Test-10343781.html?wt_mc=rss.red.ho.ho.atom.beitrag_plus.beitrag_plus\",\"urlToImage\":\"https://heise.cloudimg.io/bound/1200x1200/q85.png-lossy-85.webp-lossy-85.foil1/_www-heise-de_/imgs/18/4/8/3/3/3/5/0/IMG_9025-b4133d1bef986b1b.png\",\"publishedAt\":\"2025-04-09T05:30:00Z\",\"content\":\"Inhaltsverzeichnis\\\\r\\\\nZwar hat Apple schon im Herbst 2024 den Kopfhörer in einer leicht überarbeiteten Version veröffentlicht. Doch erst jetzt, mit einem Software-Update im April, lässt er seine Muskel… [+895 chars]\"},{\"source\":{\"id\":null,\"name\":\"heise online\"},\"author\":\"Andreas Floemer\",\"title\":\"Asus, Lenovo und Co.: Notebook-Hersteller setzen Lieferungen in die USA aus\",\"description\":\"Nach Razer und Framework setzen weitere große PC-Hersteller wie Lenovo, Asus und Co. den Warenverkehr in die USA aus.\",\"url\":\"https://www.heise.de/news/Asus-Lenovo-und-Co-Notebook-Hersteller-setzen-Lieferungen-in-die-USA-aus-10346243.html\",\"urlToImage\":\"https://heise.cloudimg.io/bound/1200x1200/q85.png-lossy-85.webp-lossy-85.foil1/_www-heise-de_/imgs/18/4/8/3/4/6/1/8/21957edc41622975ec65a255d7811fd4cddb4437e9ad70e33545c6f5fbe1d99b-2418542ff81df561-aade4c4bf327bc2a.jpeg\",\"publishedAt\":\"2025-04-09T13:20:00Z\",\"content\":\"Nach Framework und Razer setzen weitere große Notebook-Hersteller ihre Lieferungen in die USA aus. Zunächst nur temporär.\\\\r\\\\nMit dem Stichtag der einsetzenden massiven US-Strafzölle auf viele Produkte … [+2171 chars]\"},{\"source\":{\"id\":null,\"name\":\"heise online\"},\"author\":\"Frank Schräer\",\"title\":\"Mittwoch: Einbruch in US-Bankenaufsicht, TSMC vor Milliardenstrafe wegen Huawei\",\"description\":\"Bankenaufsicht bespitzelt + Strafe nach Exportverbot + FreeDOS in neuer Version + Commandos-Spiel angetestet + OpenSSL mit Post-Quanten-Verfahren + Bit-Rauschen\",\"url\":\"https://www.heise.de/news/Mittwoch-Einbruch-in-US-Bankenaufsicht-TSMC-vor-Milliardenstrafe-wegen-Huawei-10345422.html\",\"urlToImage\":\"https://heise.cloudimg.io/bound/1200x1200/q85.png-lossy-85.webp-lossy-85.foil1/_www-heise-de_/imgs/18/4/8/3/4/1/9/7/mittwoch-a27b92f6825411f8.webp\",\"publishedAt\":\"2025-04-09T04:15:00Z\",\"content\":\"Über ein Adminkonto drangen Unbekannte schon vor einiger Zeit beim Comptroller of the Currency ein. Sie konnten über fast zwei Jahre unbemerkt mitlesen, wie Geldwäsche und Terrorfinanzierung bekämpft… [+8005 chars]\"},{\"source\":{\"id\":null,\"name\":\"heise online\"},\"author\":\"Andreas Floemer\",\"title\":\"Nach Framework: Razer pausiert Direktverkauf von Notebooks in den USA\",\"description\":\"Die Trump-Zölle ziehen weitere Kreise im Tech-Sektor: Auch Razer pausiert den Direktverkauf in den USA.\",\"url\":\"https://www.heise.de/news/Nach-Framework-Razer-pausiert-Direktverkauf-von-Notebooks-in-den-USA-10345692.html\",\"urlToImage\":\"https://heise.cloudimg.io/bound/1200x1200/q85.png-lossy-85.webp-lossy-85.foil1/_www-heise-de_/imgs/18/4/8/3/4/3/3/3/razer-blade-16-us-store-404-af0959e5b1282bcc.png\",\"publishedAt\":\"2025-04-09T09:24:00Z\",\"content\":\"Nach Framework pausiert nun auch Razer den Direktverkauf in den USA, Grund sind die neuen Zölle. Wie The Verge berichtet, hat Razer den Verkauf des Blade 16 und weiterer Notebook-Modelle direkt von d… [+2119 chars]\"},{\"source\":{\"id\":null,\"name\":\"heise online\"},\"author\":\"Golo Roden\",\"title\":\"Docker, KI und der Model Runner: Hoffnungsschimmer oder Enttäuschung?\",\"description\":\"Docker Desktop 4.40 enthält den Model Runner als neues Feature – einen einfachen Weg, LLMs auszuführen. Wie funktioniert das, und wie ist es zu bewerten?\",\"url\":\"https://www.heise.de/blog/Docker-KI-und-der-Model-Runner-Hoffnungsschimmer-oder-Enttaeuschung-10341765.html?wt_mc=rss.red.ho.ho.atom.beitrag.beitrag\",\"urlToImage\":\"https://heise.cloudimg.io/bound/1200x1200/q85.png-lossy-85.webp-lossy-85.foil1/_www-heise-de_/imgs/18/4/8/3/2/2/8/9/shutterstock_2481115319-c7440e691332a510.jpg\",\"publishedAt\":\"2025-04-09T07:16:00Z\",\"content\":\"Inhaltsverzeichnis\\\\r\\\\nIch habe die Ankündigung von vergangener Woche zunächst für einen Aprilscherz gehalten aber sie ist tatsächlich wahr: Docker Desktop unterstützt ab Version 4.40 nun Large Language… [+9759 chars]\"},{\"source\":{\"id\":null,\"name\":\"heise online\"},\"author\":\"Detlef Borchers\",\"title\":\"Der Bürolutionär: Zum 100. Geburtstag von Heinz Nixdorf\",\"description\":\"Das weltgrößte Computermuseum HNF, der Heinz-Nixdorf-Ring. In Paderborn erinnert vieles an den Gründer aus Ostwestfalen. Heinz Nixdorf wäre nun 100 Jahre alt.\",\"url\":\"https://www.heise.de/hintergrund/Der-Buerolutionaer-Zum-100-Geburtstag-von-Heinz-Nixdorf-10344567.html?wt_mc=rss.red.ho.ho.atom.beitrag.beitrag\",\"urlToImage\":\"https://heise.cloudimg.io/bound/1200x1200/q85.png-lossy-85.webp-lossy-85.foil1/_www-heise-de_/imgs/18/4/8/3/3/7/5/3/Screenshot_2025-04-08_132153-28660548894ef788.png\",\"publishedAt\":\"2025-04-09T07:12:00Z\",\"content\":\"Inhaltsverzeichnis\\\\r\\\\nVor 100 Jahren wurde Heinz Nixdorf in Paderborn geboren. Mit Elektrorechnern, die das Saldieren und Kontieren der Buchhaltung erleichterten, gehörte seine Firma zu den Betrieben, … [+12410 chars]\"},{\"source\":{\"id\":null,\"name\":\"9to5Mac\"},\"author\":\"Justin Kahn\",\"title\":\"Deals: M4 MacBook Air from $890, Apple Pencil Pro $88, $100 off Apple Watch Series 10, more\",\"description\":\"While Amazon is still offering some deep clearance pricing on the M3 MacBook Air with 15-inch models at up to $550 under the original prices, we also spotted some notable chances to save on the most affordable new M4 model today. Best Buy’s open-box listings …\",\"url\":\"https://9to5mac.com/2025/04/09/deals-macbook-air-apple-pencil-apple-watch-series-10/\",\"urlToImage\":\"https://i0.wp.com/9to5mac.com/wp-content/uploads/sites/6/2025/04/Apple-deals-M4-MacBook-Air-Apple-Pencil-Pro.jpg?resize=1200%2C628&amp;quality=82&amp;strip=all&amp;ssl=1\",\"publishedAt\":\"2025-04-09T15:45:20Z\",\"content\":\"While Amazon is still offering some deep clearance pricing on the M3 MacBook Air with 15-inch models at up to $550 under the original prices, we also spotted some notable chances to save on the most … [+8131 chars]\"},{\"source\":{\"id\":null,\"name\":\"9to5Mac\"},\"author\":\"Benjamin Mayo\",\"title\":\"Apple TV+ subscription available at a 70% discount for a limited time\",\"description\":\"Apple TV+ is available here at 70% off for a limited time, as part of a new promotion the company is running. \\\\n\\\\n\\\\n\\\\nFrom now until April 24, new and returning subscribers can get Apple TV+ for just $2.99 per month for three months. The special offer is timed to…\",\"url\":\"https://9to5mac.com/2025/04/09/apple-tv-plus-offer-save-seventy-percent-subscription/\",\"urlToImage\":\"https://i0.wp.com/9to5mac.com/wp-content/uploads/sites/6/2025/04/apple-tv-plus-subscription-offer.jpg?resize=1200%2C628&amp;quality=82&amp;strip=all&amp;ssl=1\",\"publishedAt\":\"2025-04-09T09:45:34Z\",\"content\":\"Apple TV+ is available here at 70% off for a limited time, as part of a new promotion the company is running. \\\\r\\\\nFrom now until April 24, new and returning subscribers can get Apple TV+ for just $2.99… [+1521 chars]\"},{\"source\":{\"id\":null,\"name\":\"9to5Mac\"},\"author\":\"Chance Miller\",\"title\":\"Apple supplier eyes US shift for highly automated production\",\"description\":\"A new report from Reuters today says that Apple supplier Luxshare is considering moving some production outside of China, including to the United States, in response to Trump’s tariffs. \\\\n\\\\n\\\\n\\\\n more…\",\"url\":\"https://9to5mac.com/2025/04/09/apple-supplier-eyes-us-shift-for-highly-automated-production/\",\"urlToImage\":\"https://i0.wp.com/9to5mac.com/wp-content/uploads/sites/6/2024/09/Apple-Watch-Series-10-reviews.jpg?resize=1200%2C628&amp;quality=82&amp;strip=all&amp;ssl=1\",\"publishedAt\":\"2025-04-09T13:40:27Z\",\"content\":\"A new report from Reuters today says that Apple supplier Luxshare is considering moving some production outside of China, including to the United States, in response to Trump’s tariffs. \\\\r\\\\nAccording t… [+2373 chars]\"},{\"source\":{\"id\":null,\"name\":\"9to5Mac\"},\"author\":\"Ryan Christoffel\",\"title\":\"Apple TV+ has a teen problem, even as iPhone dominates\",\"description\":\"Apple TV+ has been finding more mainstream success of late, fueled by the popularity of hits like Severance and The Studio. But there’s one demographic that, per a new survey, is not tuned in to TV+: teens.\\\\n\\\\n\\\\n\\\\n more…\",\"url\":\"https://9to5mac.com/2025/04/09/apple-tv-has-a-teen-problem-even-as-iphone-dominates/\",\"urlToImage\":\"https://i0.wp.com/9to5mac.com/wp-content/uploads/sites/6/2022/10/apple-tv-plus-shadowy-header.jpg?resize=1200%2C628&amp;quality=82&amp;strip=all&amp;ssl=1\",\"publishedAt\":\"2025-04-09T14:35:44Z\",\"content\":\"Apple TV+ has been finding more mainstream success of late, fueled by the popularity of hits like Severance and The Studio. But theres one demographic that, per a new survey, is not tuned in to TV+: … [+1374 chars]\"},{\"source\":{\"id\":null,\"name\":\"9to5Mac\"},\"author\":\"Ryan Christoffel\",\"title\":\"Analyst believes Apple will ‘absorb most of the cost’ of tariffs, but price hikes still coming\",\"description\":\"Massive tariffs imposed by President Trump on the rest of the globe went into effect today. Amidst significant economic uncertainty, many are wondering what this means for the cost of goods in the US—including Apple’s products like the iPhone. One analyst lay…\",\"url\":\"https://9to5mac.com/2025/04/09/analyst-believes-apple-will-absorb-most-of-the-cost-of-tariffs-but-price-hikes-still-coming/\",\"urlToImage\":\"https://i0.wp.com/9to5mac.com/wp-content/uploads/sites/6/2024/06/slack-imgs.jpg?resize=1200%2C628&amp;quality=82&amp;strip=all&amp;ssl=1\",\"publishedAt\":\"2025-04-09T13:49:43Z\",\"content\":\"Massive tariffs imposed by President Trump on the rest of the globe went into effect today. Amidst significant economic uncertainty, many are wondering what this means for the cost of goods in the US… [+1727 chars]\"},{\"source\":{\"id\":null,\"name\":\"9to5Mac\"},\"author\":\"Ryan Christoffel\",\"title\":\"Murderbot looks like a hilarious sci-fi winner for Apple TV+, here’s the trailer\",\"description\":\"Following Severance’s success, Apple TV+ has been rolling out compelling new shows one after another. And coming soon is Murderbot, a new sci-fi dark comedy that could be one of the best yet based on its just-released trailer.\\\\n\\\\n\\\\n\\\\n more…\",\"url\":\"https://9to5mac.com/2025/04/09/murderbot-looks-like-a-hilarious-sci-fi-winner-for-apple-tv-heres-the-trailer/\",\"urlToImage\":\"https://i0.wp.com/9to5mac.com/wp-content/uploads/sites/6/2025/02/murderbot-alexander.jpg?resize=1200%2C628&amp;quality=82&amp;strip=all&amp;ssl=1\",\"publishedAt\":\"2025-04-09T15:51:54Z\",\"content\":\"Following Severances success, Apple TV+ has been rolling out compelling new shows one after another. And coming soon is Murderbot, a new sci-fi dark comedy that could be one of the best yet based on … [+1705 chars]\"},{\"source\":{\"id\":null,\"name\":\"9to5Mac\"},\"author\":\"Ryan Christoffel\",\"title\":\"New iPad ‘Fold’ on track for launch next year, says analyst\",\"description\":\"Rumors about next year’s iPhone Fold have increased of late, but not much has been leaked about Apple’s other big foldable device in the works. Now, despite some reports stating a later timeline, a new analyst note says the 18.8-inch iPad ‘Fold’ is on track f…\",\"url\":\"https://9to5mac.com/2025/04/09/new-ipad-fold-on-track-for-launch-next-year-says-analyst/\",\"urlToImage\":\"https://i0.wp.com/9to5mac.com/wp-content/uploads/sites/6/2024/08/folding-ipad-rumor.jpg?resize=1200%2C628&amp;quality=82&amp;strip=all&amp;ssl=1\",\"publishedAt\":\"2025-04-09T15:15:27Z\",\"content\":\"Rumors about next years iPhone Fold have increased of late, but not much has been leaked about Apples other big foldable device in the works. Now, despite some reports stating a later timeline, a new… [+1565 chars]\"},{\"source\":{\"id\":null,\"name\":\"9to5Mac\"},\"author\":\"Zac Hall\",\"title\":\"iPhone 17 Pro cases show just how massive the new camera bar will be\",\"description\":\"Sonny Dickson has shared a real world photo of two clear cases purportedly for the iPhone 17 Pro series due out this fall. We’ve been expecting the rear camera bump to expand across the width of the phone, and these cases show just how mountain range-sized th…\",\"url\":\"https://9to5mac.com/2025/04/09/iphone-17-pro-cases-show-just-how-massive-the-new-camera-bar-will-be/\",\"urlToImage\":\"https://i0.wp.com/9to5mac.com/wp-content/uploads/sites/6/2025/04/IMG_3920_2ae671.jpeg?resize=1200%2C628&amp;quality=82&amp;strip=all&amp;ssl=1\",\"publishedAt\":\"2025-04-09T12:54:18Z\",\"content\":\"Sonny Dickson has shared a real world photo of two clear cases purportedly for the iPhone 17 Pro series due out this fall. Weve been expecting the rear camera bump to expand across the width of the p… [+1159 chars]\"},{\"source\":{\"id\":null,\"name\":\"9to5Mac\"},\"author\":\"Michael Burkhardt\",\"title\":\"Some iPhone 17 Pro cases may look a little different than we thought\",\"description\":\"A new image shared on social media today by leaker Majin Bu provides an… interesting look at iPhone 17 Pro cases. They might not all necessarily look what we initially expected.\\\\n\\\\n\\\\n\\\\n more…\",\"url\":\"https://9to5mac.com/2025/04/09/iphone-17-pro-new-case-leak/\",\"urlToImage\":\"https://i0.wp.com/9to5mac.com/wp-content/uploads/sites/6/2024/09/iPhone-17-Pro-expected-to-get-a-2nm-chip.webp?resize=1200%2C628&amp;quality=82&amp;strip=all&amp;ssl=1\",\"publishedAt\":\"2025-04-09T15:36:09Z\",\"content\":\"A new image shared on social media today by leaker Majin Bu provides an… interesting look at iPhone 17 Pro cases. They might not all necessarily look what we initially expected.\\\\r\\\\niPhone 17 Pro is goi… [+1282 chars]\"},{\"source\":{\"id\":null,\"name\":\"Genbeta.com\"},\"author\":\"José Alberto Lizana\",\"title\":\"EEUU ya aplica el arancel del 104% sobre China. Apple ya ha sufrido sus consecuencias y ha perdido el título de compañía más valiosa\",\"description\":\"A las seis de la mañana de este miércoles, han entrado en vigor los nuevos aranceles impuestos por Donald Trump: un 20 % para la Unión Europea y un contundente 104 % para todas las importaciones procedentes de China. Este último porcentaje fue anunciado ayer …\",\"url\":\"https://www.genbeta.com/actualidad/eeuu-aplica-arancel-104-china-apple-ha-sufrido-sus-consecuencias-ha-perdido-titulo-compania-valiosa\",\"urlToImage\":\"https://i.blogs.es/e8acc2/apple-bolsa/840_560.jpeg\",\"publishedAt\":\"2025-04-09T07:10:23Z\",\"content\":\"A las seis de la mañana de este miércoles, han entrado en vigor los nuevos aranceles impuestos por Donald Trump: un 20 % para la Unión Europea y un contundente 104 % para todas las importaciones proc… [+2949 chars]\"},{\"source\":{\"id\":null,\"name\":\"Genbeta.com\"},\"author\":\"José Alberto Lizana\",\"title\":\"Cómo crear un muñeco de acción personalizado con tu cara y sus complementos gratis con ChatGPT\",\"description\":\"La inteligencia artificial ha evolucionado hasta el punto de generar increíbles imágenes con diferentes estilos como Stilo Ghibli. Pero la gente ha ido más allá, al crear un clásico muñeco de acción personalizado con nuestras propias caras y sus complementos.…\",\"url\":\"https://www.genbeta.com/paso-a-paso/como-crear-muneco-accion-personalizado-tu-cara-sus-complementos-gratis-chatgpt\",\"urlToImage\":\"https://i.blogs.es/7c5614/portada/840_560.jpeg\",\"publishedAt\":\"2025-04-09T07:30:20Z\",\"content\":\"La inteligencia artificial ha evolucionado hasta el punto de generar increíbles imágenes con diferentes estilos como Stilo Ghibli. Pero la gente ha ido más allá, al crear un clásico muñeco de acción … [+2311 chars]\"},{\"source\":{\"id\":null,\"name\":\"AppleInsider\"},\"author\":\"news@appleinsider.com (William Gallagher)\",\"title\":\"Apple\\'s airlifting imports to beat tariff deadline included Macs\",\"description\":\"Alongside its emergency importing of iPhones before tariffs hugely increased costs, Apple is now said to have also had Macs airlifted into the US.A pallet of iPhones being loaded onto a plane in 2024 — image credit SDI LogisticsWith the extra China tariff now…\",\"url\":\"https://appleinsider.com/articles/25/04/09/apples-airlifting-imports-to-beat-tariff-deadline-included-macs\",\"urlToImage\":\"https://photos5.appleinsider.com/gallery/63264-131448-000-lede-Air-Freight-xl.jpg\",\"publishedAt\":\"2025-04-09T12:14:56Z\",\"content\":\"Alongside its emergency importing of iPhones before tariffs hugely increased costs, Apple is now said to have also had Macs airlifted into the US.\\\\r\\\\nWith the extra China tariff now in force, Apple is … [+3831 chars]\"},{\"source\":{\"id\":null,\"name\":\"AppleInsider\"},\"author\":\"news@appleinsider.com (William Gallagher and Mike Wuerthele)\",\"title\":\"Don\\'t read too much into reports about Luxshare moving to the US\",\"description\":\"A quote from the CEO of Luxshare is firing up speculation that AirPods production will move to the US, but the scaffolding of the statement is too flimsy to hold the weight of the guesswork.Luxshare\\'s existing US office near Apple Park — image credit: Apple M…\",\"url\":\"https://appleinsider.com/articles/25/04/09/dont-read-too-much-into-reports-about-luxshare-moving-to-the-us\",\"urlToImage\":\"https://photos5.appleinsider.com/gallery/63266-131450-000-lede-Luxshare-xl.jpg\",\"publishedAt\":\"2025-04-09T15:19:57Z\",\"content\":\"A quote from the CEO of Luxshare is firing up speculation that AirPods production will move to the US, but the scaffolding of the statement is too flimsy to hold the weight of the guesswork.\\\\r\\\\nDespite… [+5253 chars]\"},{\"source\":{\"id\":null,\"name\":\"AppleInsider\"},\"author\":\"news@appleinsider.com (Malcolm Owen)\",\"title\":\"iPhone still coveted by teens, but other Apple products not so much\",\"description\":\"Teenagers overwhelmingly continue to want their next smartphone to be an iPhone, a survey about the youth of America\\'s spending habits reveals.A pair of iPhonesApple\\'s products are a highly popular collection on the market, and that is especially so for teena…\",\"url\":\"https://appleinsider.com/articles/25/04/09/iphone-still-coveted-by-teens-but-other-apple-products-not-so-much\",\"urlToImage\":\"https://photos5.appleinsider.com/gallery/63262-131447-61663-127504-iPhone-15-and-iPhone-15-Plus-on-Couch-Displays-xl-xl.jpg\",\"publishedAt\":\"2025-04-09T12:02:43Z\",\"content\":\"Teenagers overwhelmingly continue to want their next smartphone to be an iPhone, a survey about the youth of America\\'s spending habits reveals. \\\\r\\\\nApple\\'s products are a highly popular collection on t… [+3195 chars]\"},{\"source\":{\"id\":null,\"name\":\"AppleInsider\"},\"author\":\"news@appleinsider.com (Andrew Orr)\",\"title\":\"Your next iPhone might cost more but Apple may bet you won\\'t notice much\",\"description\":\"With a 104% tariff now in effect on Chinese-made iPhone models, Apple is bracing for higher costs — but instead of raising prices outright, it may make changes it hopes you may not see.iPhone 16 lineupThe tariff, enacted on Wednesday, combines a 20 percent ba…\",\"url\":\"https://appleinsider.com/articles/25/04/09/your-next-iphone-might-cost-more-but-apple-may-bet-you-wont-notice-much\",\"urlToImage\":\"https://photos5.appleinsider.com/gallery/63267-131453-IMG_0467-xl.jpg\",\"publishedAt\":\"2025-04-09T15:33:16Z\",\"content\":\"With a 104% tariff now in effect on Chinese-made iPhone models, Apple is bracing for higher costs — but instead of raising prices outright, it may make changes it hopes you may not see.\\\\r\\\\nThe tariff, … [+3981 chars]\"},{\"source\":{\"id\":null,\"name\":\"AppleInsider\"},\"author\":\"news@appleinsider.com (Mike Wuerthele and Malcolm Owen)\",\"title\":\"Apple faces more share price battering as China fights back on U.S. tariffs\",\"description\":\"Apple\\'s stock will face another tumultuous day as markets fear China\\'s and the European Union\\'s reciprocal tariff increases could get another Trump reaction.Tim Cook visits Luxshare factory in China in 2017 - Image Credit: AppleThe tit-for-tat tariff battle h…\",\"url\":\"https://appleinsider.com/articles/25/04/09/apple-faces-more-share-price-battering-as-china-fights-back-on-us-tariffs\",\"urlToImage\":\"https://photos5.appleinsider.com/gallery/63265-131449-52519-104895-000-lead-Tim-Cook-at-Luxshare-xl-xl.jpg\",\"publishedAt\":\"2025-04-09T13:33:49Z\",\"content\":\"Apple\\'s stock will face another tumultuous day as markets fear China\\'s and the European Union\\'s reciprocal tariff increases could get another Trump reaction. \\\\r\\\\nThe tit-for-tat tariff battle has wreak… [+3865 chars]\"},{\"source\":{\"id\":null,\"name\":\"AppleInsider\"},\"author\":\"news@appleinsider.com (Malcolm Owen)\",\"title\":\"Trump\\'s 104% tariff against imports from China goes live\",\"description\":\"The United States is now applying 104% import tariffs against goods imported from China, that will eventually make all Apple hardware dramatically more expensive.Apple CEO Tim Cook [left] with Donald Trump [right] at a Mac Pro factoryFollowing Trump\\'s impleme…\",\"url\":\"https://appleinsider.com/articles/25/04/09/trumps-104-tariff-against-imports-from-china-goes-live\",\"urlToImage\":\"https://photos5.appleinsider.com/gallery/63259-131435-62457-129482-62049-128509-untitled-xl-xl-1-xl.jpg\",\"publishedAt\":\"2025-04-09T05:33:54Z\",\"content\":\"The United States is now applying 104% import tariffs against goods imported from China, that will eventually make all Apple hardware dramatically more expensive.\\\\r\\\\nFollowing Trump\\'s implementation of… [+3991 chars]\"},{\"source\":{\"id\":null,\"name\":\"AppleInsider\"},\"author\":\"news@appleinsider.com (William Gallagher)\",\"title\":\"Leaked iPhone 17 Pro case again shows enlarged camera bump\",\"description\":\"A new leak purporting to show an iPhone 17 Pro protective case, has backed up the continuing rumors that Apple has considerably redesigned the rear camera system.Close up on the camera bump cutout on the purported iPhone 17 Pro case leak — image credit: Sonny…\",\"url\":\"https://appleinsider.com/articles/25/04/09/leaked-iphone-17-pro-case-again-shows-enlarged-camera-bump\",\"urlToImage\":\"https://photos5.appleinsider.com/gallery/63263-131444-000-lead-case-leak-xl.jpg\",\"publishedAt\":\"2025-04-09T11:23:30Z\",\"content\":\"A new leak purporting to show an iPhone 17 Pro protective case, has backed up the continuing rumors that Apple has considerably redesigned the rear camera system.\\\\r\\\\nRumors that the forthcoming iPhone … [+1799 chars]\"},{\"source\":{\"id\":null,\"name\":\"AppleInsider\"},\"author\":\"news@appleinsider.com (Christine McKee)\",\"title\":\"This M4 iPad Pro is $200 off at Amazon, but supply is limited\",\"description\":\"Apple\\'s latest M4 iPad Pro 13-inch is $200 off at Amazon, but limited supply remains at the reduced price.Save $200 on Apple\\'s M4 iPad Pro 13-inch.You can grab the $200 markdown on the 2TB 13-inch iPad Pro with an M4 chip in Space Black. This high-capacity Wi…\",\"url\":\"https://appleinsider.com/articles/25/04/09/this-m4-ipad-pro-is-200-off-at-amazon-but-supply-is-limited\",\"urlToImage\":\"https://photos5.appleinsider.com/gallery/62461-129483-ipad-pro-13-inch-m4-space-black-price-cut-2025-xl.jpg\",\"publishedAt\":\"2025-04-09T14:47:04Z\",\"content\":\"Apple\\'s latest M4 iPad Pro 13-inch is $200 off at Amazon, but limited supply remains at the reduced price.\\\\r\\\\nYou can grab the $200 markdown on the 2TB 13-inch iPad Pro with an M4 chip in Space Black. … [+1025 chars]\"},{\"source\":{\"id\":null,\"name\":\"Cheezburger.com\"},\"author\":\"Lana DeGaetano, Lana DeGaetano\",\"title\":\"‘This is NOT normal’: 24-year-old married woman removes parental tracking from her phone after parents judge her comings and goings, they unjustifiably retaliate\",\"description\":\"The digital age has made space for an era of cyberstalking. Sure, new inventions and general technological innovation are major assets in this era of humanity, but some of technology\\'s tools should not be accessible to individuals who will misuse them. Heck, …\",\"url\":\"https://cheezburger.com/40039685/this-is-not-normal-24-year-old-married-woman-removes-parental-tracking-from-her-phone-after-parents\",\"urlToImage\":\"https://i.chzbgr.com/thumb1200/40039685/h04A1E0F9/fail-parents-entitled-parents-entitled-people-reddit-thread-reddit-story-aita-bad-parenting\",\"publishedAt\":\"2025-04-09T14:00:00Z\",\"content\":\"The digital age has made space for an era of cyberstalking. Sure, new inventions and general technological innovation are major assets in this era of humanity, but some of technology\\'s tools should n… [+1081 chars]\"},{\"source\":{\"id\":null,\"name\":\"Gizmodo.jp\"},\"author\":\"ヤマダユウス型\",\"title\":\"【噂まとめ】iPhone 17 Airのすべて。薄いスマホは最高じゃんね？（4月9日更新）\",\"description\":\"Image:shutterstock「持ちやすさ」は重要なはず。2025年にはiPhone17シリーズが登場します。毎年恒例であればiPhone17、iPhone17Plus、iPhone17Pro、iPhone17ProMaxの4種類が登場するでしょう。しかし、今年は薄型に特化したiPhone17Airなる新モデルの登場が噂されています。なんならPlusモデルと入れ替わりで導入されるかも？「Ai\",\"url\":\"https://www.gizmodo.jp/2025/04/iphone17air-rumor-matome-2025.html\",\"urlToImage\":\"https://media.loom-app.com/gizmodo/dist/images/2025/01/23/shutterstock_2519916943.jpg?w=1280&amp;h=630&amp;f=jpg\",\"publishedAt\":\"2025-04-09T10:45:00Z\",\"content\":\"2025iPhone 17iPhone 17iPhone 17 PlusiPhone 17 ProiPhone 17 Pro Max4\\\\r\\\\niPhone 17 AirPlus\\\\r\\\\nAiriPad AirMacBook AiriPhoneiPhone\\\\r\\\\niPhone 17 AirProPro\\\\r\\\\niPhone 17 AirAir\\\\r\\\\niPhone 17 Air\\\\r\\\\niPhone92iPhone 162024… [+736 chars]\"},{\"source\":{\"id\":null,\"name\":\"Microsiervos.com\"},\"author\":\"alvy@microsiervos.com (Alvy)\",\"title\":\"Text-wrap: pretty y otras técnicas CSS para hacer más bonito el texto de las páginas web\",\"description\":\"Hace poco una anotación sobre los subrayados me recordó poderosamente la evolución de la justificación del texto, esa técnica centenaria que actúa como un acordeón con las palabras y los espacios que hay entre ellas – a veces incluso con el interletraje– alin…\",\"url\":\"https://www.microsiervos.com/archivo/internet/text-wrap-pretty-y-otras-tecnicas-css-para-hacer-mas-bonito-el-texto-de-las-paginas-web.html\",\"urlToImage\":\"https://img.microsiervos.com/images2025/headline.jpg\",\"publishedAt\":\"2025-04-09T08:55:09Z\",\"content\":\"Por @Alvy 9 de abril de 2025\\\\r\\\\nHace poco una anotación sobre los subrayados me recordó poderosamente la evolución de la justificación del texto, esa técnica centenaria que actúa como un acordeón con l… [+4730 chars]\"},{\"source\":{\"id\":null,\"name\":\"Journal du geek\"},\"author\":\"Julie Hay\",\"title\":\"“Les humains sont des idiots”, Apple TV+ revient déjà à la SF\",\"description\":\"C\\'est officiel, Apple TV+ a fait de la science-fiction son fond de commerce... et ce n\\'est pas pour nous déplaire.\",\"url\":\"https://www.journaldugeek.com/2025/04/09/les-humains-sont-des-idiots-apple-tv-revient-deja-a-la-sf/\",\"urlToImage\":\"https://www.journaldugeek.com/app/uploads/2025/04/murderbot-apple-tv-plus.jpg\",\"publishedAt\":\"2025-04-09T15:34:33Z\",\"content\":\"Après la dystopie Silo, la fresque ambitieuse Fondation et l’ovni Severance, Apple TV+ espère tenir son nouveau succès d’estime (les audiences c’est pas encore ça) avec Murderbots. Cette fois-ci, la … [+2139 chars]\"},{\"source\":{\"id\":null,\"name\":\"Journal du geek\"},\"author\":\"Tristan Carballeda\",\"title\":\"Apple prépare des produits pliants (iPhone, iPad et MacBook) à quoi vont-ils ressembler\\xa0?\",\"description\":\"La firme de Cupertino a bien envie de développer une large gamme de produits pliants. De l\\'iPhone au MacBook en passant par l\\'iPad.\",\"url\":\"https://www.journaldugeek.com/2025/04/09/apple-prepare-des-produits-pliants-iphone-ipad-et-macbook-a-quoi-vont-ils-ressembler/\",\"urlToImage\":\"https://www.journaldugeek.com/app/uploads/2025/04/apple-insider-macbook-pliant.jpg\",\"publishedAt\":\"2025-04-09T08:31:39Z\",\"content\":\"Les rumeurs ne s’arrêtent plus autour de l’iPhone pliant “Fold”. Le téléphone, qui pourrait faire son arrivée entre nos mains en fin d’année 2027, est très attendu. Mais les dernières informations à … [+2656 chars]\"},{\"source\":{\"id\":null,\"name\":\"Journal du geek\"},\"author\":\"Journal du Geek\",\"title\":\"iPhone 16e\\xa0: le dernier smartphone d’Apple est déjà à prix déglingué, aujourd’hui seulement\",\"description\":\"L\\'iPhone 16e est le dernier-né d\\'Apple, et pourtant, il fait déjà l\\'objet d\\'une remise ultra généreuse sur Rakuten. Les promos sur les produits de la firme américaine se font rares, surtout sur des produits aussi récents. Il ne faut donc pas rater cette occas…\",\"url\":\"https://www.journaldugeek.com/bon-plan/iphone-16e-le-dernier-smartphone-dapple-est-deja-a-prix-deglingue-aujourdhui-seulement/\",\"urlToImage\":\"https://www.journaldugeek.com/app/uploads/2025/03/Apple-iPhone-16e-front-and-back.jpg\",\"publishedAt\":\"2025-04-09T12:19:29Z\",\"content\":\"Seulement aujourd’hui, l’iPhone 16e (128 Go) passe effectivement à 584 euros au lieu de 719 euros. Soit une remise de 135 euros. Profiter d’une remise aussi significative sur le dernier smartphone d’… [+3540 chars]\"},{\"source\":{\"id\":null,\"name\":\"Applesfera.com\"},\"author\":\"Guille Lomener\",\"title\":\"Apple TV+ lanza su mejor oferta: así puedes llevarte tres meses al 50% de descuento y disfrutar de sus grandes éxitos como Separación o Silo\",\"description\":\"Apple TV+ está en su mejor momento, y no es para menos. Con éxitos como Separación y Silo dominando los rankings de las series más vistas, y la esperadísima cuarta temporada de Ted Lasso generando gran expectación, la plataforma ha dado un paso definitivo par…\",\"url\":\"https://www.applesfera.com/apple-tv/apple-tv-lanza-su-mejor-oferta-asi-puedes-llevarte-tres-meses-al-50-descuento-disfrutar-sus-grandes-exitos-como-separacion-silo\",\"urlToImage\":\"https://i.blogs.es/3f939a/descuento-apple-tv/840_560.jpeg\",\"publishedAt\":\"2025-04-09T14:00:21Z\",\"content\":\"Apple TV+ está en su mejor momento, y no es para menos. Con éxitos como Separación y Silo dominando los rankings de las series más vistas, y la esperadísima cuarta temporada de Ted Lasso generando gr… [+3812 chars]\"},{\"source\":{\"id\":null,\"name\":\"Applesfera.com\"},\"author\":\"Isra Fdez\",\"title\":\"El problema de Apple no son solo los aranceles. El cerebro de cada iPhone, Mac e iPad depende de llevarse bien con China\",\"description\":\"La globalización es una necesidad, o que se lo digan a Apple: el diseño de sus iPhone nace en Estados Unidos, la fabricación pasa por Taiwán, el embalaje pasa por Malasia y Corea del Sur y el ensamblaje final vuelve a China, India y Vietnam. Varios giros, en …\",\"url\":\"https://www.applesfera.com/iphone/problema-apple-no-solo-aranceles-cerebro-cada-iphone-mac-e-ipad-depende-llevarse-bien-china\",\"urlToImage\":\"https://i.blogs.es/696328/chip-iphone-china/840_560.jpeg\",\"publishedAt\":\"2025-04-09T12:00:16Z\",\"content\":\"La globalización es una necesidad, o que se lo digan a Apple: el diseño de sus iPhone nace en Estados Unidos, la fabricación pasa por Taiwán, el embalaje pasa por Malasia y Corea del Sur y el ensambl… [+6566 chars]\"},{\"source\":{\"id\":null,\"name\":\"Applesfera.com\"},\"author\":\"Alberto García\",\"title\":\"Este iPhone nunca ha estado tan barato en Amazon. Una de las mejores formas de tener casi lo último, pero por menos dinero\",\"description\":\"Llevamos unos meses muy interesantes en cuanto a ofertas en dispositivos de Apple. No son poco los descuentos que hemos visto por el momento en iPhone, iPad y MacBook, sobre todo. Y, ahora, le ha vuelto a tocar el turno al iPhone 15, cuyo precio ha caído en A…\",\"url\":\"https://www.applesfera.com/seleccion/este-iphone-nunca-ha-estado-barato-amazon-mejores-formas-tener-casi-ultimo-dinero\",\"urlToImage\":\"https://i.blogs.es/8ad4a4/iphone-15/840_560.jpeg\",\"publishedAt\":\"2025-04-09T10:30:16Z\",\"content\":\"Llevamos unos meses muy interesantes en cuanto a ofertas en dispositivos de Apple. No son poco los descuentos que hemos visto por el momento en iPhone, iPad y MacBook, sobre todo. Y, ahora, le ha vue… [+1614 chars]\"},{\"source\":{\"id\":null,\"name\":\"Applesfera.com\"},\"author\":\"Álvaro García M.\",\"title\":\"Entra en vigor el arancel del 104% a China y golpea a la economía mundial. Apple es la gran damnificada\",\"description\":\"A mediados de la pasada semana, Estados Unidos presentó sus nuevas tasas arancelarias para multitud de países que quisiesen importar productos en su territorio. China fue una de las mayores damnificadas con un 34%. China devolvió el golpe con aranceles recípr…\",\"url\":\"https://www.applesfera.com/apple-1/entra-vigor-arancel-104-a-china-golpea-a-economia-mundial-apple-gran-damnificada\",\"urlToImage\":\"https://i.blogs.es/bebf1a/trump/840_560.jpeg\",\"publishedAt\":\"2025-04-09T09:12:09Z\",\"content\":\"A mediados de la pasada semana, Estados Unidos presentó sus nuevas tasas arancelarias para multitud de países que quisiesen importar productos en su territorio. China fue una de las mayores damnifica… [+5314 chars]\"},{\"source\":{\"id\":null,\"name\":\"Applesfera.com\"},\"author\":\"Álvaro García M.\",\"title\":\"Esta tienda vendía AirPods de segunda mano en Madrid a precio de ganga. Hasta que comprobaron que no eran de Apple\",\"description\":\"Encontrarse unos AirPods por 40 euros es cuando menos tentador y más si son unos AirPods Pro 2, cuyo precio oficial en Apple es de 279 euros. De ahí que lo sucedido recientemente en una conocida tienda madrileña haya despertado el interés de la Policía Munici…\",\"url\":\"https://www.applesfera.com/airpods/esta-tienda-vendia-airpods-segunda-mano-madrid-a-precio-ganga-que-comprobaron-que-no-eran-apple\",\"urlToImage\":\"https://i.blogs.es/291038/airpods/840_560.jpeg\",\"publishedAt\":\"2025-04-09T15:00:16Z\",\"content\":\"Encontrarse unos AirPods por 40 euros es cuando menos tentador y más si son unos AirPods Pro 2, cuyo precio oficial en Apple es de 279 euros. De ahí que lo sucedido recientemente en una conocida tien… [+3874 chars]\"},{\"source\":{\"id\":null,\"name\":\"Applesfera.com\"},\"author\":\"Guille Lomener\",\"title\":\"Trump cree que los iPhones pueden fabricarse en EE.UU. Para Apple no tiene sentido y el dinero no es el verdadero problema\",\"description\":\"La idea de fabricar un iPhone completamente en Estados Unidos ha estado dando vueltas durante años en las mentes más proteccionistas de USA. Y con Donald Trump como presidente, y con unos aranceles del 104 % a China, su gobierno insiste en que Apple debería t…\",\"url\":\"https://www.applesfera.com/apple-1/trump-cree-que-iphones-pueden-fabricarse-ee-uu-para-apple-no-tiene-sentido-dinero-no-verdadero-problema\",\"urlToImage\":\"https://i.blogs.es/db35dc/trump/840_560.jpeg\",\"publishedAt\":\"2025-04-09T10:10:19Z\",\"content\":\"La idea de fabricar un iPhone completamente en Estados Unidos ha estado dando vueltas durante años en las mentes más proteccionistas de USA. Y con Donald Trump como presidente, y con unos aranceles d… [+7959 chars]\"},{\"source\":{\"id\":null,\"name\":\"Applesfera.com\"},\"author\":\"Guille Lomener\",\"title\":\"Así será el iPhone 17 Pro según estas 9 filtraciones. Y sí, también en base a una de las primeras fundas filtradas\",\"description\":\"El iPhone 17 Pro comienza a tomar forma, y esta vez las filtraciones no son solo rumores difusos: ya tenemos imágenes de fundas para este próximo modelo. Aunque siempre hay que tomar con cautela este tipo de información, estas fundas encajan a la perfección c…\",\"url\":\"https://www.applesfera.com/rumores/asi-sera-iphone-17-pro-estas-9-filtraciones-tambien-base-a-primeras-fundas-filtradas\",\"urlToImage\":\"https://i.blogs.es/577662/gn242ivwoaaulpn/840_560.jpeg\",\"publishedAt\":\"2025-04-09T16:00:16Z\",\"content\":\"El iPhone 17 Pro comienza a tomar forma, y esta vez las filtraciones no son solo rumores difusos: ya tenemos imágenes de fundas para este próximo modelo. Aunque siempre hay que tomar con cautela este… [+6049 chars]\"},{\"source\":{\"id\":null,\"name\":\"Applesfera.com\"},\"author\":\"Álvaro García M.\",\"title\":\"Si te vas de vacaciones fuera de España, también debes preparar tu iPhone: nueve consejos para no quedarte tirado\",\"description\":\"Da igual cuando viajes, pero si lo haces especialmente en esta Semana Santa, dada su proximidad, conviene que empieces a preparar tu iPhone para el viaje, sobre todo si va a ser fuera de España. Es un dispositivo perfectamente capacitado para funcionar en cua…\",\"url\":\"https://www.applesfera.com/tutoriales/te-vas-vacaciones-fuera-espana-tambien-debes-preparar-tu-iphone-nueve-consejos-para-no-quedarte-tirado\",\"urlToImage\":\"https://i.blogs.es/22de25/avion/840_560.jpeg\",\"publishedAt\":\"2025-04-09T07:22:49Z\",\"content\":\"Da igual cuando viajes, pero si lo haces especialmente en esta Semana Santa, dada su proximidad, conviene que empieces a preparar tu iPhone para el viaje, sobre todo si va a ser fuera de España. Es u… [+6811 chars]\"},{\"source\":{\"id\":null,\"name\":\"Applesfera.com\"},\"author\":\"Álvaro García M.\",\"title\":\"Tras 15 años renegando de ello, un desarrollador de Instagram se acuerda de los usuarios en iPad\",\"description\":\"Ambos nacieron a la par. Uno en enero de 2010, el primer iPad. El otro, en octubre del mismo, Instagram. Sin embargo, nunca habían convivido o no al menos de una forma cómoda para el usuario. La versión de Instagram en iPadOS es un desastre por no estar optim…\",\"url\":\"https://www.applesfera.com/aplicaciones-ipados/15-anos-renegando-ello-desarrollador-instagram-se-acuerda-usuarios-ipad\",\"urlToImage\":\"https://i.blogs.es/0c1bd2/instagram/840_560.jpeg\",\"publishedAt\":\"2025-04-09T11:00:16Z\",\"content\":\"Ambos nacieron a la par. Uno en enero de 2010, el primer iPad. El otro, en octubre del mismo, Instagram. Sin embargo, nunca habían convivido o no al menos de una forma cómoda para el usuario. La vers… [+2574 chars]\"},{\"source\":{\"id\":null,\"name\":\"Phandroid - News for Android\"},\"author\":\"Tyler Lee\",\"title\":\"Pixel 10 Pro XL price hike could shake up Google’s lineup\",\"description\":\"The Pixel 10 Pro XL price might see a jump by $100, making buyers think twice between Google\\'s flagship phones.\\\\nThe post Pixel 10 Pro XL price hike could shake up Google’s lineup appeared first on Phandroid.\",\"url\":\"https://phandroid.com/2025/04/09/pixel-10-pro-xl-price-hike-could-shake-up-googles-lineup/\",\"urlToImage\":\"https://phandroid.com/wp-content/uploads/2024/08/pixel-9-and-9-pro-10.jpg\",\"publishedAt\":\"2025-04-09T06:23:17Z\",\"content\":\"Looks like the Pixel 10 Pro XL price is going up. A source close to the matter tells Android Headlines that Google is planning around a $100 increase for the Pro XL model. If that holds, the phone wi… [+1086 chars]\"},{\"source\":{\"id\":null,\"name\":\"Phandroid - News for Android\"},\"author\":\"Mike Viray\",\"title\":\"Vivo will Launch a Camera Kit Alongside the Vivo X200 Ultra\",\"description\":\"It launches on April 21.\\\\nThe post Vivo will Launch a Camera Kit Alongside the Vivo X200 Ultra appeared first on Phandroid.\",\"url\":\"https://phandroid.com/2025/04/09/vivo-will-launch-a-camera-kit-alongside-the-vivo-x200-ultra/\",\"urlToImage\":\"https://phandroid.com/wp-content/uploads/2025/04/vivo-x200-ultra-2.png\",\"publishedAt\":\"2025-04-09T09:30:18Z\",\"content\":\"While a lot of the major smartphone brands such as Samsung and Apple are sticking to tried-and-true hardware designs for their cameras, we’ve seen a lot more innovation from Chinese manufacturers suc… [+927 chars]\"},{\"source\":{\"id\":null,\"name\":\"Webdesignerdepot.com\"},\"author\":\"Noah Davis\",\"title\":\"Thin Fonts Are a Usability Nightmare—And Finally, Designers Are Waking Up\",\"description\":\"Thin fonts may look sleek, but they’re a usability nightmare—hard to read, inaccessible, and especially frustrating on mobile. Thankfully, some brands and websites are finally ditching them in favor of thicker, more readable typography that actually puts user…\",\"url\":\"https://webdesignerdepot.com/thin-fonts-are-a-usability-nightmare-and-finally-designers-are-waking-up/\",\"urlToImage\":\"https://webdesignerdepot-wp.s3.us-east-2.amazonaws.com/2025/02/28165959/thin.jpg\",\"publishedAt\":\"2025-04-09T04:07:00Z\",\"content\":\"Thin fonts are like that trendy minimalist couch that looks amazing in photos but is absolutely terrible to sit on. Designers have obsessed over them for years, treating them as a symbol of elegance,… [+5893 chars]\"},{\"source\":{\"id\":null,\"name\":\"DIYphotography\"},\"author\":\"Anzalna Siddiqui\",\"title\":\"How Final Cut Pro 11.1 Packs Power in a Small Update?\",\"description\":\"Final Cut Pro spent the past decade playing catch-up with Premiere Pro and DaVinci Resolve, but Apple doesn’t seems to give up the ship quite...\\\\nThe post How Final Cut Pro 11.1 Packs Power in a Small Update? appeared first on DIY Photography.\",\"url\":\"https://www.diyphotography.net/how-final-cut-pro-11-1-packs-power-in-a-small-update/\",\"urlToImage\":\"https://www.diyphotography.net/wp-content/uploads/2025/04/final-cut-pro-11-1-update.webp\",\"publishedAt\":\"2025-04-09T11:16:33Z\",\"content\":\"Final Cut Pro spent the past decade playing catch-up with Premiere Pro and DaVinci Resolve, but Apple doesnt seems to give up the ship quite yet. The new Final Cut Pro 11.1 update introduces some enh… [+3710 chars]\"},{\"source\":{\"id\":null,\"name\":\"Presse-citron\"},\"author\":\"Tristan Carballeda\",\"title\":\"Comment Microsoft a sauvé Apple avec 150 millions de dollars\\xa0?\",\"description\":\"Avant d\\'être le géant que nous connaissons, Apple a eu de grosses difficultés financières, sauvée in extremis par Microsoft.\",\"url\":\"https://www.presse-citron.net/comment-microsoft-a-sauve-apple-avec-150-millions-de-dollars/\",\"urlToImage\":\"https://www.presse-citron.net/app/uploads/2024/07/steve-jobs.jpg\",\"publishedAt\":\"2025-04-09T11:32:56Z\",\"content\":\"Tout le monde connaît Apple. La marque, fondée par Steve Jobs il y a près de 50 ans et lune des entreprises les plus prospères au monde. Mais avant dêtre le géant incontestable daujourdhui, Apple a c… [+2997 chars]\"},{\"source\":{\"id\":null,\"name\":\"Golem.de\"},\"author\":\"Simon Krebs\",\"title\":\"Anzeige: Apple Mac Mini mit M4 jetzt zum niedrigsten Preis sichern\",\"description\":\"Den M4 von Apple gibt es auch im kompakten Format. Im Mac Mini steckt volle Apple-Power, die zurzeit besonders günstig erhältlich ist. (Mac Mini, Apple)\",\"url\":\"https://www.golem.de/sonstiges/zustimmung/auswahl.html?from=https%3A%2F%2Fwww.golem.de%2Fnews%2Fanzeige-apple-mac-mini-mit-m4-jetzt-zum-niedrigsten-preis-sichern-2504-195189.html&amp;referer=https%3A%2F%2Ft.co%2F5b4bceddc6\",\"urlToImage\":null,\"publishedAt\":\"2025-04-09T13:54:01Z\",\"content\":\"Besuchen Sie Golem.de wie gewohnt mit Werbung und Tracking,\\\\r\\\\n indem Sie der Nutzung aller Cookies zustimmen.\\\\r\\\\n Details zum Tracking finden Sie im Privacy Center.\\\\r\\\\nSkript wurde nicht geladen. Informat… [+607 chars]\"},{\"source\":{\"id\":null,\"name\":\"Golem.de\"},\"author\":\"Andreas Donath\",\"title\":\"Zölle: Trump will iPhones in den USA produzieren lassen\",\"description\":\"Trump glaubt: Die 104-prozentigen Zölle auf Wareneinfuhren aus China könnte Apple umgehen, wenn iPhones in den USA hergestellt würden. (iPhone, Apple)\",\"url\":\"https://www.golem.de/sonstiges/zustimmung/auswahl.html?from=https%3A%2F%2Fwww.golem.de%2Fnews%2Fzoelle-trump-will-iphones-in-den-usa-produzieren-lassen-2504-195160.html&amp;referer=https%3A%2F%2Ft.co%2F647472b610\",\"urlToImage\":null,\"publishedAt\":\"2025-04-09T05:30:01Z\",\"content\":\"Besuchen Sie Golem.de wie gewohnt mit Werbung und Tracking,\\\\r\\\\n indem Sie der Nutzung aller Cookies zustimmen.\\\\r\\\\n Details zum Tracking finden Sie im Privacy Center.\\\\r\\\\nSkript wurde nicht geladen. Informat… [+607 chars]\"},{\"source\":{\"id\":null,\"name\":\"XDA Developers\"},\"author\":\"Rich Edmonds\",\"title\":\"Out of all NAS brands, I always return to Synology\",\"description\":\"There are a few good reasons why Synology is the most popular NAS brand.\",\"url\":\"https://www.xda-developers.com/why-i-keep-coming-back-to-synology/\",\"urlToImage\":\"https://static1.xdaimages.com/wordpress/wp-content/uploads/wm/2024/07/synology-nas-xda-website-hero.jpg\",\"publishedAt\":\"2025-04-09T16:00:19Z\",\"content\":\"I\\'m one to use custom-built network-attached storage (NAS) over prebuilt turnkey enclosures from brands, but there are times when using one makes sense. If you\\'re new to the wonderful world of NAS or… [+6332 chars]\"},{\"source\":{\"id\":null,\"name\":\"Xataka Android\"},\"author\":\"Noelia Hontoria\",\"title\":\"El sencillo botón de Android que iOS no tiene y pone en evidencia las diferencias en la multitarea\",\"description\":\"Las diferencias entre iOS y Android son más que evidentes, pero, más allá de las diferencias de estilo, existen botones especiales que pueden hacer que usemos nuestro teléfono de un modo muy distinto. ¿Un ejemplo? El botón con el que matamos la multitarea.\\\\n<!--…\",\"url\":\"https://www.xatakandroid.com/moviles-android/sencillo-boton-android-que-ios-no-tiene-pone-evidencia-diferencias-multitarea\",\"urlToImage\":\"https://i.blogs.es/aa5e00/brown-yellow-modern-happy-father-s-day-photo-collage-4-/840_560.jpeg\",\"publishedAt\":\"2025-04-09T16:00:16Z\",\"content\":\"Las diferencias entre iOS y Android son más que evidentes, pero, más allá de las diferencias de estilo, existen botones especiales que pueden hacer que usemos nuestro teléfono de un modo muy distinto… [+2277 chars]\"},{\"source\":{\"id\":null,\"name\":\"Xataka Android\"},\"author\":\"Noelia Hontoria\",\"title\":\"Con este sencillo truco de Google Wallet no volverás a equivocarte de tarjeta al pagar. Así puedes hacerlo\",\"description\":\"No cabe duda que Google Wallet\\\\r\\\\n es uno de los recursos más útiles que tenemos en nuestros móviles Android. En esta cartera digital podemos llevar nuestras tarjetas bancarias, las tarjetas de embarque del avión\\\\r\\\\n y hasta la Ikea Family.\\\\n<!-- BREAK 1 ---->\\\\nPara …\",\"url\":\"https://www.xatakandroid.com/tutoriales/este-sencillo-truco-google-wallet-no-volveras-a-equivocarte-tarjeta-al-pagar-asi-puedes-hacerlo\",\"urlToImage\":\"https://i.blogs.es/f08f73/google-wallet/840_560.jpeg\",\"publishedAt\":\"2025-04-09T07:31:02Z\",\"content\":\"No cabe duda que Google Wallet\\\\r\\\\n es uno de los recursos más útiles que tenemos en nuestros móviles Android. En esta cartera digital podemos llevar nuestras tarjetas bancarias, las tarjetas de embarqu… [+2251 chars]\"},{\"source\":{\"id\":null,\"name\":\"Xataka Android\"},\"author\":\"Pepu Ricca\",\"title\":\"Los nuevos aranceles de Trump tienen una víctima hasta ahora desconocida. Google está en el medio del fuego cruzado\",\"description\":\"Los aranceles que Donald Trump ha impuesto a las importaciones de Estados Unidos empiezan a causar estragos en la industria. No sabemos a ciencia cierta cuánto pagaremos por nuestro próximo móvil, pero los analistas apuntan a una subida agresiva en el precio …\",\"url\":\"https://www.xatakandroid.com/google/nuevos-aranceles-trump-tienen-victima-ahora-desconocida-google-esta-medio-fuego-cruzado\",\"urlToImage\":\"https://i.blogs.es/9974f1/aranceles-usa-google/840_560.jpeg\",\"publishedAt\":\"2025-04-09T11:50:14Z\",\"content\":\"Los aranceles que Donald Trump ha impuesto a las importaciones de Estados Unidos empiezan a causar estragos en la industria. No sabemos a ciencia cierta cuánto pagaremos por nuestro próximo móvil, pe… [+6152 chars]\"},{\"source\":{\"id\":null,\"name\":\"Android Authority\"},\"author\":\"C. Scott Brown\",\"title\":\"Wallpaper Wednesday: More great phone wallpapers for all to share (April 9)\",\"description\":\"Looking for some new Android wallpapers? Here\\'s the Android Authority Wallpaper Wednesday roundup for April 9, 2025.\",\"url\":\"https://www.androidauthority.com/wallpaper-wednesday-apr-09-2025-3542336/\",\"urlToImage\":\"https://www.androidauthority.com/wp-content/uploads/2025/04/Wallpaper-Wednesday-2025-04-09-1-of-1.jpg\",\"publishedAt\":\"2025-04-09T12:30:29Z\",\"content\":\"Welcome to Wallpaper Wednesday!\\xa0In this weekly roundup, well give you a handful of Android wallpapers you can download and use on your phone, tablet, or even your laptop/PC. The images will come from… [+3065 chars]\"},{\"source\":{\"id\":null,\"name\":\"Krebs on Security\"},\"author\":\"BrianKrebs\",\"title\":\"Patch Tuesday, April 2025 Edition\",\"description\":\"Microsoft today released updates to plug at least 121 security holes in its Windows operating systems and software, including one vulnerability that is already being exploited in the wild. Eleven of those flaws earned Microsoft\\'s most-dire \\\\\"critical\\\\\" rating, …\",\"url\":\"https://krebsonsecurity.com/2025/04/patch-tuesday-april-2025-edition/\",\"urlToImage\":null,\"publishedAt\":\"2025-04-09T03:09:36Z\",\"content\":\"Microsoft today released updates to plug at least 121 security holes in its Windows operating systems and software, including one vulnerability that is already being exploited in the wild. Eleven of … [+3958 chars]\"},{\"source\":{\"id\":null,\"name\":\"NPR\"},\"author\":\"Rachel Carlson\",\"title\":\"Here\\'s why researchers are making new psychedelic-like drugs — without the trip\",\"description\":\"This week, we\\'ve heard from researchers trying to untangle the effects of the \\\\\"trip\\\\\" that often comes with psychedelics and ketamine from the ways these drugs might change the human brain. For part three of our series on psychedelic drug research, we get a gl…\",\"url\":\"https://www.npr.org/2025/04/09/1243652744/psychedelic-hallucination-trip-psychoplastogen-delix\",\"urlToImage\":\"https://media.npr.org/assets/img/2025/04/08/04.09.25-ep_wide-4b8277fb2ebf2f973fee6da2725f2c5a1f9e2f9c.jpg?s=1400&amp;c=100&amp;f=jpeg\",\"publishedAt\":\"2025-04-09T07:00:59Z\",\"content\":\"Individual neurons are labeled with fluorescent proteins using the brainbow technique. In researching psychedelics and ketamine, researchers aim to understand how drugs like psychedelics and ketamine… [+1658 chars]\"},{\"source\":{\"id\":null,\"name\":\"Presse-citron\"},\"author\":\"Setra\",\"title\":\"Des iPhone “Made in USA” : c’est le souhait de Donald Trump, mais est-ce réaliste\\xa0?\",\"description\":\"Donald Trump pense qu’Apple peut déplacer la production de l’iPhone aux États-Unis.\",\"url\":\"https://www.presse-citron.net/des-iphone-made-in-usa-cest-le-souhait-de-donald-trump-mais-est-ce-realiste/\",\"urlToImage\":\"https://www.presse-citron.net/app/uploads/2024/11/iPhone-Apple-Store.jpg\",\"publishedAt\":\"2025-04-09T09:33:17Z\",\"content\":\"Les nouveaux tarifs douaniers des États-Unis entrent en vigueur et les médias suivent de près la situation dApple, qui est particulièrement touché par ces augmentations. En effet, liPhone, qui est le… [+3053 chars]\"},{\"source\":{\"id\":null,\"name\":\"Presse-citron\"},\"author\":\"Setra\",\"title\":\"Cette marque chinoise s’apprête à donner une leçon à Apple, Google et Samsung\",\"description\":\"Honor s’apprêterait à lancer un smartphone équipé d’une batterie de 8 000 mAh. Ce serait une capacité énorme, pour un smartphone normal.\",\"url\":\"https://www.presse-citron.net/cette-marque-chinoise-sapprete-a-donner-une-lecon-a-apple-google-et-samsung/\",\"urlToImage\":\"https://www.presse-citron.net/app/uploads/2025/04/Honor-logo.jpg\",\"publishedAt\":\"2025-04-09T14:01:53Z\",\"content\":\"Pour améliorer lautonomie de leurs smartphones, Apple, Google et Samsung se concentrent sur loptimisation du logiciel, ainsi que sur l’amélioration de lefficacité énergétique des composants. Cependan… [+2273 chars]\"},{\"source\":{\"id\":null,\"name\":\"Presse-citron\"},\"author\":\"Camille Coirault\",\"title\":\"Trump pourrait exploser le prix de votre prochain iPhone\\xa0: prêt à encaisser\\xa0?\",\"description\":\"Vous pensiez que l’iPhone était déjà trop cher ?\",\"url\":\"https://www.presse-citron.net/trump-pourrait-exploser-le-prix-de-votre-prochain-iphone-pret-a-encaisser/\",\"urlToImage\":\"https://www.presse-citron.net/app/uploads/2025/02/test-iphone-16e-face-id.jpg\",\"publishedAt\":\"2025-04-09T05:32:57Z\",\"content\":\"C’est la débandade outre-Atlantique\\xa0: à croire que les Apple Store se sont transformées en derniers supermarchés avant la fin du monde. Sauf qu’ici, ce n’est pas le papier toilette qu’on s’arrache, m… [+4522 chars]\"},{\"source\":{\"id\":null,\"name\":\"Presse-citron\"},\"author\":\"Setra\",\"title\":\"Donald Trump met sa menace à exécution\\xa0: 104\\xa0% de droits de douane pour la Chine\",\"description\":\"La tension monte d’un cran entre Washington et Pékin.\",\"url\":\"https://www.presse-citron.net/donald-trump-met-sa-menace-a-execution-104-de-droits-de-douane-pour-la-chine/\",\"urlToImage\":\"https://www.presse-citron.net/app/uploads/2025/04/Donald-Trump-1.jpg\",\"publishedAt\":\"2025-04-09T07:44:18Z\",\"content\":\"Alors que les nouveaux droits de douane annoncés par Donald Trump entrent en vigueur, les tensions entre la Chine et les États-Unis montent dun cran. En réponse aux nouveaux droits de douane annoncés… [+2185 chars]\"},{\"source\":{\"id\":null,\"name\":\"Espinof.com\"},\"author\":\"Albertini\",\"title\":\"Estrenos (9 de abril). Series, películas y documentales en Netflix, Max, Filmin, Disney plus, Movistar Plus+, Prime Video y Apple TV+\",\"description\":\"Vaya abril estamos teniendo en cuanto estrenos y es que entre los regresos de \\'El cuento de la criada\\' y \\'The Last of Us\\' junto con otros muchos más la agenda del seriéfilo ya no da abasto... y eso que no estamos contando las 44 series, películas y documental…\",\"url\":\"https://www.espinof.com/estrenos/estrenos-9-abril-series-peliculas-documentales-netflix-max-filmin-disney-plus-movistar-plus-prime-video-apple-tv\",\"urlToImage\":\"https://i.blogs.es/bfd0b4/bm7_usscallister_unit_06027_rt2/840_560.jpeg\",\"publishedAt\":\"2025-04-09T06:00:20Z\",\"content\":\"Vaya abril estamos teniendo en cuanto estrenos y es que entre los regresos de \\'El cuento de la criada\\' y \\'The Last of Us\\' junto con otros muchos más la agenda del seriéfilo ya no da abasto... y eso q… [+3652 chars]\"},{\"source\":{\"id\":null,\"name\":\"Espinof.com\"},\"author\":\"Víctor López G.\",\"title\":\"Seth Rogen tiene una bola de cristal. No tendremos película de Kool-Aid, pero Hollywood ya prepara una de las chocolatinas Hershey\",\"description\":\"Justo cuando pensábamos que \\'The Studio\\' tan sólo era una hipérbole pasada de rosca que servía únicamente como metáfora de los derroteros que ha tomado Hollywood durante la última década, la realidad se ha abierto paso reventando una pared y haciendo acto de …\",\"url\":\"https://www.espinof.com/proyectos/seth-rogen-tiene-bola-cristal-no-tendremos-pelicula-kool-aid-hollywood-prepara-chocolatinas-hershey\",\"urlToImage\":\"https://i.blogs.es/b7ad49/485141175_1066743575499232_7968592261752285430_n/840_560.jpeg\",\"publishedAt\":\"2025-04-09T10:00:16Z\",\"content\":\"Justo cuando pensábamos que \\'The Studio\\' tan sólo era una hipérbole pasada de rosca que servía únicamente como metáfora de los derroteros que ha tomado Hollywood durante la última década, la realidad… [+2299 chars]\"},{\"source\":{\"id\":null,\"name\":\"Internet\"},\"author\":\"info@thehackernews.com (The Hacker News)\",\"title\":\"Microsoft Patches 126 Flaws Including Actively Exploited Windows CLFS Vulnerability\",\"description\":\"Microsoft has released security fixes to address a massive set of 126 flaws affecting its software products, including one vulnerability that it said has been actively exploited in the wild.\\\\nOf the 126 vulnerabilities, 11 are rated Critical, 112 are rated Imp…\",\"url\":\"https://thehackernews.com/2025/04/microsoft-patches-126-flaws-including.html\",\"urlToImage\":\"https://blogger.googleusercontent.com/img/b/R29vZ2xl/AVvXsEhB8huioh2VbeKyRAkHYZDbMNfV2s2PPum2O5tFEUCqFlc6f_ROVum1JefEmC0GizUwxg9-YIvXXaYTz33MYSpdVo1YpPSLBCDGvPChWZu092kTyNt6MqI4Bb9ru0Z43jnd82blNgyVQYZN02CkEeBmv4avRAaxILdGvpNya7xlAQv-gcXNBg_NTYzLo4G8/s728-rw-e365/MS-patch.jpg\",\"publishedAt\":\"2025-04-09T07:06:00Z\",\"content\":\"Microsoft has released security fixes to address a massive set of 126 flaws affecting its software products, including one vulnerability that it said has been actively exploited in the wild.\\\\r\\\\nOf the … [+5360 chars]\"},{\"source\":{\"id\":null,\"name\":\"Torrentfreak.com\"},\"author\":\"Andy Maxwell\",\"title\":\"Tech Giants Propose “Critical” Piracy Shield Regulation Amendments\",\"description\":\"Tech and communications group CCIA has listed dozens of recommendations in its response to a public consultation on regulatory amendments concerning the Piracy Shield IPTV blocking system.\\\\nHighlighting what it describes as several critical issues, CCIA hopes …\",\"url\":\"https://torrentfreak.com/tech-giants-propose-critical-piracy-shield-regulation-amendments-250409/\",\"urlToImage\":\"https://torrentfreak.com/images/pshieldfix-f.png\",\"publishedAt\":\"2025-04-09T06:34:46Z\",\"content\":\"More than a year after its official debut in February 2024, Italy’s controversial Piracy Shield blocking system is yet to deliver on the key predictions justifying its launch.\\\\r\\\\nClaims of piracy’s tot… [+6344 chars]\"},{\"source\":{\"id\":null,\"name\":\"Habr.com\"},\"author\":\"gregyku (Online patent)\",\"title\":\"Электроника для космических аппаратов: патентный анализ\",\"description\":\"В последние годы активно наращивается число спутников Земли для многочисленных практических применений, в частности телевидения, мобильной связи, дистанционного зондирования поверхности. Космическая электроника включает в себя приборы и электронные компоненты…\",\"url\":\"https://habr.com/ru/companies/onlinepatent/articles/899226/#post-content-body\",\"urlToImage\":\"https://habrastorage.org/getpro/habr/upload_files/710/023/36e/71002336eb33a733cba025321c251c36.png\",\"publishedAt\":\"2025-04-09T12:53:49Z\",\"content\":\", , , . , , , . , , , . . , , .\\\\r\\\\n- .\\xa0 , . : , , , (ASIC), , .\\\\r\\\\n 2025 . \\\\r\\\\n Space Electronics Market Report 2025. , .\\xa0 2025 2,81 (CAGR) 7,1%.\\xa0\\\\r\\\\n , , , :\\\\r\\\\n<ol><li> ,\\xa0\\\\r\\\\n</li><li> ,\\xa0\\\\r\\\\n</li><li> ,\\xa0\\\\r\\\\n</li>&lt;… [+2381 chars]\"},{\"source\":{\"id\":null,\"name\":\"/FILM\"},\"author\":\"staff@slashfilm.com (Noah Villaverde)\",\"title\":\"Murderbot Trailer Reveals Apple TV+\\'s New Sci-Fi Series With Alexander Skarsgård\",\"description\":\"Alexander Skarsgård is playing the titular cyborg in the latest Apple TV+ sci-fi series, Murderbot, and we\\'ve got the first look at the trailer right here.\",\"url\":\"https://www.slashfilm.com/1830303/murderbot-trailer-alexander-skarsgard-apple-tv-plus-sci-fi-series/\",\"urlToImage\":\"https://www.slashfilm.com/img/gallery/murderbot-trailer-reveals-apple-tv-s-new-sci-fi-series-with-alexander-skarsgrd/l-intro-1744152453.jpg\",\"publishedAt\":\"2025-04-09T15:00:00Z\",\"content\":\"Alongside Alexander Skarsgård as Murderbot, the ensemble cast also includes Noma Dumezweni as Mensah, David Dastmalchian as Gurathin, Sabrina Wu as Pin-Lee, Akshay Khanna as Rathi, Tattiawna Jones as… [+1258 chars]\"},{\"source\":{\"id\":null,\"name\":\"CNET\"},\"author\":\"CNET Japan Staff\",\"title\":\"PayPayカード、Apple PayやGoogle Payの支払いもアイコン表示\",\"description\":\"PayPayカードとPayPayは4月9日、「PayPayカード」（「PayPayカード ゴールド」含む）決済時にPayPayアプリから確認できる「取引履歴」のアイコン表示機能を強化したことを発表した。\",\"url\":\"https://japan.cnet.com/article/35231559/\",\"urlToImage\":\"https://japan.cnet.com/storage/2025/04/09/6d5cf86d1a9780caf962ac9532de338e/25Apr09_paypay_000.jpg\",\"publishedAt\":\"2025-04-09T07:56:00Z\",\"content\":\"PayPayPayPay49PayPayPayPay PayPay\\\\r\\\\nPayPayPayPayApple PayGoogle PayQUICPay317PayPay5.1.0\\\\r\\\\nPayPay\"},{\"source\":{\"id\":null,\"name\":\"Vida Extra\"},\"author\":\"Iván González\",\"title\":\"\\\\\"Me dicen constantemente que vea Severance\\\\\": aunque parezca un spin-off de Black Mirror, el creador de la serie de Netflix se niega a ver la producción de Apple TV\",\"description\":\"De entre todas las series que se han lanzado hasta ahora este 2025, la que más ha dejado huella hasta el momento, sin duda alguna, ha sido Severance. El programa de Apple TV+ ha dejado momentos únicos, y muchos se han sumado al tren de Ben Stiller y compañía.…\",\"url\":\"https://www.vidaextra.com/series/me-dicen-constantemente-que-vea-severance-parezca-spin-off-black-mirror-creador-serie-netflix-se-niega-a-ver-produccion-apple-tv\",\"urlToImage\":\"https://i.blogs.es/10fe89/severance/840_560.jpeg\",\"publishedAt\":\"2025-04-09T16:00:16Z\",\"content\":\"De entre todas las series que se han lanzado hasta ahora este 2025, la que más ha dejado huella hasta el momento, sin duda alguna, ha sido Severance. El programa de Apple TV+ ha dejado momentos único… [+1427 chars]\"},{\"source\":{\"id\":null,\"name\":\"MacRumors\"},\"author\":\"Tim Hardwick\",\"title\":\"Apple TV+ Offers Limited-Time Discount, $2.99 Monthly for Three Months\",\"description\":\"Apple is offering a limited-time promotion for its streaming service, giving new and eligible returning subscribers access to Apple TV+ for just $2.99 per month for three months.\\\\n\\\\n\\\\n\\\\n\\\\n\\\\nThe deal runs until April 24, 2025, and offers a decent discount from the r…\",\"url\":\"https://www.macrumors.com/2025/04/09/apple-tv-offers-limited-time-discount/\",\"urlToImage\":\"https://images.macrumors.com/t/Yd9D8w2sUSftSrUa4UFBHaWHUN4=/1600x/article-new/2025/03/Apple-TV-Plus-Friday-Night-Baseball-2025.jpg\",\"publishedAt\":\"2025-04-09T09:36:48Z\",\"content\":\"Apple is offering a limited-time promotion for its streaming service, giving new and eligible returning subscribers access to Apple TV+ for just $2.99 per month for three months.\\\\r\\\\nThe deal runs until… [+978 chars]\"},{\"source\":{\"id\":null,\"name\":\"MacRumors\"},\"author\":\"Joe Rossignol\",\"title\":\"Apple Releases iPhone 16e Parts for Do-It-Yourself Repairs\",\"description\":\"Apple this week made iPhone 16e parts available to order through its self-service repair store in the U.S. and many European countries.\\\\n\\\\n\\\\n\\\\n\\\\n\\\\nThere are parts and tools available for repairing an iPhone 16e\\'s display, battery, cameras, back glass, speakers, and…\",\"url\":\"https://www.macrumors.com/2025/04/09/iphone-16e-self-service-repair/\",\"urlToImage\":\"https://images.macrumors.com/t/sQW4g8I_W6AKY9bKYhkgNUBIqoc=/1960x/article-new/2025/04/iPhone-16e-Side.jpg\",\"publishedAt\":\"2025-04-09T15:38:48Z\",\"content\":\"Apple this week made iPhone 16e parts available to order through its self-service repair store in the U.S. and many European countries.\\\\r\\\\nThere are parts and tools available for repairing an iPhone 16… [+760 chars]\"},{\"source\":{\"id\":null,\"name\":\"MacRumors\"},\"author\":\"Tim Hardwick\",\"title\":\"Report: Apple Airlifted Premium Devices to US to Beat Tariff Deadline\",\"description\":\"Apple urgently requested suppliers to ship as many premium devices as possible to the United States by air freight, especially those priced above $3,000, in response to President Donald Trump\\'s announcement of \\\\\"reciprocal\\\\\" tariffs of up to 104% on trading par…\",\"url\":\"https://www.macrumors.com/2025/04/09/apple-airlifted-premium-devices-to-us/\",\"urlToImage\":\"https://images.macrumors.com/t/EHuu4TPBEzVVC7c1j071uedpcFA=/1920x/article-new/2025/04/cargo-plane.jpg\",\"publishedAt\":\"2025-04-09T08:51:32Z\",\"content\":\"Apple urgently requested suppliers to ship as many premium devices as possible to the United States by air freight, especially those priced above $3,000, in response to President Donald Trump\\'s annou… [+2495 chars]\"},{\"source\":{\"id\":null,\"name\":\"MacRumors\"},\"author\":\"Joe Rossignol\",\"title\":\"iOS 18.4.1 Update Coming Soon for iPhones\",\"description\":\"Apple employees are testing iOS 18.4.1 for iPhones, according to the MacRumors visitor logs, which have been a reliable indicator of upcoming iOS versions. The software update will likely be released in a week or two, if not sooner.\\\\n\\\\n\\\\n\\\\n\\\\n\\\\nAs the version number…\",\"url\":\"https://www.macrumors.com/2025/04/09/ios-18-4-1-coming-soon/\",\"urlToImage\":\"https://images.macrumors.com/t/fkm7l6wvqjQ_6jY90aujxFn9_f4=/2500x/article-new/2025/04/iOS-18.4.1-Feature-Real-Mock.jpg\",\"publishedAt\":\"2025-04-09T15:56:34Z\",\"content\":\"Apple employees are testing iOS 18.4.1 for iPhones, according to the MacRumors visitor logs, which have been a reliable indicator of upcoming iOS versions. The software update will likely be released… [+566 chars]\"},{\"source\":{\"id\":null,\"name\":\"Les Numériques\"},\"author\":\"Antoine Roche\",\"title\":\"Actualité : Apple TV+ : une offre d\\'abonnement à prix (très) réduit, mais pour une durée limitée\",\"description\":\"Pour quelques jours, Apple propose de profiter d\\'Apple TV+ à un prix sacrifié. L\\'occasion idéale pour rattraper le contenu de l\\'un des meilleurs services de streaming.\",\"url\":\"https://www.lesnumeriques.com/cine-svod/apple-tv-une-offre-d-abonnement-a-prix-tres-reduit-mais-pour-une-duree-limitee-n235352.html\",\"urlToImage\":\"https://cdn.lesnumeriques.com/optim/news/23/235352/ba3e5e40-apple-tv-divise-par-deux-son-tarif-pour-une-duree-limitee_png__1200_678__0-94-2000-1144.jpg\",\"publishedAt\":\"2025-04-09T09:13:00Z\",\"content\":\"Certaines des dernières nouveautés d\\'Apple TV+.\\\\r\\\\n© Apple\\\\r\\\\nToujours loin d\\'être aussi populaire que ses concurrents Netflix, Disney+ ou Prime Video, Apple TV+ est pourtant la plateforme de streaming q… [+2117 chars]\"},{\"source\":{\"id\":null,\"name\":\"Les Numériques\"},\"author\":\"Laure Renouard\",\"title\":\"Test Anker MagGo Power Bank (10K)\\xa0: la batterie externe se met à l\\'heure des montres connectées\",\"description\":\"Anker décline ses nombreuses batteries externes en un modèle baptisé MagGo Power Bank\\xa0(10K), qui offre à la fois de charger des smartphones et autres tablettes, mais aussi d\\'alimenter des Apple Watch. Ce modèle nomade dispose d\\'une capacité de 10\\xa0000\\xa0mAh.\",\"url\":\"https://www.lesnumeriques.com/batterie-externe/anker-maggo-power-bank-10k-p76413/test.html\",\"urlToImage\":\"https://cdn.lesnumeriques.com/optim/test/23/235128/8a02269b-anker-maggo-power-bank-10k__1200_678__0-77-2498-1388_wtmk.jpg\",\"publishedAt\":\"2025-04-09T10:00:00Z\",\"content\":\"Anker décline ses nombreuses batteries externes en un modèle baptisé MagGo Power Bank\\xa0(10K), qui offre à la fois de charger des smartphones et autres tablettes, mais aussi d\\'alimenter des Apple Watch… [+5306 chars]\"}]}</ol></li></ul></li></ul>'"
      ]
     },
     "execution_count": 83,
     "metadata": {},
     "output_type": "execute_result"
    }
   ],
   "source": [
    "str(soup)"
   ]
  },
  {
   "cell_type": "code",
   "execution_count": 81,
   "metadata": {},
   "outputs": [],
   "source": [
    "import json"
   ]
  },
  {
   "cell_type": "code",
   "execution_count": 82,
   "metadata": {},
   "outputs": [
    {
     "ename": "JSONDecodeError",
     "evalue": "Extra data: line 1 column 87910 (char 87909)",
     "output_type": "error",
     "traceback": [
      "\u001b[1;31m---------------------------------------------------------------------------\u001b[0m",
      "\u001b[1;31mJSONDecodeError\u001b[0m                           Traceback (most recent call last)",
      "Cell \u001b[1;32mIn[82], line 1\u001b[0m\n\u001b[1;32m----> 1\u001b[0m \u001b[43mjson\u001b[49m\u001b[38;5;241;43m.\u001b[39;49m\u001b[43mloads\u001b[49m\u001b[43m(\u001b[49m\u001b[38;5;28;43mstr\u001b[39;49m\u001b[43m(\u001b[49m\u001b[43msoup\u001b[49m\u001b[43m)\u001b[49m\u001b[43m)\u001b[49m\n",
      "File \u001b[1;32mc:\\Users\\zubair.shaik\\AppData\\Local\\Programs\\Python\\Python312\\Lib\\json\\__init__.py:346\u001b[0m, in \u001b[0;36mloads\u001b[1;34m(s, cls, object_hook, parse_float, parse_int, parse_constant, object_pairs_hook, **kw)\u001b[0m\n\u001b[0;32m    341\u001b[0m     s \u001b[38;5;241m=\u001b[39m s\u001b[38;5;241m.\u001b[39mdecode(detect_encoding(s), \u001b[38;5;124m'\u001b[39m\u001b[38;5;124msurrogatepass\u001b[39m\u001b[38;5;124m'\u001b[39m)\n\u001b[0;32m    343\u001b[0m \u001b[38;5;28;01mif\u001b[39;00m (\u001b[38;5;28mcls\u001b[39m \u001b[38;5;129;01mis\u001b[39;00m \u001b[38;5;28;01mNone\u001b[39;00m \u001b[38;5;129;01mand\u001b[39;00m object_hook \u001b[38;5;129;01mis\u001b[39;00m \u001b[38;5;28;01mNone\u001b[39;00m \u001b[38;5;129;01mand\u001b[39;00m\n\u001b[0;32m    344\u001b[0m         parse_int \u001b[38;5;129;01mis\u001b[39;00m \u001b[38;5;28;01mNone\u001b[39;00m \u001b[38;5;129;01mand\u001b[39;00m parse_float \u001b[38;5;129;01mis\u001b[39;00m \u001b[38;5;28;01mNone\u001b[39;00m \u001b[38;5;129;01mand\u001b[39;00m\n\u001b[0;32m    345\u001b[0m         parse_constant \u001b[38;5;129;01mis\u001b[39;00m \u001b[38;5;28;01mNone\u001b[39;00m \u001b[38;5;129;01mand\u001b[39;00m object_pairs_hook \u001b[38;5;129;01mis\u001b[39;00m \u001b[38;5;28;01mNone\u001b[39;00m \u001b[38;5;129;01mand\u001b[39;00m \u001b[38;5;129;01mnot\u001b[39;00m kw):\n\u001b[1;32m--> 346\u001b[0m     \u001b[38;5;28;01mreturn\u001b[39;00m \u001b[43m_default_decoder\u001b[49m\u001b[38;5;241;43m.\u001b[39;49m\u001b[43mdecode\u001b[49m\u001b[43m(\u001b[49m\u001b[43ms\u001b[49m\u001b[43m)\u001b[49m\n\u001b[0;32m    347\u001b[0m \u001b[38;5;28;01mif\u001b[39;00m \u001b[38;5;28mcls\u001b[39m \u001b[38;5;129;01mis\u001b[39;00m \u001b[38;5;28;01mNone\u001b[39;00m:\n\u001b[0;32m    348\u001b[0m     \u001b[38;5;28mcls\u001b[39m \u001b[38;5;241m=\u001b[39m JSONDecoder\n",
      "File \u001b[1;32mc:\\Users\\zubair.shaik\\AppData\\Local\\Programs\\Python\\Python312\\Lib\\json\\decoder.py:341\u001b[0m, in \u001b[0;36mJSONDecoder.decode\u001b[1;34m(self, s, _w)\u001b[0m\n\u001b[0;32m    339\u001b[0m end \u001b[38;5;241m=\u001b[39m _w(s, end)\u001b[38;5;241m.\u001b[39mend()\n\u001b[0;32m    340\u001b[0m \u001b[38;5;28;01mif\u001b[39;00m end \u001b[38;5;241m!=\u001b[39m \u001b[38;5;28mlen\u001b[39m(s):\n\u001b[1;32m--> 341\u001b[0m     \u001b[38;5;28;01mraise\u001b[39;00m JSONDecodeError(\u001b[38;5;124m\"\u001b[39m\u001b[38;5;124mExtra data\u001b[39m\u001b[38;5;124m\"\u001b[39m, s, end)\n\u001b[0;32m    342\u001b[0m \u001b[38;5;28;01mreturn\u001b[39;00m obj\n",
      "\u001b[1;31mJSONDecodeError\u001b[0m: Extra data: line 1 column 87910 (char 87909)"
     ]
    }
   ],
   "source": [
    "json.loads(str(soup))"
   ]
  },
  {
   "cell_type": "code",
   "execution_count": 16,
   "metadata": {},
   "outputs": [],
   "source": [
    "soup = BeautifulSoup(response.content)"
   ]
  },
  {
   "cell_type": "code",
   "execution_count": 31,
   "metadata": {},
   "outputs": [],
   "source": [
    "soup = soup.body"
   ]
  },
  {
   "cell_type": "code",
   "execution_count": 41,
   "metadata": {},
   "outputs": [],
   "source": [
    "jsonstring = soup.find_all('p')[0].text"
   ]
  },
  {
   "cell_type": "code",
   "execution_count": 45,
   "metadata": {},
   "outputs": [],
   "source": [
    "import json"
   ]
  },
  {
   "cell_type": "code",
   "execution_count": 47,
   "metadata": {},
   "outputs": [],
   "source": [
    "data = json.loads(jsonstring)"
   ]
  },
  {
   "cell_type": "code",
   "execution_count": 54,
   "metadata": {},
   "outputs": [],
   "source": [
    "x = data['articles'][0]"
   ]
  },
  {
   "cell_type": "code",
   "execution_count": 57,
   "metadata": {},
   "outputs": [
    {
     "data": {
      "text/plain": [
       "{'source': {'id': 'wired', 'name': 'Wired'},\n",
       " 'author': 'Christopher Null',\n",
       " 'title': 'Apple Mac Studio (M4 Max, 2025) Review: Small but Mighty',\n",
       " 'description': 'For creatives who need the very highest level of performance, the Mac Studio delivers it—and then some.',\n",
       " 'url': 'https://www.wired.com/review/apple-mac-studio-2025/',\n",
       " 'urlToImage': 'https://media.wired.com/photos/67cf3c7745858dea5dee90e3/191:100/w_1280,c_limit/mac-studio-gear--2160481505.jpg',\n",
       " 'publishedAt': '2025-03-11T13:00:00Z',\n",
       " 'content': 'In her review of the 2023 edition of the Apple Mac Studio, Brenda Stolyar called the pint-sized powerhouse the Goldilocks Mac suggesting its combination of performance and price was just about perfec… [+2342 chars]'}"
      ]
     },
     "execution_count": 57,
     "metadata": {},
     "output_type": "execute_result"
    }
   ],
   "source": [
    "x"
   ]
  },
  {
   "cell_type": "code",
   "execution_count": 59,
   "metadata": {},
   "outputs": [],
   "source": [
    "headline_text = []\n",
    "date = []"
   ]
  },
  {
   "cell_type": "code",
   "execution_count": 60,
   "metadata": {},
   "outputs": [],
   "source": [
    "for i in data['articles']:\n",
    "    headline_text.append(i['title'] + \" \" + i['description'])\n",
    "    date.append(i['publishedAt'].split('T')[0])"
   ]
  },
  {
   "cell_type": "code",
   "execution_count": 63,
   "metadata": {},
   "outputs": [
    {
     "data": {
      "text/plain": [
       "['2025-03-11',\n",
       " '2025-03-11',\n",
       " '2025-03-11',\n",
       " '2025-04-05',\n",
       " '2025-03-10',\n",
       " '2025-03-25',\n",
       " '2025-03-18',\n",
       " '2025-03-20',\n",
       " '2025-04-02',\n",
       " '2025-04-03',\n",
       " '2025-04-03',\n",
       " '2025-03-14',\n",
       " '2025-03-24',\n",
       " '2025-03-29',\n",
       " '2025-03-14',\n",
       " '2025-03-24',\n",
       " '2025-03-10',\n",
       " '2025-03-21',\n",
       " '2025-03-14',\n",
       " '2025-03-12',\n",
       " '2025-03-12',\n",
       " '2025-03-28',\n",
       " '2025-03-30',\n",
       " '2025-03-09',\n",
       " '2025-03-20',\n",
       " '2025-03-27',\n",
       " '2025-04-04',\n",
       " '2025-03-31',\n",
       " '2025-03-14',\n",
       " '2025-03-21',\n",
       " '2025-03-16',\n",
       " '2025-03-16',\n",
       " '2025-03-26',\n",
       " '2025-03-10',\n",
       " '2025-03-27',\n",
       " '2025-04-04',\n",
       " '2025-03-25',\n",
       " '2025-03-23',\n",
       " '2025-03-18',\n",
       " '2025-04-03',\n",
       " '2025-04-03',\n",
       " '2025-03-21',\n",
       " '2025-04-02']"
      ]
     },
     "execution_count": 63,
     "metadata": {},
     "output_type": "execute_result"
    }
   ],
   "source": [
    "date"
   ]
  },
  {
   "cell_type": "markdown",
   "metadata": {},
   "source": [
    "##### CSV file 1"
   ]
  },
  {
   "cell_type": "code",
   "execution_count": 2,
   "metadata": {},
   "outputs": [],
   "source": [
    "df = pd.read_csv(\"../data/raw/india-news-headlines.csv\")"
   ]
  },
  {
   "cell_type": "code",
   "execution_count": 3,
   "metadata": {},
   "outputs": [
    {
     "name": "stdout",
     "output_type": "stream",
     "text": [
      "<class 'pandas.core.frame.DataFrame'>\n",
      "RangeIndex: 3876557 entries, 0 to 3876556\n",
      "Data columns (total 3 columns):\n",
      " #   Column             Dtype \n",
      "---  ------             ----- \n",
      " 0   publish_date       int64 \n",
      " 1   headline_category  object\n",
      " 2   headline_text      object\n",
      "dtypes: int64(1), object(2)\n",
      "memory usage: 88.7+ MB\n"
     ]
    }
   ],
   "source": [
    "df.info()"
   ]
  },
  {
   "cell_type": "code",
   "execution_count": 4,
   "metadata": {},
   "outputs": [
    {
     "data": {
      "text/html": [
       "<div>\n",
       "<style scoped>\n",
       "    .dataframe tbody tr th:only-of-type {\n",
       "        vertical-align: middle;\n",
       "    }\n",
       "\n",
       "    .dataframe tbody tr th {\n",
       "        vertical-align: top;\n",
       "    }\n",
       "\n",
       "    .dataframe thead th {\n",
       "        text-align: right;\n",
       "    }\n",
       "</style>\n",
       "<table border=\"1\" class=\"dataframe\">\n",
       "  <thead>\n",
       "    <tr style=\"text-align: right;\">\n",
       "      <th></th>\n",
       "      <th>publish_date</th>\n",
       "      <th>headline_category</th>\n",
       "      <th>headline_text</th>\n",
       "    </tr>\n",
       "  </thead>\n",
       "  <tbody>\n",
       "    <tr>\n",
       "      <th>3876552</th>\n",
       "      <td>20230630</td>\n",
       "      <td>city.goa</td>\n",
       "      <td>10 PIs move HC over thwarted seniority</td>\n",
       "    </tr>\n",
       "    <tr>\n",
       "      <th>3876553</th>\n",
       "      <td>20230630</td>\n",
       "      <td>city.goa</td>\n",
       "      <td>Govt notifies award in memory of Parrikar for ...</td>\n",
       "    </tr>\n",
       "    <tr>\n",
       "      <th>3876554</th>\n",
       "      <td>20230630</td>\n",
       "      <td>city.goa</td>\n",
       "      <td>After youth's death; PWD installs crash barrie...</td>\n",
       "    </tr>\n",
       "    <tr>\n",
       "      <th>3876555</th>\n",
       "      <td>20230630</td>\n",
       "      <td>city.goa</td>\n",
       "      <td>Authorities not acting against CRZ violations</td>\n",
       "    </tr>\n",
       "    <tr>\n",
       "      <th>3876556</th>\n",
       "      <td>20230630</td>\n",
       "      <td>city.goa</td>\n",
       "      <td>Technicians to hold trial run of mini-EVs in P...</td>\n",
       "    </tr>\n",
       "  </tbody>\n",
       "</table>\n",
       "</div>"
      ],
      "text/plain": [
       "         publish_date headline_category  \\\n",
       "3876552      20230630          city.goa   \n",
       "3876553      20230630          city.goa   \n",
       "3876554      20230630          city.goa   \n",
       "3876555      20230630          city.goa   \n",
       "3876556      20230630          city.goa   \n",
       "\n",
       "                                             headline_text  \n",
       "3876552             10 PIs move HC over thwarted seniority  \n",
       "3876553  Govt notifies award in memory of Parrikar for ...  \n",
       "3876554  After youth's death; PWD installs crash barrie...  \n",
       "3876555      Authorities not acting against CRZ violations  \n",
       "3876556  Technicians to hold trial run of mini-EVs in P...  "
      ]
     },
     "execution_count": 4,
     "metadata": {},
     "output_type": "execute_result"
    }
   ],
   "source": [
    "df.tail()"
   ]
  },
  {
   "cell_type": "markdown",
   "metadata": {},
   "source": [
    "- The headline_text is the actual news value we required\n",
    "- Since we are trianing our model for stock price prediction of APPLE we will only take records related to that\n",
    "- We need to filter the records based on the keywords related to the brand\n",
    "- we will declare all keywords as pattern and then use it to filter"
   ]
  },
  {
   "cell_type": "code",
   "execution_count": 5,
   "metadata": {},
   "outputs": [],
   "source": [
    "pattern = \"|\".join(['apple', 'mac', 'iphone', 'ipod', 'ipad', 'airpods', 'ios'])"
   ]
  },
  {
   "cell_type": "code",
   "execution_count": 6,
   "metadata": {},
   "outputs": [],
   "source": [
    "# filter the headlines\n",
    "appl_df = df[df['headline_text'].str.contains(pattern, case=False, na=False)]"
   ]
  },
  {
   "cell_type": "markdown",
   "metadata": {},
   "source": [
    "- This filter was not enough because there are many records where these filters are present but the record is not related to APPLE\n",
    "- To filter further we will user categories column\n",
    "- We only required news related to stocks and technology or gadgets since APPLE deals with this\n",
    "- we first divide our column into main and sub category and then try to filter it out"
   ]
  },
  {
   "cell_type": "code",
   "execution_count": 7,
   "metadata": {},
   "outputs": [],
   "source": [
    "appl_cats = appl_df.headline_category.value_counts()"
   ]
  },
  {
   "cell_type": "code",
   "execution_count": 8,
   "metadata": {},
   "outputs": [
    {
     "data": {
      "text/plain": [
       "headline_category\n",
       "india                                               2067\n",
       "city.shimla                                         1661\n",
       "tech.tech-news                                      1615\n",
       "unknown                                             1245\n",
       "city.chandigarh                                     1145\n",
       "                                                    ... \n",
       "web-series.news.hindi                                  1\n",
       "most-searched-products.electronics.miscellaneous       1\n",
       "web-series.news                                        1\n",
       "times-special                                          1\n",
       "life-style.fashion.buzz                                1\n",
       "Name: count, Length: 399, dtype: int64"
      ]
     },
     "execution_count": 8,
     "metadata": {},
     "output_type": "execute_result"
    }
   ],
   "source": [
    "appl_cats"
   ]
  },
  {
   "cell_type": "code",
   "execution_count": 9,
   "metadata": {},
   "outputs": [],
   "source": [
    "def category_split(col) :\n",
    "\n",
    "    l = col.split('.')\n",
    "\n",
    "    main = l[0].lower()\n",
    "    sub = l[1].lower() if len(l) > 1 else np.nan\n",
    "\n",
    "    return main, sub"
   ]
  },
  {
   "cell_type": "code",
   "execution_count": 10,
   "metadata": {},
   "outputs": [],
   "source": [
    "# returns main and sub category in alternate rows\n",
    "cats = appl_df.headline_category.apply(category_split).explode()"
   ]
  },
  {
   "cell_type": "code",
   "execution_count": 11,
   "metadata": {},
   "outputs": [],
   "source": [
    "# add two new columns with main and sub category\n",
    "appl_df['main_category'] = cats.iloc[0::2]\n",
    "appl_df['sub_category'] = cats.iloc[1::2]"
   ]
  },
  {
   "cell_type": "code",
   "execution_count": 12,
   "metadata": {},
   "outputs": [
    {
     "data": {
      "text/html": [
       "<div>\n",
       "<style scoped>\n",
       "    .dataframe tbody tr th:only-of-type {\n",
       "        vertical-align: middle;\n",
       "    }\n",
       "\n",
       "    .dataframe tbody tr th {\n",
       "        vertical-align: top;\n",
       "    }\n",
       "\n",
       "    .dataframe thead th {\n",
       "        text-align: right;\n",
       "    }\n",
       "</style>\n",
       "<table border=\"1\" class=\"dataframe\">\n",
       "  <thead>\n",
       "    <tr style=\"text-align: right;\">\n",
       "      <th></th>\n",
       "      <th>publish_date</th>\n",
       "      <th>headline_category</th>\n",
       "      <th>headline_text</th>\n",
       "      <th>main_category</th>\n",
       "      <th>sub_category</th>\n",
       "    </tr>\n",
       "  </thead>\n",
       "  <tbody>\n",
       "    <tr>\n",
       "      <th>400</th>\n",
       "      <td>20010105</td>\n",
       "      <td>unknown</td>\n",
       "      <td>Mobile isn't a phone but a fun machine now</td>\n",
       "      <td>unknown</td>\n",
       "      <td>NaN</td>\n",
       "    </tr>\n",
       "    <tr>\n",
       "      <th>811</th>\n",
       "      <td>20010125</td>\n",
       "      <td>unknown</td>\n",
       "      <td>Congress seeks to upset SAD applecart in Majit...</td>\n",
       "      <td>unknown</td>\n",
       "      <td>NaN</td>\n",
       "    </tr>\n",
       "    <tr>\n",
       "      <th>1280</th>\n",
       "      <td>20010204</td>\n",
       "      <td>unknown</td>\n",
       "      <td>What is meant by the term Track-II diplomacy?</td>\n",
       "      <td>unknown</td>\n",
       "      <td>NaN</td>\n",
       "    </tr>\n",
       "    <tr>\n",
       "      <th>1286</th>\n",
       "      <td>20010205</td>\n",
       "      <td>unknown</td>\n",
       "      <td>The well-oiled machinery of civil society</td>\n",
       "      <td>unknown</td>\n",
       "      <td>NaN</td>\n",
       "    </tr>\n",
       "    <tr>\n",
       "      <th>1375</th>\n",
       "      <td>20010207</td>\n",
       "      <td>unknown</td>\n",
       "      <td>Quake diplomacy could work for India; Pakistan</td>\n",
       "      <td>unknown</td>\n",
       "      <td>NaN</td>\n",
       "    </tr>\n",
       "  </tbody>\n",
       "</table>\n",
       "</div>"
      ],
      "text/plain": [
       "      publish_date headline_category  \\\n",
       "400       20010105           unknown   \n",
       "811       20010125           unknown   \n",
       "1280      20010204           unknown   \n",
       "1286      20010205           unknown   \n",
       "1375      20010207           unknown   \n",
       "\n",
       "                                          headline_text main_category  \\\n",
       "400          Mobile isn't a phone but a fun machine now       unknown   \n",
       "811   Congress seeks to upset SAD applecart in Majit...       unknown   \n",
       "1280      What is meant by the term Track-II diplomacy?       unknown   \n",
       "1286          The well-oiled machinery of civil society       unknown   \n",
       "1375     Quake diplomacy could work for India; Pakistan       unknown   \n",
       "\n",
       "     sub_category  \n",
       "400           NaN  \n",
       "811           NaN  \n",
       "1280          NaN  \n",
       "1286          NaN  \n",
       "1375          NaN  "
      ]
     },
     "execution_count": 12,
     "metadata": {},
     "output_type": "execute_result"
    }
   ],
   "source": [
    "appl_df.head()"
   ]
  },
  {
   "cell_type": "code",
   "execution_count": 13,
   "metadata": {},
   "outputs": [],
   "source": [
    "# categories we need to consider\n",
    "main_cats = ['tech', 'electronics', 'gadgets-news', 'business']"
   ]
  },
  {
   "cell_type": "code",
   "execution_count": 14,
   "metadata": {},
   "outputs": [],
   "source": [
    "# Filte out the columns\n",
    "final_df = appl_df[appl_df['main_category'].isin(main_cats)]"
   ]
  },
  {
   "cell_type": "code",
   "execution_count": 15,
   "metadata": {},
   "outputs": [],
   "source": [
    "final_df['publish_date'] = final_df.publish_date.astype(str).apply(lambda x : pd.to_datetime(f\"{x[:4]}-{x[4:6]}-{x[6:]}\"))"
   ]
  },
  {
   "cell_type": "code",
   "execution_count": 16,
   "metadata": {},
   "outputs": [
    {
     "data": {
      "text/html": [
       "<div>\n",
       "<style scoped>\n",
       "    .dataframe tbody tr th:only-of-type {\n",
       "        vertical-align: middle;\n",
       "    }\n",
       "\n",
       "    .dataframe tbody tr th {\n",
       "        vertical-align: top;\n",
       "    }\n",
       "\n",
       "    .dataframe thead th {\n",
       "        text-align: right;\n",
       "    }\n",
       "</style>\n",
       "<table border=\"1\" class=\"dataframe\">\n",
       "  <thead>\n",
       "    <tr style=\"text-align: right;\">\n",
       "      <th></th>\n",
       "      <th>publish_date</th>\n",
       "      <th>headline_category</th>\n",
       "      <th>headline_text</th>\n",
       "      <th>main_category</th>\n",
       "      <th>sub_category</th>\n",
       "    </tr>\n",
       "  </thead>\n",
       "  <tbody>\n",
       "    <tr>\n",
       "      <th>10429</th>\n",
       "      <td>2001-07-29</td>\n",
       "      <td>business.india-business</td>\n",
       "      <td>UTI grapples with potential Rs 1;700 cr pay-out</td>\n",
       "      <td>business</td>\n",
       "      <td>india-business</td>\n",
       "    </tr>\n",
       "    <tr>\n",
       "      <th>29028</th>\n",
       "      <td>2001-09-17</td>\n",
       "      <td>business.india-business</td>\n",
       "      <td>Gujarat Samachar keeps markets guessing</td>\n",
       "      <td>business</td>\n",
       "      <td>india-business</td>\n",
       "    </tr>\n",
       "    <tr>\n",
       "      <th>36534</th>\n",
       "      <td>2001-10-10</td>\n",
       "      <td>business.india-business</td>\n",
       "      <td>Sony to spend Rs 2.5 cr in ads for audios</td>\n",
       "      <td>business</td>\n",
       "      <td>india-business</td>\n",
       "    </tr>\n",
       "    <tr>\n",
       "      <th>37356</th>\n",
       "      <td>2001-10-14</td>\n",
       "      <td>business.international-business</td>\n",
       "      <td>US firms grapple with rules after WTC attacks</td>\n",
       "      <td>business</td>\n",
       "      <td>international-business</td>\n",
       "    </tr>\n",
       "    <tr>\n",
       "      <th>40567</th>\n",
       "      <td>2001-10-29</td>\n",
       "      <td>business.india-business</td>\n",
       "      <td>Govt to spend Rs 225cr on info kiosks in N-E</td>\n",
       "      <td>business</td>\n",
       "      <td>india-business</td>\n",
       "    </tr>\n",
       "  </tbody>\n",
       "</table>\n",
       "</div>"
      ],
      "text/plain": [
       "      publish_date                headline_category  \\\n",
       "10429   2001-07-29          business.india-business   \n",
       "29028   2001-09-17          business.india-business   \n",
       "36534   2001-10-10          business.india-business   \n",
       "37356   2001-10-14  business.international-business   \n",
       "40567   2001-10-29          business.india-business   \n",
       "\n",
       "                                         headline_text main_category  \\\n",
       "10429  UTI grapples with potential Rs 1;700 cr pay-out      business   \n",
       "29028          Gujarat Samachar keeps markets guessing      business   \n",
       "36534        Sony to spend Rs 2.5 cr in ads for audios      business   \n",
       "37356    US firms grapple with rules after WTC attacks      business   \n",
       "40567     Govt to spend Rs 225cr on info kiosks in N-E      business   \n",
       "\n",
       "                 sub_category  \n",
       "10429          india-business  \n",
       "29028          india-business  \n",
       "36534          india-business  \n",
       "37356  international-business  \n",
       "40567          india-business  "
      ]
     },
     "execution_count": 16,
     "metadata": {},
     "output_type": "execute_result"
    }
   ],
   "source": [
    "final_df.head()"
   ]
  },
  {
   "cell_type": "code",
   "execution_count": 17,
   "metadata": {},
   "outputs": [],
   "source": [
    "# Save the data file\n",
    "final_df.to_csv(\"../data/interim/News1.csv\", index=False)"
   ]
  },
  {
   "cell_type": "markdown",
   "metadata": {},
   "source": [
    "##### CSV file 2"
   ]
  },
  {
   "cell_type": "code",
   "execution_count": 21,
   "metadata": {},
   "outputs": [],
   "source": [
    "df = pd.read_csv(\"../data/raw/Data.csv\", encoding=\"ISO-8859-1\")"
   ]
  },
  {
   "cell_type": "code",
   "execution_count": 22,
   "metadata": {},
   "outputs": [
    {
     "data": {
      "text/html": [
       "<div>\n",
       "<style scoped>\n",
       "    .dataframe tbody tr th:only-of-type {\n",
       "        vertical-align: middle;\n",
       "    }\n",
       "\n",
       "    .dataframe tbody tr th {\n",
       "        vertical-align: top;\n",
       "    }\n",
       "\n",
       "    .dataframe thead th {\n",
       "        text-align: right;\n",
       "    }\n",
       "</style>\n",
       "<table border=\"1\" class=\"dataframe\">\n",
       "  <thead>\n",
       "    <tr style=\"text-align: right;\">\n",
       "      <th></th>\n",
       "      <th>Date</th>\n",
       "      <th>Label</th>\n",
       "      <th>Top1</th>\n",
       "      <th>Top2</th>\n",
       "      <th>Top3</th>\n",
       "      <th>Top4</th>\n",
       "      <th>Top5</th>\n",
       "      <th>Top6</th>\n",
       "      <th>Top7</th>\n",
       "      <th>Top8</th>\n",
       "      <th>...</th>\n",
       "      <th>Top16</th>\n",
       "      <th>Top17</th>\n",
       "      <th>Top18</th>\n",
       "      <th>Top19</th>\n",
       "      <th>Top20</th>\n",
       "      <th>Top21</th>\n",
       "      <th>Top22</th>\n",
       "      <th>Top23</th>\n",
       "      <th>Top24</th>\n",
       "      <th>Top25</th>\n",
       "    </tr>\n",
       "  </thead>\n",
       "  <tbody>\n",
       "    <tr>\n",
       "      <th>0</th>\n",
       "      <td>2000-01-03</td>\n",
       "      <td>0</td>\n",
       "      <td>A 'hindrance to operations': extracts from the...</td>\n",
       "      <td>Scorecard</td>\n",
       "      <td>Hughes' instant hit buoys Blues</td>\n",
       "      <td>Jack gets his skates on at ice-cold Alex</td>\n",
       "      <td>Chaos as Maracana builds up for United</td>\n",
       "      <td>Depleted Leicester prevail as Elliott spoils E...</td>\n",
       "      <td>Hungry Spurs sense rich pickings</td>\n",
       "      <td>Gunners so wide of an easy target</td>\n",
       "      <td>...</td>\n",
       "      <td>Flintoff injury piles on woe for England</td>\n",
       "      <td>Hunters threaten Jospin with new battle of the...</td>\n",
       "      <td>Kohl's successor drawn into scandal</td>\n",
       "      <td>The difference between men and women</td>\n",
       "      <td>Sara Denver, nurse turned solicitor</td>\n",
       "      <td>Diana's landmine crusade put Tories in a panic</td>\n",
       "      <td>Yeltsin's resignation caught opposition flat-f...</td>\n",
       "      <td>Russian roulette</td>\n",
       "      <td>Sold out</td>\n",
       "      <td>Recovering a title</td>\n",
       "    </tr>\n",
       "    <tr>\n",
       "      <th>1</th>\n",
       "      <td>2000-01-04</td>\n",
       "      <td>0</td>\n",
       "      <td>Scorecard</td>\n",
       "      <td>The best lake scene</td>\n",
       "      <td>Leader: German sleaze inquiry</td>\n",
       "      <td>Cheerio, boyo</td>\n",
       "      <td>The main recommendations</td>\n",
       "      <td>Has Cubie killed fees?</td>\n",
       "      <td>Has Cubie killed fees?</td>\n",
       "      <td>Has Cubie killed fees?</td>\n",
       "      <td>...</td>\n",
       "      <td>On the critical list</td>\n",
       "      <td>The timing of their lives</td>\n",
       "      <td>Dear doctor</td>\n",
       "      <td>Irish court halts IRA man's extradition to Nor...</td>\n",
       "      <td>Burundi peace initiative fades after rebels re...</td>\n",
       "      <td>PE points the way forward to the ECB</td>\n",
       "      <td>Campaigners keep up pressure on Nazi war crime...</td>\n",
       "      <td>Jane Ratcliffe</td>\n",
       "      <td>Yet more things you wouldn't know without the ...</td>\n",
       "      <td>Millennium bug fails to bite</td>\n",
       "    </tr>\n",
       "  </tbody>\n",
       "</table>\n",
       "<p>2 rows × 27 columns</p>\n",
       "</div>"
      ],
      "text/plain": [
       "         Date  Label                                               Top1  \\\n",
       "0  2000-01-03      0  A 'hindrance to operations': extracts from the...   \n",
       "1  2000-01-04      0                                          Scorecard   \n",
       "\n",
       "                  Top2                             Top3  \\\n",
       "0            Scorecard  Hughes' instant hit buoys Blues   \n",
       "1  The best lake scene    Leader: German sleaze inquiry   \n",
       "\n",
       "                                       Top4  \\\n",
       "0  Jack gets his skates on at ice-cold Alex   \n",
       "1                             Cheerio, boyo   \n",
       "\n",
       "                                     Top5  \\\n",
       "0  Chaos as Maracana builds up for United   \n",
       "1                The main recommendations   \n",
       "\n",
       "                                                Top6  \\\n",
       "0  Depleted Leicester prevail as Elliott spoils E...   \n",
       "1                             Has Cubie killed fees?   \n",
       "\n",
       "                               Top7                               Top8  ...  \\\n",
       "0  Hungry Spurs sense rich pickings  Gunners so wide of an easy target  ...   \n",
       "1            Has Cubie killed fees?             Has Cubie killed fees?  ...   \n",
       "\n",
       "                                      Top16  \\\n",
       "0  Flintoff injury piles on woe for England   \n",
       "1                      On the critical list   \n",
       "\n",
       "                                               Top17  \\\n",
       "0  Hunters threaten Jospin with new battle of the...   \n",
       "1                          The timing of their lives   \n",
       "\n",
       "                                 Top18  \\\n",
       "0  Kohl's successor drawn into scandal   \n",
       "1                          Dear doctor   \n",
       "\n",
       "                                               Top19  \\\n",
       "0               The difference between men and women   \n",
       "1  Irish court halts IRA man's extradition to Nor...   \n",
       "\n",
       "                                               Top20  \\\n",
       "0                Sara Denver, nurse turned solicitor   \n",
       "1  Burundi peace initiative fades after rebels re...   \n",
       "\n",
       "                                            Top21  \\\n",
       "0  Diana's landmine crusade put Tories in a panic   \n",
       "1            PE points the way forward to the ECB   \n",
       "\n",
       "                                               Top22             Top23  \\\n",
       "0  Yeltsin's resignation caught opposition flat-f...  Russian roulette   \n",
       "1  Campaigners keep up pressure on Nazi war crime...    Jane Ratcliffe   \n",
       "\n",
       "                                               Top24  \\\n",
       "0                                           Sold out   \n",
       "1  Yet more things you wouldn't know without the ...   \n",
       "\n",
       "                          Top25  \n",
       "0            Recovering a title  \n",
       "1  Millennium bug fails to bite  \n",
       "\n",
       "[2 rows x 27 columns]"
      ]
     },
     "execution_count": 22,
     "metadata": {},
     "output_type": "execute_result"
    }
   ],
   "source": [
    "df.head(2)"
   ]
  },
  {
   "cell_type": "markdown",
   "metadata": {},
   "source": [
    "- The articles are present in different columns\n",
    "- If we could merge those articles into one column then filtering out rows would become easier\n",
    "- club_articles() is used to convert the articles in single column\n",
    "- then this column is filtered based on pattern"
   ]
  },
  {
   "cell_type": "code",
   "execution_count": 23,
   "metadata": {},
   "outputs": [],
   "source": [
    "def club_articles(col):\n",
    "    return [i for i in col]"
   ]
  },
  {
   "cell_type": "code",
   "execution_count": 24,
   "metadata": {},
   "outputs": [],
   "source": [
    "# combining all articles (columns) as single one\n",
    "df['all_articles'] = df.iloc[:,2:].apply(club_articles, axis = 1)"
   ]
  },
  {
   "cell_type": "code",
   "execution_count": 25,
   "metadata": {},
   "outputs": [],
   "source": [
    "# taking only required cols\n",
    "df = df[['Date', 'Label', 'all_articles']]"
   ]
  },
  {
   "cell_type": "code",
   "execution_count": 26,
   "metadata": {},
   "outputs": [],
   "source": [
    "# add each article as a independent row\n",
    "df = df.explode('all_articles')"
   ]
  },
  {
   "cell_type": "code",
   "execution_count": 27,
   "metadata": {},
   "outputs": [],
   "source": [
    "# removes null values if any\n",
    "df.dropna(inplace=True)"
   ]
  },
  {
   "cell_type": "code",
   "execution_count": 28,
   "metadata": {},
   "outputs": [],
   "source": [
    "appl_df = df[df['all_articles'].str.contains(pattern, case=False, na=False)]"
   ]
  },
  {
   "cell_type": "code",
   "execution_count": 29,
   "metadata": {},
   "outputs": [
    {
     "name": "stdout",
     "output_type": "stream",
     "text": [
      "<class 'pandas.core.frame.DataFrame'>\n",
      "Index: 738 entries, 8 to 4099\n",
      "Data columns (total 3 columns):\n",
      " #   Column        Non-Null Count  Dtype \n",
      "---  ------        --------------  ----- \n",
      " 0   Date          738 non-null    object\n",
      " 1   Label         738 non-null    int64 \n",
      " 2   all_articles  738 non-null    object\n",
      "dtypes: int64(1), object(2)\n",
      "memory usage: 23.1+ KB\n"
     ]
    }
   ],
   "source": [
    "appl_df.info()"
   ]
  },
  {
   "cell_type": "markdown",
   "metadata": {},
   "source": [
    "- I got a very small number of rows and most of them are redundand based on previously collected data\n",
    "- I won't include this data"
   ]
  }
 ],
 "metadata": {
  "kernelspec": {
   "display_name": "newVenv",
   "language": "python",
   "name": "python3"
  },
  "language_info": {
   "codemirror_mode": {
    "name": "ipython",
    "version": 3
   },
   "file_extension": ".py",
   "mimetype": "text/x-python",
   "name": "python",
   "nbconvert_exporter": "python",
   "pygments_lexer": "ipython3",
   "version": "3.11.4"
  }
 },
 "nbformat": 4,
 "nbformat_minor": 2
}
