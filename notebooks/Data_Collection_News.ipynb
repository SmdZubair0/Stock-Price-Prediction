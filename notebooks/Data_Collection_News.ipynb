{
 "cells": [
  {
   "cell_type": "markdown",
   "metadata": {},
   "source": [
    "#### **Import**"
   ]
  },
  {
   "cell_type": "code",
   "execution_count": 1,
   "metadata": {},
   "outputs": [],
   "source": [
    "import warnings\n",
    "import requests\n",
    "import numpy as np\n",
    "import pandas as pd\n",
    "from bs4 import BeautifulSoup\n",
    "\n",
    "warnings.filterwarnings('ignore')"
   ]
  },
  {
   "cell_type": "markdown",
   "metadata": {},
   "source": [
    "#### **Data Gathering and Cleaning**"
   ]
  },
  {
   "cell_type": "markdown",
   "metadata": {},
   "source": [
    "##### API data"
   ]
  },
  {
   "cell_type": "markdown",
   "metadata": {},
   "source": [
    "I am not using API data since I don't have paid plan to fetch enough data required for this project"
   ]
  },
  {
   "cell_type": "code",
   "execution_count": 2,
   "metadata": {},
   "outputs": [],
   "source": [
    "# response = requests.get(\"https://newsapi.org/v2/everything?q=apple&from=2025-02-23&to=2025-03-23&sortBy=popularity&apiKey=4c48d0bffc7443e7a85ea78ae3bc640f\")\n",
    "# response = requests.get(\"https://www.alphavantage.co/query?function=NEWS_SENTIMENT&tickers=AAPL&apikey=BP6PQU06XN7TNL7O\")"
   ]
  },
  {
   "cell_type": "code",
   "execution_count": 3,
   "metadata": {},
   "outputs": [],
   "source": [
    "# soup = BeautifulSoup(response.content)"
   ]
  },
  {
   "cell_type": "code",
   "execution_count": 4,
   "metadata": {},
   "outputs": [],
   "source": [
    "# soup.prettify()"
   ]
  },
  {
   "cell_type": "markdown",
   "metadata": {},
   "source": [
    "##### CSV file 1"
   ]
  },
  {
   "cell_type": "code",
   "execution_count": 5,
   "metadata": {},
   "outputs": [],
   "source": [
    "df = pd.read_csv(\"../data/raw/india-news-headlines.csv\")"
   ]
  },
  {
   "cell_type": "code",
   "execution_count": 6,
   "metadata": {},
   "outputs": [
    {
     "name": "stdout",
     "output_type": "stream",
     "text": [
      "<class 'pandas.core.frame.DataFrame'>\n",
      "RangeIndex: 3876557 entries, 0 to 3876556\n",
      "Data columns (total 3 columns):\n",
      " #   Column             Dtype \n",
      "---  ------             ----- \n",
      " 0   publish_date       int64 \n",
      " 1   headline_category  object\n",
      " 2   headline_text      object\n",
      "dtypes: int64(1), object(2)\n",
      "memory usage: 88.7+ MB\n"
     ]
    }
   ],
   "source": [
    "df.info()"
   ]
  },
  {
   "cell_type": "code",
   "execution_count": 7,
   "metadata": {},
   "outputs": [
    {
     "data": {
      "text/html": [
       "<div>\n",
       "<style scoped>\n",
       "    .dataframe tbody tr th:only-of-type {\n",
       "        vertical-align: middle;\n",
       "    }\n",
       "\n",
       "    .dataframe tbody tr th {\n",
       "        vertical-align: top;\n",
       "    }\n",
       "\n",
       "    .dataframe thead th {\n",
       "        text-align: right;\n",
       "    }\n",
       "</style>\n",
       "<table border=\"1\" class=\"dataframe\">\n",
       "  <thead>\n",
       "    <tr style=\"text-align: right;\">\n",
       "      <th></th>\n",
       "      <th>publish_date</th>\n",
       "      <th>headline_category</th>\n",
       "      <th>headline_text</th>\n",
       "    </tr>\n",
       "  </thead>\n",
       "  <tbody>\n",
       "    <tr>\n",
       "      <th>3876552</th>\n",
       "      <td>20230630</td>\n",
       "      <td>city.goa</td>\n",
       "      <td>10 PIs move HC over thwarted seniority</td>\n",
       "    </tr>\n",
       "    <tr>\n",
       "      <th>3876553</th>\n",
       "      <td>20230630</td>\n",
       "      <td>city.goa</td>\n",
       "      <td>Govt notifies award in memory of Parrikar for ...</td>\n",
       "    </tr>\n",
       "    <tr>\n",
       "      <th>3876554</th>\n",
       "      <td>20230630</td>\n",
       "      <td>city.goa</td>\n",
       "      <td>After youth's death; PWD installs crash barrie...</td>\n",
       "    </tr>\n",
       "    <tr>\n",
       "      <th>3876555</th>\n",
       "      <td>20230630</td>\n",
       "      <td>city.goa</td>\n",
       "      <td>Authorities not acting against CRZ violations</td>\n",
       "    </tr>\n",
       "    <tr>\n",
       "      <th>3876556</th>\n",
       "      <td>20230630</td>\n",
       "      <td>city.goa</td>\n",
       "      <td>Technicians to hold trial run of mini-EVs in P...</td>\n",
       "    </tr>\n",
       "  </tbody>\n",
       "</table>\n",
       "</div>"
      ],
      "text/plain": [
       "         publish_date headline_category  \\\n",
       "3876552      20230630          city.goa   \n",
       "3876553      20230630          city.goa   \n",
       "3876554      20230630          city.goa   \n",
       "3876555      20230630          city.goa   \n",
       "3876556      20230630          city.goa   \n",
       "\n",
       "                                             headline_text  \n",
       "3876552             10 PIs move HC over thwarted seniority  \n",
       "3876553  Govt notifies award in memory of Parrikar for ...  \n",
       "3876554  After youth's death; PWD installs crash barrie...  \n",
       "3876555      Authorities not acting against CRZ violations  \n",
       "3876556  Technicians to hold trial run of mini-EVs in P...  "
      ]
     },
     "execution_count": 7,
     "metadata": {},
     "output_type": "execute_result"
    }
   ],
   "source": [
    "df.tail()"
   ]
  },
  {
   "cell_type": "markdown",
   "metadata": {},
   "source": [
    "- The headline_text is the actual news value we required\n",
    "- Since we are trianing our model for stock price prediction of APPLE we will only take records related to that\n",
    "- We need to filter the records based on the keywords related to the brand\n",
    "- we will declare all keywords as pattern and then use it to filter"
   ]
  },
  {
   "cell_type": "code",
   "execution_count": 8,
   "metadata": {},
   "outputs": [],
   "source": [
    "pattern = \"|\".join(['apple', 'mac', 'iphone', 'ipod', 'ipad', 'airpods', 'ios'])"
   ]
  },
  {
   "cell_type": "code",
   "execution_count": 9,
   "metadata": {},
   "outputs": [],
   "source": [
    "# filter the headlines\n",
    "appl_df = df[df['headline_text'].str.contains(pattern, case=False, na=False)]"
   ]
  },
  {
   "cell_type": "markdown",
   "metadata": {},
   "source": [
    "- This filter was not enough because there are many records where these filters are present but the record is not related to APPLE\n",
    "- To filter further we will user categories column\n",
    "- We only required news related to stocks and technology or gadgets since APPLE deals with this\n",
    "- we first divide our column into main and sub category and then try to filter it out"
   ]
  },
  {
   "cell_type": "code",
   "execution_count": 10,
   "metadata": {},
   "outputs": [],
   "source": [
    "appl_cats = appl_df.headline_category.value_counts()"
   ]
  },
  {
   "cell_type": "code",
   "execution_count": 11,
   "metadata": {},
   "outputs": [
    {
     "data": {
      "text/plain": [
       "headline_category\n",
       "india                                               2067\n",
       "city.shimla                                         1661\n",
       "tech.tech-news                                      1615\n",
       "unknown                                             1245\n",
       "city.chandigarh                                     1145\n",
       "                                                    ... \n",
       "web-series.news.hindi                                  1\n",
       "most-searched-products.electronics.miscellaneous       1\n",
       "web-series.news                                        1\n",
       "times-special                                          1\n",
       "life-style.fashion.buzz                                1\n",
       "Name: count, Length: 399, dtype: int64"
      ]
     },
     "execution_count": 11,
     "metadata": {},
     "output_type": "execute_result"
    }
   ],
   "source": [
    "appl_cats"
   ]
  },
  {
   "cell_type": "code",
   "execution_count": 12,
   "metadata": {},
   "outputs": [],
   "source": [
    "def category_split(col) :\n",
    "\n",
    "    l = col.split('.')\n",
    "\n",
    "    main = l[0].lower()\n",
    "    sub = l[1].lower() if len(l) > 1 else np.nan\n",
    "\n",
    "    return main, sub"
   ]
  },
  {
   "cell_type": "code",
   "execution_count": 13,
   "metadata": {},
   "outputs": [],
   "source": [
    "# returns main and sub category in alternate rows\n",
    "cats = appl_df.headline_category.apply(category_split).explode()"
   ]
  },
  {
   "cell_type": "code",
   "execution_count": 14,
   "metadata": {},
   "outputs": [],
   "source": [
    "# add two new columns with main and sub category\n",
    "appl_df['main_category'] = cats.iloc[0::2]\n",
    "appl_df['sub_category'] = cats.iloc[1::2]"
   ]
  },
  {
   "cell_type": "code",
   "execution_count": 15,
   "metadata": {},
   "outputs": [
    {
     "data": {
      "text/html": [
       "<div>\n",
       "<style scoped>\n",
       "    .dataframe tbody tr th:only-of-type {\n",
       "        vertical-align: middle;\n",
       "    }\n",
       "\n",
       "    .dataframe tbody tr th {\n",
       "        vertical-align: top;\n",
       "    }\n",
       "\n",
       "    .dataframe thead th {\n",
       "        text-align: right;\n",
       "    }\n",
       "</style>\n",
       "<table border=\"1\" class=\"dataframe\">\n",
       "  <thead>\n",
       "    <tr style=\"text-align: right;\">\n",
       "      <th></th>\n",
       "      <th>publish_date</th>\n",
       "      <th>headline_category</th>\n",
       "      <th>headline_text</th>\n",
       "      <th>main_category</th>\n",
       "      <th>sub_category</th>\n",
       "    </tr>\n",
       "  </thead>\n",
       "  <tbody>\n",
       "    <tr>\n",
       "      <th>400</th>\n",
       "      <td>20010105</td>\n",
       "      <td>unknown</td>\n",
       "      <td>Mobile isn't a phone but a fun machine now</td>\n",
       "      <td>unknown</td>\n",
       "      <td>NaN</td>\n",
       "    </tr>\n",
       "    <tr>\n",
       "      <th>811</th>\n",
       "      <td>20010125</td>\n",
       "      <td>unknown</td>\n",
       "      <td>Congress seeks to upset SAD applecart in Majit...</td>\n",
       "      <td>unknown</td>\n",
       "      <td>NaN</td>\n",
       "    </tr>\n",
       "    <tr>\n",
       "      <th>1280</th>\n",
       "      <td>20010204</td>\n",
       "      <td>unknown</td>\n",
       "      <td>What is meant by the term Track-II diplomacy?</td>\n",
       "      <td>unknown</td>\n",
       "      <td>NaN</td>\n",
       "    </tr>\n",
       "    <tr>\n",
       "      <th>1286</th>\n",
       "      <td>20010205</td>\n",
       "      <td>unknown</td>\n",
       "      <td>The well-oiled machinery of civil society</td>\n",
       "      <td>unknown</td>\n",
       "      <td>NaN</td>\n",
       "    </tr>\n",
       "    <tr>\n",
       "      <th>1375</th>\n",
       "      <td>20010207</td>\n",
       "      <td>unknown</td>\n",
       "      <td>Quake diplomacy could work for India; Pakistan</td>\n",
       "      <td>unknown</td>\n",
       "      <td>NaN</td>\n",
       "    </tr>\n",
       "  </tbody>\n",
       "</table>\n",
       "</div>"
      ],
      "text/plain": [
       "      publish_date headline_category  \\\n",
       "400       20010105           unknown   \n",
       "811       20010125           unknown   \n",
       "1280      20010204           unknown   \n",
       "1286      20010205           unknown   \n",
       "1375      20010207           unknown   \n",
       "\n",
       "                                          headline_text main_category  \\\n",
       "400          Mobile isn't a phone but a fun machine now       unknown   \n",
       "811   Congress seeks to upset SAD applecart in Majit...       unknown   \n",
       "1280      What is meant by the term Track-II diplomacy?       unknown   \n",
       "1286          The well-oiled machinery of civil society       unknown   \n",
       "1375     Quake diplomacy could work for India; Pakistan       unknown   \n",
       "\n",
       "     sub_category  \n",
       "400           NaN  \n",
       "811           NaN  \n",
       "1280          NaN  \n",
       "1286          NaN  \n",
       "1375          NaN  "
      ]
     },
     "execution_count": 15,
     "metadata": {},
     "output_type": "execute_result"
    }
   ],
   "source": [
    "appl_df.head()"
   ]
  },
  {
   "cell_type": "code",
   "execution_count": 16,
   "metadata": {},
   "outputs": [],
   "source": [
    "# categories we need to consider\n",
    "main_cats = ['tech', 'electronics', 'gadgets-news', 'business']"
   ]
  },
  {
   "cell_type": "code",
   "execution_count": 17,
   "metadata": {},
   "outputs": [],
   "source": [
    "# Filte out the columns\n",
    "final_df = appl_df[appl_df['main_category'].isin(main_cats)]"
   ]
  },
  {
   "cell_type": "code",
   "execution_count": 18,
   "metadata": {},
   "outputs": [],
   "source": [
    "final_df['publish_date'] = final_df.publish_date.astype(str).apply(lambda x : pd.to_datetime(f\"{x[:4]}-{x[4:6]}-{x[6:]}\"))"
   ]
  },
  {
   "cell_type": "code",
   "execution_count": 19,
   "metadata": {},
   "outputs": [
    {
     "data": {
      "text/html": [
       "<div>\n",
       "<style scoped>\n",
       "    .dataframe tbody tr th:only-of-type {\n",
       "        vertical-align: middle;\n",
       "    }\n",
       "\n",
       "    .dataframe tbody tr th {\n",
       "        vertical-align: top;\n",
       "    }\n",
       "\n",
       "    .dataframe thead th {\n",
       "        text-align: right;\n",
       "    }\n",
       "</style>\n",
       "<table border=\"1\" class=\"dataframe\">\n",
       "  <thead>\n",
       "    <tr style=\"text-align: right;\">\n",
       "      <th></th>\n",
       "      <th>publish_date</th>\n",
       "      <th>headline_category</th>\n",
       "      <th>headline_text</th>\n",
       "      <th>main_category</th>\n",
       "      <th>sub_category</th>\n",
       "    </tr>\n",
       "  </thead>\n",
       "  <tbody>\n",
       "    <tr>\n",
       "      <th>10429</th>\n",
       "      <td>2001-07-29</td>\n",
       "      <td>business.india-business</td>\n",
       "      <td>UTI grapples with potential Rs 1;700 cr pay-out</td>\n",
       "      <td>business</td>\n",
       "      <td>india-business</td>\n",
       "    </tr>\n",
       "    <tr>\n",
       "      <th>29028</th>\n",
       "      <td>2001-09-17</td>\n",
       "      <td>business.india-business</td>\n",
       "      <td>Gujarat Samachar keeps markets guessing</td>\n",
       "      <td>business</td>\n",
       "      <td>india-business</td>\n",
       "    </tr>\n",
       "    <tr>\n",
       "      <th>36534</th>\n",
       "      <td>2001-10-10</td>\n",
       "      <td>business.india-business</td>\n",
       "      <td>Sony to spend Rs 2.5 cr in ads for audios</td>\n",
       "      <td>business</td>\n",
       "      <td>india-business</td>\n",
       "    </tr>\n",
       "    <tr>\n",
       "      <th>37356</th>\n",
       "      <td>2001-10-14</td>\n",
       "      <td>business.international-business</td>\n",
       "      <td>US firms grapple with rules after WTC attacks</td>\n",
       "      <td>business</td>\n",
       "      <td>international-business</td>\n",
       "    </tr>\n",
       "    <tr>\n",
       "      <th>40567</th>\n",
       "      <td>2001-10-29</td>\n",
       "      <td>business.india-business</td>\n",
       "      <td>Govt to spend Rs 225cr on info kiosks in N-E</td>\n",
       "      <td>business</td>\n",
       "      <td>india-business</td>\n",
       "    </tr>\n",
       "  </tbody>\n",
       "</table>\n",
       "</div>"
      ],
      "text/plain": [
       "      publish_date                headline_category  \\\n",
       "10429   2001-07-29          business.india-business   \n",
       "29028   2001-09-17          business.india-business   \n",
       "36534   2001-10-10          business.india-business   \n",
       "37356   2001-10-14  business.international-business   \n",
       "40567   2001-10-29          business.india-business   \n",
       "\n",
       "                                         headline_text main_category  \\\n",
       "10429  UTI grapples with potential Rs 1;700 cr pay-out      business   \n",
       "29028          Gujarat Samachar keeps markets guessing      business   \n",
       "36534        Sony to spend Rs 2.5 cr in ads for audios      business   \n",
       "37356    US firms grapple with rules after WTC attacks      business   \n",
       "40567     Govt to spend Rs 225cr on info kiosks in N-E      business   \n",
       "\n",
       "                 sub_category  \n",
       "10429          india-business  \n",
       "29028          india-business  \n",
       "36534          india-business  \n",
       "37356  international-business  \n",
       "40567          india-business  "
      ]
     },
     "execution_count": 19,
     "metadata": {},
     "output_type": "execute_result"
    }
   ],
   "source": [
    "final_df.head()"
   ]
  },
  {
   "cell_type": "code",
   "execution_count": 20,
   "metadata": {},
   "outputs": [],
   "source": [
    "# Save the data file\n",
    "final_df.to_csv(\"../data/interim/News1.csv\", index=False)"
   ]
  },
  {
   "cell_type": "markdown",
   "metadata": {},
   "source": [
    "##### CSV file 2"
   ]
  },
  {
   "cell_type": "code",
   "execution_count": 21,
   "metadata": {},
   "outputs": [],
   "source": [
    "df = pd.read_csv(\"../data/raw/Data.csv\", encoding=\"ISO-8859-1\")"
   ]
  },
  {
   "cell_type": "code",
   "execution_count": 22,
   "metadata": {},
   "outputs": [
    {
     "data": {
      "text/html": [
       "<div>\n",
       "<style scoped>\n",
       "    .dataframe tbody tr th:only-of-type {\n",
       "        vertical-align: middle;\n",
       "    }\n",
       "\n",
       "    .dataframe tbody tr th {\n",
       "        vertical-align: top;\n",
       "    }\n",
       "\n",
       "    .dataframe thead th {\n",
       "        text-align: right;\n",
       "    }\n",
       "</style>\n",
       "<table border=\"1\" class=\"dataframe\">\n",
       "  <thead>\n",
       "    <tr style=\"text-align: right;\">\n",
       "      <th></th>\n",
       "      <th>Date</th>\n",
       "      <th>Label</th>\n",
       "      <th>Top1</th>\n",
       "      <th>Top2</th>\n",
       "      <th>Top3</th>\n",
       "      <th>Top4</th>\n",
       "      <th>Top5</th>\n",
       "      <th>Top6</th>\n",
       "      <th>Top7</th>\n",
       "      <th>Top8</th>\n",
       "      <th>...</th>\n",
       "      <th>Top16</th>\n",
       "      <th>Top17</th>\n",
       "      <th>Top18</th>\n",
       "      <th>Top19</th>\n",
       "      <th>Top20</th>\n",
       "      <th>Top21</th>\n",
       "      <th>Top22</th>\n",
       "      <th>Top23</th>\n",
       "      <th>Top24</th>\n",
       "      <th>Top25</th>\n",
       "    </tr>\n",
       "  </thead>\n",
       "  <tbody>\n",
       "    <tr>\n",
       "      <th>0</th>\n",
       "      <td>2000-01-03</td>\n",
       "      <td>0</td>\n",
       "      <td>A 'hindrance to operations': extracts from the...</td>\n",
       "      <td>Scorecard</td>\n",
       "      <td>Hughes' instant hit buoys Blues</td>\n",
       "      <td>Jack gets his skates on at ice-cold Alex</td>\n",
       "      <td>Chaos as Maracana builds up for United</td>\n",
       "      <td>Depleted Leicester prevail as Elliott spoils E...</td>\n",
       "      <td>Hungry Spurs sense rich pickings</td>\n",
       "      <td>Gunners so wide of an easy target</td>\n",
       "      <td>...</td>\n",
       "      <td>Flintoff injury piles on woe for England</td>\n",
       "      <td>Hunters threaten Jospin with new battle of the...</td>\n",
       "      <td>Kohl's successor drawn into scandal</td>\n",
       "      <td>The difference between men and women</td>\n",
       "      <td>Sara Denver, nurse turned solicitor</td>\n",
       "      <td>Diana's landmine crusade put Tories in a panic</td>\n",
       "      <td>Yeltsin's resignation caught opposition flat-f...</td>\n",
       "      <td>Russian roulette</td>\n",
       "      <td>Sold out</td>\n",
       "      <td>Recovering a title</td>\n",
       "    </tr>\n",
       "    <tr>\n",
       "      <th>1</th>\n",
       "      <td>2000-01-04</td>\n",
       "      <td>0</td>\n",
       "      <td>Scorecard</td>\n",
       "      <td>The best lake scene</td>\n",
       "      <td>Leader: German sleaze inquiry</td>\n",
       "      <td>Cheerio, boyo</td>\n",
       "      <td>The main recommendations</td>\n",
       "      <td>Has Cubie killed fees?</td>\n",
       "      <td>Has Cubie killed fees?</td>\n",
       "      <td>Has Cubie killed fees?</td>\n",
       "      <td>...</td>\n",
       "      <td>On the critical list</td>\n",
       "      <td>The timing of their lives</td>\n",
       "      <td>Dear doctor</td>\n",
       "      <td>Irish court halts IRA man's extradition to Nor...</td>\n",
       "      <td>Burundi peace initiative fades after rebels re...</td>\n",
       "      <td>PE points the way forward to the ECB</td>\n",
       "      <td>Campaigners keep up pressure on Nazi war crime...</td>\n",
       "      <td>Jane Ratcliffe</td>\n",
       "      <td>Yet more things you wouldn't know without the ...</td>\n",
       "      <td>Millennium bug fails to bite</td>\n",
       "    </tr>\n",
       "  </tbody>\n",
       "</table>\n",
       "<p>2 rows × 27 columns</p>\n",
       "</div>"
      ],
      "text/plain": [
       "         Date  Label                                               Top1  \\\n",
       "0  2000-01-03      0  A 'hindrance to operations': extracts from the...   \n",
       "1  2000-01-04      0                                          Scorecard   \n",
       "\n",
       "                  Top2                             Top3  \\\n",
       "0            Scorecard  Hughes' instant hit buoys Blues   \n",
       "1  The best lake scene    Leader: German sleaze inquiry   \n",
       "\n",
       "                                       Top4  \\\n",
       "0  Jack gets his skates on at ice-cold Alex   \n",
       "1                             Cheerio, boyo   \n",
       "\n",
       "                                     Top5  \\\n",
       "0  Chaos as Maracana builds up for United   \n",
       "1                The main recommendations   \n",
       "\n",
       "                                                Top6  \\\n",
       "0  Depleted Leicester prevail as Elliott spoils E...   \n",
       "1                             Has Cubie killed fees?   \n",
       "\n",
       "                               Top7                               Top8  ...  \\\n",
       "0  Hungry Spurs sense rich pickings  Gunners so wide of an easy target  ...   \n",
       "1            Has Cubie killed fees?             Has Cubie killed fees?  ...   \n",
       "\n",
       "                                      Top16  \\\n",
       "0  Flintoff injury piles on woe for England   \n",
       "1                      On the critical list   \n",
       "\n",
       "                                               Top17  \\\n",
       "0  Hunters threaten Jospin with new battle of the...   \n",
       "1                          The timing of their lives   \n",
       "\n",
       "                                 Top18  \\\n",
       "0  Kohl's successor drawn into scandal   \n",
       "1                          Dear doctor   \n",
       "\n",
       "                                               Top19  \\\n",
       "0               The difference between men and women   \n",
       "1  Irish court halts IRA man's extradition to Nor...   \n",
       "\n",
       "                                               Top20  \\\n",
       "0                Sara Denver, nurse turned solicitor   \n",
       "1  Burundi peace initiative fades after rebels re...   \n",
       "\n",
       "                                            Top21  \\\n",
       "0  Diana's landmine crusade put Tories in a panic   \n",
       "1            PE points the way forward to the ECB   \n",
       "\n",
       "                                               Top22             Top23  \\\n",
       "0  Yeltsin's resignation caught opposition flat-f...  Russian roulette   \n",
       "1  Campaigners keep up pressure on Nazi war crime...    Jane Ratcliffe   \n",
       "\n",
       "                                               Top24  \\\n",
       "0                                           Sold out   \n",
       "1  Yet more things you wouldn't know without the ...   \n",
       "\n",
       "                          Top25  \n",
       "0            Recovering a title  \n",
       "1  Millennium bug fails to bite  \n",
       "\n",
       "[2 rows x 27 columns]"
      ]
     },
     "execution_count": 22,
     "metadata": {},
     "output_type": "execute_result"
    }
   ],
   "source": [
    "df.head(2)"
   ]
  },
  {
   "cell_type": "markdown",
   "metadata": {},
   "source": [
    "- The articles are present in different columns\n",
    "- If we could merge those articles into one column then filtering out rows would become easier\n",
    "- club_articles() is used to convert the articles in single column\n",
    "- then this column is filtered based on pattern"
   ]
  },
  {
   "cell_type": "code",
   "execution_count": 23,
   "metadata": {},
   "outputs": [],
   "source": [
    "def club_articles(col):\n",
    "    return [i for i in col]"
   ]
  },
  {
   "cell_type": "code",
   "execution_count": 24,
   "metadata": {},
   "outputs": [],
   "source": [
    "# combining all articles (columns) as single one\n",
    "df['all_articles'] = df.iloc[:,2:].apply(club_articles, axis = 1)"
   ]
  },
  {
   "cell_type": "code",
   "execution_count": 25,
   "metadata": {},
   "outputs": [],
   "source": [
    "# taking only required cols\n",
    "df = df[['Date', 'Label', 'all_articles']]"
   ]
  },
  {
   "cell_type": "code",
   "execution_count": 26,
   "metadata": {},
   "outputs": [],
   "source": [
    "# add each article as a independent row\n",
    "df = df.explode('all_articles')"
   ]
  },
  {
   "cell_type": "code",
   "execution_count": 27,
   "metadata": {},
   "outputs": [],
   "source": [
    "# removes null values if any\n",
    "df.dropna(inplace=True)"
   ]
  },
  {
   "cell_type": "code",
   "execution_count": 28,
   "metadata": {},
   "outputs": [],
   "source": [
    "appl_df = df[df['all_articles'].str.contains(pattern, case=False, na=False)]"
   ]
  },
  {
   "cell_type": "code",
   "execution_count": 29,
   "metadata": {},
   "outputs": [
    {
     "name": "stdout",
     "output_type": "stream",
     "text": [
      "<class 'pandas.core.frame.DataFrame'>\n",
      "Index: 738 entries, 8 to 4099\n",
      "Data columns (total 3 columns):\n",
      " #   Column        Non-Null Count  Dtype \n",
      "---  ------        --------------  ----- \n",
      " 0   Date          738 non-null    object\n",
      " 1   Label         738 non-null    int64 \n",
      " 2   all_articles  738 non-null    object\n",
      "dtypes: int64(1), object(2)\n",
      "memory usage: 23.1+ KB\n"
     ]
    }
   ],
   "source": [
    "appl_df.info()"
   ]
  },
  {
   "cell_type": "markdown",
   "metadata": {},
   "source": [
    "- I got a very small number of rows and most of them are redundand based on previously collected data\n",
    "- I won't include this data"
   ]
  }
 ],
 "metadata": {
  "kernelspec": {
   "display_name": "newVenv",
   "language": "python",
   "name": "python3"
  },
  "language_info": {
   "codemirror_mode": {
    "name": "ipython",
    "version": 3
   },
   "file_extension": ".py",
   "mimetype": "text/x-python",
   "name": "python",
   "nbconvert_exporter": "python",
   "pygments_lexer": "ipython3",
   "version": "3.11.4"
  }
 },
 "nbformat": 4,
 "nbformat_minor": 2
}
