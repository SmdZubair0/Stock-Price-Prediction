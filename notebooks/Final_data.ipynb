{
 "cells": [
  {
   "cell_type": "markdown",
   "metadata": {},
   "source": [
    "#### **Imports**"
   ]
  },
  {
   "cell_type": "code",
   "execution_count": 1,
   "metadata": {},
   "outputs": [],
   "source": [
    "import numpy as np\n",
    "import pandas as pd\n",
    "\n",
    "from sklearn.preprocessing import StandardScaler\n",
    "from sklearn.model_selection import train_test_split\n",
    "from sklearn.metrics import r2_score\n",
    "\n",
    "import tensorflow as tf\n",
    "from tensorflow.keras.models import load_model\n",
    "from tensorflow.keras.layers import Input, LSTM, Dense, Concatenate"
   ]
  },
  {
   "cell_type": "markdown",
   "metadata": {},
   "source": [
    "#### **Data preperation**"
   ]
  },
  {
   "cell_type": "markdown",
   "metadata": {},
   "source": [
    "Read data files"
   ]
  },
  {
   "cell_type": "code",
   "execution_count": 2,
   "metadata": {},
   "outputs": [],
   "source": [
    "stocks = pd.read_csv(\"../data/processed/Stocks4.csv\")\n",
    "news = pd.read_csv(\"../data/interim/News2.csv\")"
   ]
  },
  {
   "cell_type": "code",
   "execution_count": 3,
   "metadata": {},
   "outputs": [
    {
     "name": "stdout",
     "output_type": "stream",
     "text": [
      "<class 'pandas.core.frame.DataFrame'>\n",
      "RangeIndex: 11164 entries, 0 to 11163\n",
      "Data columns (total 11 columns):\n",
      " #   Column          Non-Null Count  Dtype  \n",
      "---  ------          --------------  -----  \n",
      " 0   date            11164 non-null  object \n",
      " 1   open            11164 non-null  float64\n",
      " 2   adj_close       11164 non-null  float64\n",
      " 3   rolling_ma      11164 non-null  float64\n",
      " 4   RSI             11164 non-null  float64\n",
      " 5   MACD            11164 non-null  float64\n",
      " 6   Signal_Line     11164 non-null  float64\n",
      " 7   MACD_Histogram  11164 non-null  float64\n",
      " 8   SMA_20          11164 non-null  float64\n",
      " 9   upper_band      11164 non-null  float64\n",
      " 10  lower_band      11164 non-null  float64\n",
      "dtypes: float64(10), object(1)\n",
      "memory usage: 959.5+ KB\n"
     ]
    }
   ],
   "source": [
    "stocks.info()"
   ]
  },
  {
   "cell_type": "code",
   "execution_count": 4,
   "metadata": {},
   "outputs": [
    {
     "name": "stdout",
     "output_type": "stream",
     "text": [
      "<class 'pandas.core.frame.DataFrame'>\n",
      "RangeIndex: 4555 entries, 0 to 4554\n",
      "Data columns (total 10 columns):\n",
      " #   Column               Non-Null Count  Dtype  \n",
      "---  ------               --------------  -----  \n",
      " 0   publish_date         4555 non-null   object \n",
      " 1   headline_category    4555 non-null   object \n",
      " 2   headline_text        4555 non-null   object \n",
      " 3   main_category        4555 non-null   object \n",
      " 4   sub_category         3363 non-null   object \n",
      " 5   sentiment            4555 non-null   object \n",
      " 6   pos_score            4555 non-null   float64\n",
      " 7   neg_score            4555 non-null   float64\n",
      " 8   neu_score            4555 non-null   float64\n",
      " 9   sentiment_label_num  4555 non-null   int64  \n",
      "dtypes: float64(3), int64(1), object(6)\n",
      "memory usage: 356.0+ KB\n"
     ]
    }
   ],
   "source": [
    "news.info()"
   ]
  },
  {
   "cell_type": "markdown",
   "metadata": {},
   "source": [
    "drop unnecessary columns from data"
   ]
  },
  {
   "cell_type": "code",
   "execution_count": 5,
   "metadata": {},
   "outputs": [],
   "source": [
    "news.drop(columns = ['headline_category', 'main_category', 'sub_category', 'sentiment'], inplace = True)"
   ]
  },
  {
   "cell_type": "code",
   "execution_count": 6,
   "metadata": {},
   "outputs": [
    {
     "data": {
      "text/html": [
       "<div>\n",
       "<style scoped>\n",
       "    .dataframe tbody tr th:only-of-type {\n",
       "        vertical-align: middle;\n",
       "    }\n",
       "\n",
       "    .dataframe tbody tr th {\n",
       "        vertical-align: top;\n",
       "    }\n",
       "\n",
       "    .dataframe thead th {\n",
       "        text-align: right;\n",
       "    }\n",
       "</style>\n",
       "<table border=\"1\" class=\"dataframe\">\n",
       "  <thead>\n",
       "    <tr style=\"text-align: right;\">\n",
       "      <th></th>\n",
       "      <th>date</th>\n",
       "      <th>open</th>\n",
       "      <th>adj_close</th>\n",
       "      <th>rolling_ma</th>\n",
       "      <th>RSI</th>\n",
       "      <th>MACD</th>\n",
       "      <th>Signal_Line</th>\n",
       "      <th>MACD_Histogram</th>\n",
       "      <th>SMA_20</th>\n",
       "      <th>upper_band</th>\n",
       "      <th>lower_band</th>\n",
       "    </tr>\n",
       "  </thead>\n",
       "  <tbody>\n",
       "    <tr>\n",
       "      <th>0</th>\n",
       "      <td>1980-12-15</td>\n",
       "      <td>0.094005</td>\n",
       "      <td>0.093575</td>\n",
       "      <td>0.097789</td>\n",
       "      <td>0.000000</td>\n",
       "      <td>-0.000411</td>\n",
       "      <td>-0.000082</td>\n",
       "      <td>-0.000329</td>\n",
       "      <td>0.098235</td>\n",
       "      <td>0.105519</td>\n",
       "      <td>0.090951</td>\n",
       "    </tr>\n",
       "    <tr>\n",
       "      <th>1</th>\n",
       "      <td>1980-12-16</td>\n",
       "      <td>0.087136</td>\n",
       "      <td>0.086707</td>\n",
       "      <td>0.095774</td>\n",
       "      <td>0.000000</td>\n",
       "      <td>-0.001276</td>\n",
       "      <td>-0.000321</td>\n",
       "      <td>-0.000955</td>\n",
       "      <td>0.097137</td>\n",
       "      <td>0.110273</td>\n",
       "      <td>0.084001</td>\n",
       "    </tr>\n",
       "    <tr>\n",
       "      <th>2</th>\n",
       "      <td>1980-12-17</td>\n",
       "      <td>0.088853</td>\n",
       "      <td>0.088853</td>\n",
       "      <td>0.094516</td>\n",
       "      <td>17.932971</td>\n",
       "      <td>-0.001768</td>\n",
       "      <td>-0.000610</td>\n",
       "      <td>-0.001158</td>\n",
       "      <td>0.096348</td>\n",
       "      <td>0.109358</td>\n",
       "      <td>0.083339</td>\n",
       "    </tr>\n",
       "    <tr>\n",
       "      <th>3</th>\n",
       "      <td>1980-12-18</td>\n",
       "      <td>0.091429</td>\n",
       "      <td>0.091429</td>\n",
       "      <td>0.093955</td>\n",
       "      <td>34.260996</td>\n",
       "      <td>-0.001928</td>\n",
       "      <td>-0.000874</td>\n",
       "      <td>-0.001054</td>\n",
       "      <td>0.095880</td>\n",
       "      <td>0.107771</td>\n",
       "      <td>0.083989</td>\n",
       "    </tr>\n",
       "    <tr>\n",
       "      <th>4</th>\n",
       "      <td>1980-12-19</td>\n",
       "      <td>0.097009</td>\n",
       "      <td>0.097009</td>\n",
       "      <td>0.094510</td>\n",
       "      <td>56.093525</td>\n",
       "      <td>-0.001586</td>\n",
       "      <td>-0.001016</td>\n",
       "      <td>-0.000570</td>\n",
       "      <td>0.095988</td>\n",
       "      <td>0.106579</td>\n",
       "      <td>0.085396</td>\n",
       "    </tr>\n",
       "  </tbody>\n",
       "</table>\n",
       "</div>"
      ],
      "text/plain": [
       "         date      open  adj_close  rolling_ma        RSI      MACD  \\\n",
       "0  1980-12-15  0.094005   0.093575    0.097789   0.000000 -0.000411   \n",
       "1  1980-12-16  0.087136   0.086707    0.095774   0.000000 -0.001276   \n",
       "2  1980-12-17  0.088853   0.088853    0.094516  17.932971 -0.001768   \n",
       "3  1980-12-18  0.091429   0.091429    0.093955  34.260996 -0.001928   \n",
       "4  1980-12-19  0.097009   0.097009    0.094510  56.093525 -0.001586   \n",
       "\n",
       "   Signal_Line  MACD_Histogram    SMA_20  upper_band  lower_band  \n",
       "0    -0.000082       -0.000329  0.098235    0.105519    0.090951  \n",
       "1    -0.000321       -0.000955  0.097137    0.110273    0.084001  \n",
       "2    -0.000610       -0.001158  0.096348    0.109358    0.083339  \n",
       "3    -0.000874       -0.001054  0.095880    0.107771    0.083989  \n",
       "4    -0.001016       -0.000570  0.095988    0.106579    0.085396  "
      ]
     },
     "execution_count": 6,
     "metadata": {},
     "output_type": "execute_result"
    }
   ],
   "source": [
    "stocks.head()"
   ]
  },
  {
   "cell_type": "code",
   "execution_count": 7,
   "metadata": {},
   "outputs": [
    {
     "data": {
      "text/html": [
       "<div>\n",
       "<style scoped>\n",
       "    .dataframe tbody tr th:only-of-type {\n",
       "        vertical-align: middle;\n",
       "    }\n",
       "\n",
       "    .dataframe tbody tr th {\n",
       "        vertical-align: top;\n",
       "    }\n",
       "\n",
       "    .dataframe thead th {\n",
       "        text-align: right;\n",
       "    }\n",
       "</style>\n",
       "<table border=\"1\" class=\"dataframe\">\n",
       "  <thead>\n",
       "    <tr style=\"text-align: right;\">\n",
       "      <th></th>\n",
       "      <th>publish_date</th>\n",
       "      <th>headline_text</th>\n",
       "      <th>pos_score</th>\n",
       "      <th>neg_score</th>\n",
       "      <th>neu_score</th>\n",
       "      <th>sentiment_label_num</th>\n",
       "    </tr>\n",
       "  </thead>\n",
       "  <tbody>\n",
       "    <tr>\n",
       "      <th>0</th>\n",
       "      <td>2001-07-29</td>\n",
       "      <td>UTI grapples with potential Rs 1;700 cr pay-out</td>\n",
       "      <td>5.954629e-05</td>\n",
       "      <td>0.000055</td>\n",
       "      <td>0.999885</td>\n",
       "      <td>0</td>\n",
       "    </tr>\n",
       "    <tr>\n",
       "      <th>1</th>\n",
       "      <td>2001-09-17</td>\n",
       "      <td>Gujarat Samachar keeps markets guessing</td>\n",
       "      <td>1.412349e-05</td>\n",
       "      <td>0.001669</td>\n",
       "      <td>0.998317</td>\n",
       "      <td>0</td>\n",
       "    </tr>\n",
       "    <tr>\n",
       "      <th>2</th>\n",
       "      <td>2001-10-10</td>\n",
       "      <td>Sony to spend Rs 2.5 cr in ads for audios</td>\n",
       "      <td>2.925312e-07</td>\n",
       "      <td>0.000155</td>\n",
       "      <td>0.999844</td>\n",
       "      <td>0</td>\n",
       "    </tr>\n",
       "    <tr>\n",
       "      <th>3</th>\n",
       "      <td>2001-10-14</td>\n",
       "      <td>US firms grapple with rules after WTC attacks</td>\n",
       "      <td>3.226345e-04</td>\n",
       "      <td>0.924971</td>\n",
       "      <td>0.074706</td>\n",
       "      <td>-1</td>\n",
       "    </tr>\n",
       "    <tr>\n",
       "      <th>4</th>\n",
       "      <td>2001-10-29</td>\n",
       "      <td>Govt to spend Rs 225cr on info kiosks in N-E</td>\n",
       "      <td>1.882406e-08</td>\n",
       "      <td>0.000004</td>\n",
       "      <td>0.999996</td>\n",
       "      <td>0</td>\n",
       "    </tr>\n",
       "  </tbody>\n",
       "</table>\n",
       "</div>"
      ],
      "text/plain": [
       "  publish_date                                    headline_text     pos_score  \\\n",
       "0   2001-07-29  UTI grapples with potential Rs 1;700 cr pay-out  5.954629e-05   \n",
       "1   2001-09-17          Gujarat Samachar keeps markets guessing  1.412349e-05   \n",
       "2   2001-10-10        Sony to spend Rs 2.5 cr in ads for audios  2.925312e-07   \n",
       "3   2001-10-14    US firms grapple with rules after WTC attacks  3.226345e-04   \n",
       "4   2001-10-29     Govt to spend Rs 225cr on info kiosks in N-E  1.882406e-08   \n",
       "\n",
       "   neg_score  neu_score  sentiment_label_num  \n",
       "0   0.000055   0.999885                    0  \n",
       "1   0.001669   0.998317                    0  \n",
       "2   0.000155   0.999844                    0  \n",
       "3   0.924971   0.074706                   -1  \n",
       "4   0.000004   0.999996                    0  "
      ]
     },
     "execution_count": 7,
     "metadata": {},
     "output_type": "execute_result"
    }
   ],
   "source": [
    "news.head()"
   ]
  },
  {
   "cell_type": "markdown",
   "metadata": {},
   "source": [
    "Concatenate data based on date column from stocks, which is equivalent to publish_date columns on the right"
   ]
  },
  {
   "cell_type": "code",
   "execution_count": 8,
   "metadata": {},
   "outputs": [],
   "source": [
    "df = pd.merge(left=stocks, right=news, left_on=\"date\", right_on=\"publish_date\", sort='date')"
   ]
  },
  {
   "cell_type": "code",
   "execution_count": 9,
   "metadata": {},
   "outputs": [
    {
     "name": "stdout",
     "output_type": "stream",
     "text": [
      "<class 'pandas.core.frame.DataFrame'>\n",
      "RangeIndex: 3727 entries, 0 to 3726\n",
      "Data columns (total 17 columns):\n",
      " #   Column               Non-Null Count  Dtype  \n",
      "---  ------               --------------  -----  \n",
      " 0   date                 3727 non-null   object \n",
      " 1   open                 3727 non-null   float64\n",
      " 2   adj_close            3727 non-null   float64\n",
      " 3   rolling_ma           3727 non-null   float64\n",
      " 4   RSI                  3727 non-null   float64\n",
      " 5   MACD                 3727 non-null   float64\n",
      " 6   Signal_Line          3727 non-null   float64\n",
      " 7   MACD_Histogram       3727 non-null   float64\n",
      " 8   SMA_20               3727 non-null   float64\n",
      " 9   upper_band           3727 non-null   float64\n",
      " 10  lower_band           3727 non-null   float64\n",
      " 11  publish_date         3727 non-null   object \n",
      " 12  headline_text        3727 non-null   object \n",
      " 13  pos_score            3727 non-null   float64\n",
      " 14  neg_score            3727 non-null   float64\n",
      " 15  neu_score            3727 non-null   float64\n",
      " 16  sentiment_label_num  3727 non-null   int64  \n",
      "dtypes: float64(13), int64(1), object(3)\n",
      "memory usage: 495.1+ KB\n"
     ]
    }
   ],
   "source": [
    "df.info()"
   ]
  },
  {
   "cell_type": "code",
   "execution_count": 10,
   "metadata": {},
   "outputs": [
    {
     "data": {
      "text/html": [
       "<div>\n",
       "<style scoped>\n",
       "    .dataframe tbody tr th:only-of-type {\n",
       "        vertical-align: middle;\n",
       "    }\n",
       "\n",
       "    .dataframe tbody tr th {\n",
       "        vertical-align: top;\n",
       "    }\n",
       "\n",
       "    .dataframe thead th {\n",
       "        text-align: right;\n",
       "    }\n",
       "</style>\n",
       "<table border=\"1\" class=\"dataframe\">\n",
       "  <thead>\n",
       "    <tr style=\"text-align: right;\">\n",
       "      <th></th>\n",
       "      <th>date</th>\n",
       "      <th>open</th>\n",
       "      <th>adj_close</th>\n",
       "      <th>rolling_ma</th>\n",
       "      <th>RSI</th>\n",
       "      <th>MACD</th>\n",
       "      <th>Signal_Line</th>\n",
       "      <th>MACD_Histogram</th>\n",
       "      <th>SMA_20</th>\n",
       "      <th>upper_band</th>\n",
       "      <th>lower_band</th>\n",
       "      <th>publish_date</th>\n",
       "      <th>headline_text</th>\n",
       "      <th>pos_score</th>\n",
       "      <th>neg_score</th>\n",
       "      <th>neu_score</th>\n",
       "      <th>sentiment_label_num</th>\n",
       "    </tr>\n",
       "  </thead>\n",
       "  <tbody>\n",
       "    <tr>\n",
       "      <th>3722</th>\n",
       "      <td>2023-06-15</td>\n",
       "      <td>182.375250</td>\n",
       "      <td>41307.297363</td>\n",
       "      <td>40380.336207</td>\n",
       "      <td>80.075070</td>\n",
       "      <td>821.215688</td>\n",
       "      <td>731.108692</td>\n",
       "      <td>90.106996</td>\n",
       "      <td>39744.368189</td>\n",
       "      <td>42217.019695</td>\n",
       "      <td>37271.716683</td>\n",
       "      <td>2023-06-15</td>\n",
       "      <td>Apple to may make 18% of iPhones in India by t...</td>\n",
       "      <td>2.926116e-06</td>\n",
       "      <td>0.000003</td>\n",
       "      <td>0.999994</td>\n",
       "      <td>0</td>\n",
       "    </tr>\n",
       "    <tr>\n",
       "      <th>3723</th>\n",
       "      <td>2023-06-16</td>\n",
       "      <td>185.121370</td>\n",
       "      <td>41065.240234</td>\n",
       "      <td>40504.864212</td>\n",
       "      <td>71.421449</td>\n",
       "      <td>826.339499</td>\n",
       "      <td>750.154854</td>\n",
       "      <td>76.184645</td>\n",
       "      <td>39870.165527</td>\n",
       "      <td>42353.050550</td>\n",
       "      <td>37387.280503</td>\n",
       "      <td>2023-06-16</td>\n",
       "      <td>Why Twitter founder Jack Dorsey is not impress...</td>\n",
       "      <td>1.738672e-03</td>\n",
       "      <td>0.590583</td>\n",
       "      <td>0.407678</td>\n",
       "      <td>-1</td>\n",
       "    </tr>\n",
       "    <tr>\n",
       "      <th>3724</th>\n",
       "      <td>2023-06-21</td>\n",
       "      <td>183.307149</td>\n",
       "      <td>40852.058105</td>\n",
       "      <td>40654.325560</td>\n",
       "      <td>63.061677</td>\n",
       "      <td>791.573804</td>\n",
       "      <td>770.018893</td>\n",
       "      <td>21.554911</td>\n",
       "      <td>40068.378411</td>\n",
       "      <td>42477.369141</td>\n",
       "      <td>37659.387681</td>\n",
       "      <td>2023-06-21</td>\n",
       "      <td>Apple is changing the ad format for developers...</td>\n",
       "      <td>1.054115e-05</td>\n",
       "      <td>0.006370</td>\n",
       "      <td>0.993619</td>\n",
       "      <td>0</td>\n",
       "    </tr>\n",
       "    <tr>\n",
       "      <th>3725</th>\n",
       "      <td>2023-06-28</td>\n",
       "      <td>186.311024</td>\n",
       "      <td>42026.803711</td>\n",
       "      <td>41279.156945</td>\n",
       "      <td>73.821424</td>\n",
       "      <td>817.820628</td>\n",
       "      <td>792.664835</td>\n",
       "      <td>25.155793</td>\n",
       "      <td>40675.634642</td>\n",
       "      <td>43138.937128</td>\n",
       "      <td>38212.332155</td>\n",
       "      <td>2023-06-28</td>\n",
       "      <td>Here's what Apple has to say on UK law opposed...</td>\n",
       "      <td>4.154859e-07</td>\n",
       "      <td>0.000057</td>\n",
       "      <td>0.999943</td>\n",
       "      <td>0</td>\n",
       "    </tr>\n",
       "    <tr>\n",
       "      <th>3726</th>\n",
       "      <td>2023-06-30</td>\n",
       "      <td>189.979188</td>\n",
       "      <td>43074.981934</td>\n",
       "      <td>41728.123109</td>\n",
       "      <td>83.366198</td>\n",
       "      <td>912.655179</td>\n",
       "      <td>823.086132</td>\n",
       "      <td>89.569047</td>\n",
       "      <td>41027.077390</td>\n",
       "      <td>43764.603564</td>\n",
       "      <td>38289.551217</td>\n",
       "      <td>2023-06-30</td>\n",
       "      <td>Global macro; financial market risk perception...</td>\n",
       "      <td>3.025393e-03</td>\n",
       "      <td>0.996643</td>\n",
       "      <td>0.000332</td>\n",
       "      <td>-1</td>\n",
       "    </tr>\n",
       "  </tbody>\n",
       "</table>\n",
       "</div>"
      ],
      "text/plain": [
       "            date        open     adj_close    rolling_ma        RSI  \\\n",
       "3722  2023-06-15  182.375250  41307.297363  40380.336207  80.075070   \n",
       "3723  2023-06-16  185.121370  41065.240234  40504.864212  71.421449   \n",
       "3724  2023-06-21  183.307149  40852.058105  40654.325560  63.061677   \n",
       "3725  2023-06-28  186.311024  42026.803711  41279.156945  73.821424   \n",
       "3726  2023-06-30  189.979188  43074.981934  41728.123109  83.366198   \n",
       "\n",
       "            MACD  Signal_Line  MACD_Histogram        SMA_20    upper_band  \\\n",
       "3722  821.215688   731.108692       90.106996  39744.368189  42217.019695   \n",
       "3723  826.339499   750.154854       76.184645  39870.165527  42353.050550   \n",
       "3724  791.573804   770.018893       21.554911  40068.378411  42477.369141   \n",
       "3725  817.820628   792.664835       25.155793  40675.634642  43138.937128   \n",
       "3726  912.655179   823.086132       89.569047  41027.077390  43764.603564   \n",
       "\n",
       "        lower_band publish_date  \\\n",
       "3722  37271.716683   2023-06-15   \n",
       "3723  37387.280503   2023-06-16   \n",
       "3724  37659.387681   2023-06-21   \n",
       "3725  38212.332155   2023-06-28   \n",
       "3726  38289.551217   2023-06-30   \n",
       "\n",
       "                                          headline_text     pos_score  \\\n",
       "3722  Apple to may make 18% of iPhones in India by t...  2.926116e-06   \n",
       "3723  Why Twitter founder Jack Dorsey is not impress...  1.738672e-03   \n",
       "3724  Apple is changing the ad format for developers...  1.054115e-05   \n",
       "3725  Here's what Apple has to say on UK law opposed...  4.154859e-07   \n",
       "3726  Global macro; financial market risk perception...  3.025393e-03   \n",
       "\n",
       "      neg_score  neu_score  sentiment_label_num  \n",
       "3722   0.000003   0.999994                    0  \n",
       "3723   0.590583   0.407678                   -1  \n",
       "3724   0.006370   0.993619                    0  \n",
       "3725   0.000057   0.999943                    0  \n",
       "3726   0.996643   0.000332                   -1  "
      ]
     },
     "execution_count": 10,
     "metadata": {},
     "output_type": "execute_result"
    }
   ],
   "source": [
    "df.tail()"
   ]
  },
  {
   "cell_type": "markdown",
   "metadata": {},
   "source": [
    "##### Prepare data"
   ]
  },
  {
   "cell_type": "markdown",
   "metadata": {},
   "source": [
    "Set window size to 5, meaning we should consider past 5 values"
   ]
  },
  {
   "cell_type": "code",
   "execution_count": 11,
   "metadata": {},
   "outputs": [],
   "source": [
    "window_size = 5"
   ]
  },
  {
   "cell_type": "markdown",
   "metadata": {},
   "source": [
    "- Create Sequence of stocks data with requeired \n",
    "- The sequence contains past 5 data points for each record"
   ]
  },
  {
   "cell_type": "code",
   "execution_count": 12,
   "metadata": {},
   "outputs": [],
   "source": [
    "x = [np.nan for i in range(window_size)]\n",
    "\n",
    "for i in range(len(df) - window_size):\n",
    "    x.append(df.iloc[i : i + window_size, [1, 3, 4, 5, 6, 7, 8, 9, 10]].values)"
   ]
  },
  {
   "cell_type": "code",
   "execution_count": 13,
   "metadata": {},
   "outputs": [],
   "source": [
    "# store it in data back\n",
    "df['sequence'] = x"
   ]
  },
  {
   "cell_type": "code",
   "execution_count": 14,
   "metadata": {},
   "outputs": [],
   "source": [
    "# remove the null values (because of sequence)\n",
    "df.dropna(inplace=True)"
   ]
  },
  {
   "cell_type": "markdown",
   "metadata": {},
   "source": [
    "Save the data"
   ]
  },
  {
   "cell_type": "code",
   "execution_count": 15,
   "metadata": {},
   "outputs": [],
   "source": [
    "df.to_csv(\"../Data/processed/final_data1.csv\")"
   ]
  },
  {
   "cell_type": "markdown",
   "metadata": {},
   "source": [
    "- Take only required columns as inputs and output\n",
    "- X1 contains stock input which is simply the sequence we generated\n",
    "- X2 contains the news data, which is the sentiment scores\n",
    "- y contains the output data"
   ]
  },
  {
   "cell_type": "code",
   "execution_count": 16,
   "metadata": {},
   "outputs": [],
   "source": [
    "X1 = df['sequence']\n",
    "X2 = df[['pos_score', 'neg_score', \"neu_score\", 'sentiment_label_num']]\n",
    "\n",
    "y = df['adj_close']"
   ]
  },
  {
   "cell_type": "markdown",
   "metadata": {},
   "source": [
    "Split the data for training and test"
   ]
  },
  {
   "cell_type": "code",
   "execution_count": 17,
   "metadata": {},
   "outputs": [],
   "source": [
    "X1_train, X1_test, X2_train, X2_test, y_train, y_test = train_test_split(\n",
    "    X1, X2, y, test_size=0.2, random_state=42\n",
    ")"
   ]
  },
  {
   "cell_type": "markdown",
   "metadata": {},
   "source": [
    "Scale the data into relevant range for better performance"
   ]
  },
  {
   "cell_type": "code",
   "execution_count": 18,
   "metadata": {},
   "outputs": [],
   "source": [
    "# for stock input data\n",
    "stock_input_scaler = StandardScaler()\n",
    "# for news input data\n",
    "news_input_scaler = StandardScaler()\n",
    "# for output data\n",
    "target_scaler = StandardScaler()"
   ]
  },
  {
   "cell_type": "code",
   "execution_count": 19,
   "metadata": {},
   "outputs": [
    {
     "data": {
      "text/plain": [
       "(2977, 5, 9)"
      ]
     },
     "execution_count": 19,
     "metadata": {},
     "output_type": "execute_result"
    }
   ],
   "source": [
    "# convert the data into numpy array\n",
    "X1_array = np.array(X1_train.tolist())\n",
    "samples, timesteps, features = X1_array.shape\n",
    "\n",
    "# reshape to 2d since standard scaler won't work with 3d\n",
    "X1_reshaped = X1_array.reshape((samples, timesteps * features))\n",
    "\n",
    "X1_reshaped_scaled = stock_input_scaler.fit_transform(X1_reshaped)\n",
    "\n",
    "# again reshape to 3d\n",
    "X1_scaled = X1_reshaped_scaled.reshape((samples, timesteps, features))\n",
    "\n",
    "X1_scaled.shape"
   ]
  },
  {
   "cell_type": "code",
   "execution_count": 20,
   "metadata": {},
   "outputs": [
    {
     "data": {
      "text/plain": [
       "(2977, 4)"
      ]
     },
     "execution_count": 20,
     "metadata": {},
     "output_type": "execute_result"
    }
   ],
   "source": [
    "# scale news data\n",
    "X2_array = X2_train.values\n",
    "\n",
    "X2_scaled = news_input_scaler.fit_transform(X2_array)\n",
    "\n",
    "X2_scaled.shape"
   ]
  },
  {
   "cell_type": "code",
   "execution_count": 21,
   "metadata": {},
   "outputs": [
    {
     "data": {
      "text/plain": [
       "(2977, 1)"
      ]
     },
     "execution_count": 21,
     "metadata": {},
     "output_type": "execute_result"
    }
   ],
   "source": [
    "# scale output\n",
    "y_scaled = target_scaler.fit_transform(y_train.values.reshape(-1,1))\n",
    "\n",
    "y_scaled.shape"
   ]
  },
  {
   "cell_type": "code",
   "execution_count": 22,
   "metadata": {},
   "outputs": [
    {
     "data": {
      "text/plain": [
       "((2977, 5, 9), (2977, 4), (2977, 1))"
      ]
     },
     "execution_count": 22,
     "metadata": {},
     "output_type": "execute_result"
    }
   ],
   "source": [
    "X1_scaled.shape, X2_scaled.shape, y_scaled.shape"
   ]
  },
  {
   "cell_type": "markdown",
   "metadata": {},
   "source": [
    "##### Define model and train"
   ]
  },
  {
   "cell_type": "markdown",
   "metadata": {},
   "source": [
    "model for time series data is imported from the previously train model"
   ]
  },
  {
   "cell_type": "code",
   "execution_count": 23,
   "metadata": {},
   "outputs": [
    {
     "name": "stderr",
     "output_type": "stream",
     "text": [
      "WARNING:absl:Compiled the loaded model, but the compiled metrics have yet to be built. `model.compile_metrics` will be empty until you train or evaluate the model.\n"
     ]
    }
   ],
   "source": [
    "# for news input\n",
    "time_series_input = Input(shape=(window_size, 9), name=\"time_series_input\")\n",
    "# model\n",
    "time_series = load_model(\"../models/stock-prediction.h5\", custom_objects={\"mse\": tf.keras.losses.MeanSquaredError()})\n",
    "# pass input to model to get output\n",
    "time_series_output = time_series(time_series_input)"
   ]
  },
  {
   "cell_type": "markdown",
   "metadata": {},
   "source": [
    "For news data use dense layer which takes already processed sentiment scores as input"
   ]
  },
  {
   "cell_type": "code",
   "execution_count": 24,
   "metadata": {},
   "outputs": [],
   "source": [
    "# FinBERT Sentiment Branch (Sentiment Scores + Label)\n",
    "# Pos, Neg, Neu, Sentiment Label (one-hot encoded)\n",
    "news_sentiment_input = Input(shape=(4,), name=\"news_sentiment_input\") \n",
    "news_sentiment = Dense(16, activation=\"relu\")(news_sentiment_input)"
   ]
  },
  {
   "cell_type": "markdown",
   "metadata": {},
   "source": [
    "Merge the two models to get final output"
   ]
  },
  {
   "cell_type": "code",
   "execution_count": 25,
   "metadata": {},
   "outputs": [],
   "source": [
    "# # Merge Both Inputs\n",
    "merged = Concatenate()([time_series_output, news_sentiment])\n",
    "merged = Dense(32, activation=\"relu\")(merged)\n",
    "merged = Dense(16, activation=\"relu\")(merged)\n",
    "final_output = Dense(1, activation=\"linear\", name=\"predicted_stock_price\")(merged)"
   ]
  },
  {
   "cell_type": "markdown",
   "metadata": {},
   "source": [
    "Build and Compile the model"
   ]
  },
  {
   "cell_type": "code",
   "execution_count": 26,
   "metadata": {},
   "outputs": [
    {
     "data": {
      "text/html": [
       "<pre style=\"white-space:pre;overflow-x:auto;line-height:normal;font-family:Menlo,'DejaVu Sans Mono',consolas,'Courier New',monospace\"><span style=\"font-weight: bold\">Model: \"functional_4\"</span>\n",
       "</pre>\n"
      ],
      "text/plain": [
       "\u001b[1mModel: \"functional_4\"\u001b[0m\n"
      ]
     },
     "metadata": {},
     "output_type": "display_data"
    },
    {
     "data": {
      "text/html": [
       "<pre style=\"white-space:pre;overflow-x:auto;line-height:normal;font-family:Menlo,'DejaVu Sans Mono',consolas,'Courier New',monospace\">┏━━━━━━━━━━━━━━━━━━━━━┳━━━━━━━━━━━━━━━━━━━┳━━━━━━━━━━━━┳━━━━━━━━━━━━━━━━━━━┓\n",
       "┃<span style=\"font-weight: bold\"> Layer (type)        </span>┃<span style=\"font-weight: bold\"> Output Shape      </span>┃<span style=\"font-weight: bold\">    Param # </span>┃<span style=\"font-weight: bold\"> Connected to      </span>┃\n",
       "┡━━━━━━━━━━━━━━━━━━━━━╇━━━━━━━━━━━━━━━━━━━╇━━━━━━━━━━━━╇━━━━━━━━━━━━━━━━━━━┩\n",
       "│ time_series_input   │ (<span style=\"color: #00d7ff; text-decoration-color: #00d7ff\">None</span>, <span style=\"color: #00af00; text-decoration-color: #00af00\">5</span>, <span style=\"color: #00af00; text-decoration-color: #00af00\">9</span>)      │          <span style=\"color: #00af00; text-decoration-color: #00af00\">0</span> │ -                 │\n",
       "│ (<span style=\"color: #0087ff; text-decoration-color: #0087ff\">InputLayer</span>)        │                   │            │                   │\n",
       "├─────────────────────┼───────────────────┼────────────┼───────────────────┤\n",
       "│ news_sentiment_inp… │ (<span style=\"color: #00d7ff; text-decoration-color: #00d7ff\">None</span>, <span style=\"color: #00af00; text-decoration-color: #00af00\">4</span>)         │          <span style=\"color: #00af00; text-decoration-color: #00af00\">0</span> │ -                 │\n",
       "│ (<span style=\"color: #0087ff; text-decoration-color: #0087ff\">InputLayer</span>)        │                   │            │                   │\n",
       "├─────────────────────┼───────────────────┼────────────┼───────────────────┤\n",
       "│ sequential          │ (<span style=\"color: #00d7ff; text-decoration-color: #00d7ff\">None</span>, <span style=\"color: #00af00; text-decoration-color: #00af00\">1</span>)         │     <span style=\"color: #00af00; text-decoration-color: #00af00\">14,547</span> │ time_series_inpu… │\n",
       "│ (<span style=\"color: #0087ff; text-decoration-color: #0087ff\">Sequential</span>)        │                   │            │                   │\n",
       "├─────────────────────┼───────────────────┼────────────┼───────────────────┤\n",
       "│ dense (<span style=\"color: #0087ff; text-decoration-color: #0087ff\">Dense</span>)       │ (<span style=\"color: #00d7ff; text-decoration-color: #00d7ff\">None</span>, <span style=\"color: #00af00; text-decoration-color: #00af00\">16</span>)        │         <span style=\"color: #00af00; text-decoration-color: #00af00\">80</span> │ news_sentiment_i… │\n",
       "├─────────────────────┼───────────────────┼────────────┼───────────────────┤\n",
       "│ concatenate         │ (<span style=\"color: #00d7ff; text-decoration-color: #00d7ff\">None</span>, <span style=\"color: #00af00; text-decoration-color: #00af00\">17</span>)        │          <span style=\"color: #00af00; text-decoration-color: #00af00\">0</span> │ sequential[<span style=\"color: #00af00; text-decoration-color: #00af00\">0</span>][<span style=\"color: #00af00; text-decoration-color: #00af00\">0</span>], │\n",
       "│ (<span style=\"color: #0087ff; text-decoration-color: #0087ff\">Concatenate</span>)       │                   │            │ dense[<span style=\"color: #00af00; text-decoration-color: #00af00\">0</span>][<span style=\"color: #00af00; text-decoration-color: #00af00\">0</span>]       │\n",
       "├─────────────────────┼───────────────────┼────────────┼───────────────────┤\n",
       "│ dense_1 (<span style=\"color: #0087ff; text-decoration-color: #0087ff\">Dense</span>)     │ (<span style=\"color: #00d7ff; text-decoration-color: #00d7ff\">None</span>, <span style=\"color: #00af00; text-decoration-color: #00af00\">32</span>)        │        <span style=\"color: #00af00; text-decoration-color: #00af00\">576</span> │ concatenate[<span style=\"color: #00af00; text-decoration-color: #00af00\">0</span>][<span style=\"color: #00af00; text-decoration-color: #00af00\">0</span>] │\n",
       "├─────────────────────┼───────────────────┼────────────┼───────────────────┤\n",
       "│ dense_2 (<span style=\"color: #0087ff; text-decoration-color: #0087ff\">Dense</span>)     │ (<span style=\"color: #00d7ff; text-decoration-color: #00d7ff\">None</span>, <span style=\"color: #00af00; text-decoration-color: #00af00\">16</span>)        │        <span style=\"color: #00af00; text-decoration-color: #00af00\">528</span> │ dense_1[<span style=\"color: #00af00; text-decoration-color: #00af00\">0</span>][<span style=\"color: #00af00; text-decoration-color: #00af00\">0</span>]     │\n",
       "├─────────────────────┼───────────────────┼────────────┼───────────────────┤\n",
       "│ predicted_stock_pr… │ (<span style=\"color: #00d7ff; text-decoration-color: #00d7ff\">None</span>, <span style=\"color: #00af00; text-decoration-color: #00af00\">1</span>)         │         <span style=\"color: #00af00; text-decoration-color: #00af00\">17</span> │ dense_2[<span style=\"color: #00af00; text-decoration-color: #00af00\">0</span>][<span style=\"color: #00af00; text-decoration-color: #00af00\">0</span>]     │\n",
       "│ (<span style=\"color: #0087ff; text-decoration-color: #0087ff\">Dense</span>)             │                   │            │                   │\n",
       "└─────────────────────┴───────────────────┴────────────┴───────────────────┘\n",
       "</pre>\n"
      ],
      "text/plain": [
       "┏━━━━━━━━━━━━━━━━━━━━━┳━━━━━━━━━━━━━━━━━━━┳━━━━━━━━━━━━┳━━━━━━━━━━━━━━━━━━━┓\n",
       "┃\u001b[1m \u001b[0m\u001b[1mLayer (type)       \u001b[0m\u001b[1m \u001b[0m┃\u001b[1m \u001b[0m\u001b[1mOutput Shape     \u001b[0m\u001b[1m \u001b[0m┃\u001b[1m \u001b[0m\u001b[1m   Param #\u001b[0m\u001b[1m \u001b[0m┃\u001b[1m \u001b[0m\u001b[1mConnected to     \u001b[0m\u001b[1m \u001b[0m┃\n",
       "┡━━━━━━━━━━━━━━━━━━━━━╇━━━━━━━━━━━━━━━━━━━╇━━━━━━━━━━━━╇━━━━━━━━━━━━━━━━━━━┩\n",
       "│ time_series_input   │ (\u001b[38;5;45mNone\u001b[0m, \u001b[38;5;34m5\u001b[0m, \u001b[38;5;34m9\u001b[0m)      │          \u001b[38;5;34m0\u001b[0m │ -                 │\n",
       "│ (\u001b[38;5;33mInputLayer\u001b[0m)        │                   │            │                   │\n",
       "├─────────────────────┼───────────────────┼────────────┼───────────────────┤\n",
       "│ news_sentiment_inp… │ (\u001b[38;5;45mNone\u001b[0m, \u001b[38;5;34m4\u001b[0m)         │          \u001b[38;5;34m0\u001b[0m │ -                 │\n",
       "│ (\u001b[38;5;33mInputLayer\u001b[0m)        │                   │            │                   │\n",
       "├─────────────────────┼───────────────────┼────────────┼───────────────────┤\n",
       "│ sequential          │ (\u001b[38;5;45mNone\u001b[0m, \u001b[38;5;34m1\u001b[0m)         │     \u001b[38;5;34m14,547\u001b[0m │ time_series_inpu… │\n",
       "│ (\u001b[38;5;33mSequential\u001b[0m)        │                   │            │                   │\n",
       "├─────────────────────┼───────────────────┼────────────┼───────────────────┤\n",
       "│ dense (\u001b[38;5;33mDense\u001b[0m)       │ (\u001b[38;5;45mNone\u001b[0m, \u001b[38;5;34m16\u001b[0m)        │         \u001b[38;5;34m80\u001b[0m │ news_sentiment_i… │\n",
       "├─────────────────────┼───────────────────┼────────────┼───────────────────┤\n",
       "│ concatenate         │ (\u001b[38;5;45mNone\u001b[0m, \u001b[38;5;34m17\u001b[0m)        │          \u001b[38;5;34m0\u001b[0m │ sequential[\u001b[38;5;34m0\u001b[0m][\u001b[38;5;34m0\u001b[0m], │\n",
       "│ (\u001b[38;5;33mConcatenate\u001b[0m)       │                   │            │ dense[\u001b[38;5;34m0\u001b[0m][\u001b[38;5;34m0\u001b[0m]       │\n",
       "├─────────────────────┼───────────────────┼────────────┼───────────────────┤\n",
       "│ dense_1 (\u001b[38;5;33mDense\u001b[0m)     │ (\u001b[38;5;45mNone\u001b[0m, \u001b[38;5;34m32\u001b[0m)        │        \u001b[38;5;34m576\u001b[0m │ concatenate[\u001b[38;5;34m0\u001b[0m][\u001b[38;5;34m0\u001b[0m] │\n",
       "├─────────────────────┼───────────────────┼────────────┼───────────────────┤\n",
       "│ dense_2 (\u001b[38;5;33mDense\u001b[0m)     │ (\u001b[38;5;45mNone\u001b[0m, \u001b[38;5;34m16\u001b[0m)        │        \u001b[38;5;34m528\u001b[0m │ dense_1[\u001b[38;5;34m0\u001b[0m][\u001b[38;5;34m0\u001b[0m]     │\n",
       "├─────────────────────┼───────────────────┼────────────┼───────────────────┤\n",
       "│ predicted_stock_pr… │ (\u001b[38;5;45mNone\u001b[0m, \u001b[38;5;34m1\u001b[0m)         │         \u001b[38;5;34m17\u001b[0m │ dense_2[\u001b[38;5;34m0\u001b[0m][\u001b[38;5;34m0\u001b[0m]     │\n",
       "│ (\u001b[38;5;33mDense\u001b[0m)             │                   │            │                   │\n",
       "└─────────────────────┴───────────────────┴────────────┴───────────────────┘\n"
      ]
     },
     "metadata": {},
     "output_type": "display_data"
    },
    {
     "data": {
      "text/html": [
       "<pre style=\"white-space:pre;overflow-x:auto;line-height:normal;font-family:Menlo,'DejaVu Sans Mono',consolas,'Courier New',monospace\"><span style=\"font-weight: bold\"> Total params: </span><span style=\"color: #00af00; text-decoration-color: #00af00\">15,748</span> (61.52 KB)\n",
       "</pre>\n"
      ],
      "text/plain": [
       "\u001b[1m Total params: \u001b[0m\u001b[38;5;34m15,748\u001b[0m (61.52 KB)\n"
      ]
     },
     "metadata": {},
     "output_type": "display_data"
    },
    {
     "data": {
      "text/html": [
       "<pre style=\"white-space:pre;overflow-x:auto;line-height:normal;font-family:Menlo,'DejaVu Sans Mono',consolas,'Courier New',monospace\"><span style=\"font-weight: bold\"> Trainable params: </span><span style=\"color: #00af00; text-decoration-color: #00af00\">15,748</span> (61.52 KB)\n",
       "</pre>\n"
      ],
      "text/plain": [
       "\u001b[1m Trainable params: \u001b[0m\u001b[38;5;34m15,748\u001b[0m (61.52 KB)\n"
      ]
     },
     "metadata": {},
     "output_type": "display_data"
    },
    {
     "data": {
      "text/html": [
       "<pre style=\"white-space:pre;overflow-x:auto;line-height:normal;font-family:Menlo,'DejaVu Sans Mono',consolas,'Courier New',monospace\"><span style=\"font-weight: bold\"> Non-trainable params: </span><span style=\"color: #00af00; text-decoration-color: #00af00\">0</span> (0.00 B)\n",
       "</pre>\n"
      ],
      "text/plain": [
       "\u001b[1m Non-trainable params: \u001b[0m\u001b[38;5;34m0\u001b[0m (0.00 B)\n"
      ]
     },
     "metadata": {},
     "output_type": "display_data"
    }
   ],
   "source": [
    "# # Build Model\n",
    "model = tf.keras.Model(inputs=[time_series_input ,news_sentiment_input], outputs=final_output)\n",
    "model.compile(optimizer=\"adam\", loss = tf.keras.losses.MeanSquaredError())\n",
    "\n",
    "# # Model Summary\n",
    "model.summary()\n"
   ]
  },
  {
   "cell_type": "markdown",
   "metadata": {},
   "source": [
    "##### Training the model"
   ]
  },
  {
   "cell_type": "code",
   "execution_count": 27,
   "metadata": {},
   "outputs": [
    {
     "name": "stdout",
     "output_type": "stream",
     "text": [
      "Epoch 1/10\n",
      "\u001b[1m94/94\u001b[0m \u001b[32m━━━━━━━━━━━━━━━━━━━━\u001b[0m\u001b[37m\u001b[0m \u001b[1m6s\u001b[0m 6ms/step - loss: 0.6734\n",
      "Epoch 2/10\n",
      "\u001b[1m94/94\u001b[0m \u001b[32m━━━━━━━━━━━━━━━━━━━━\u001b[0m\u001b[37m\u001b[0m \u001b[1m1s\u001b[0m 5ms/step - loss: 0.0132\n",
      "Epoch 3/10\n",
      "\u001b[1m94/94\u001b[0m \u001b[32m━━━━━━━━━━━━━━━━━━━━\u001b[0m\u001b[37m\u001b[0m \u001b[1m1s\u001b[0m 5ms/step - loss: 0.0093\n",
      "Epoch 4/10\n",
      "\u001b[1m94/94\u001b[0m \u001b[32m━━━━━━━━━━━━━━━━━━━━\u001b[0m\u001b[37m\u001b[0m \u001b[1m1s\u001b[0m 5ms/step - loss: 0.0030\n",
      "Epoch 5/10\n",
      "\u001b[1m94/94\u001b[0m \u001b[32m━━━━━━━━━━━━━━━━━━━━\u001b[0m\u001b[37m\u001b[0m \u001b[1m1s\u001b[0m 5ms/step - loss: 0.0042\n",
      "Epoch 6/10\n",
      "\u001b[1m94/94\u001b[0m \u001b[32m━━━━━━━━━━━━━━━━━━━━\u001b[0m\u001b[37m\u001b[0m \u001b[1m1s\u001b[0m 5ms/step - loss: 0.0024\n",
      "Epoch 7/10\n",
      "\u001b[1m94/94\u001b[0m \u001b[32m━━━━━━━━━━━━━━━━━━━━\u001b[0m\u001b[37m\u001b[0m \u001b[1m1s\u001b[0m 5ms/step - loss: 0.0034\n",
      "Epoch 8/10\n",
      "\u001b[1m94/94\u001b[0m \u001b[32m━━━━━━━━━━━━━━━━━━━━\u001b[0m\u001b[37m\u001b[0m \u001b[1m1s\u001b[0m 5ms/step - loss: 0.0031\n",
      "Epoch 9/10\n",
      "\u001b[1m94/94\u001b[0m \u001b[32m━━━━━━━━━━━━━━━━━━━━\u001b[0m\u001b[37m\u001b[0m \u001b[1m1s\u001b[0m 6ms/step - loss: 0.0034\n",
      "Epoch 10/10\n",
      "\u001b[1m94/94\u001b[0m \u001b[32m━━━━━━━━━━━━━━━━━━━━\u001b[0m\u001b[37m\u001b[0m \u001b[1m1s\u001b[0m 6ms/step - loss: 0.0060\n"
     ]
    }
   ],
   "source": [
    "h = model.fit([X1_scaled, X2_scaled], y_scaled, epochs=10)"
   ]
  },
  {
   "cell_type": "markdown",
   "metadata": {},
   "source": [
    "##### Model Evaluation"
   ]
  },
  {
   "cell_type": "markdown",
   "metadata": {},
   "source": [
    "Scale Test inputs and outputs"
   ]
  },
  {
   "cell_type": "code",
   "execution_count": 28,
   "metadata": {},
   "outputs": [
    {
     "data": {
      "text/plain": [
       "(745, 5, 9)"
      ]
     },
     "execution_count": 28,
     "metadata": {},
     "output_type": "execute_result"
    }
   ],
   "source": [
    "# for test stock inputs\n",
    "X1_test_array = np.array(X1_test.tolist())\n",
    "samples, timesteps, features = X1_test_array.shape\n",
    "\n",
    "X1_reshaped = X1_test_array.reshape((samples, timesteps * features))\n",
    "\n",
    "X1_reshaped_scaled = stock_input_scaler.transform(X1_reshaped)\n",
    "\n",
    "X1_test_scaled = X1_reshaped_scaled.reshape((samples, timesteps, features))\n",
    "\n",
    "X1_test_scaled.shape"
   ]
  },
  {
   "cell_type": "code",
   "execution_count": 29,
   "metadata": {},
   "outputs": [
    {
     "data": {
      "text/plain": [
       "(745, 4)"
      ]
     },
     "execution_count": 29,
     "metadata": {},
     "output_type": "execute_result"
    }
   ],
   "source": [
    "# for test news inputs\n",
    "X2_test_array = X2_test.values\n",
    "\n",
    "X2_test_scaled = news_input_scaler.transform(X2_test_array)\n",
    "\n",
    "X2_test_scaled.shape"
   ]
  },
  {
   "cell_type": "code",
   "execution_count": 30,
   "metadata": {},
   "outputs": [
    {
     "data": {
      "text/plain": [
       "(745, 1)"
      ]
     },
     "execution_count": 30,
     "metadata": {},
     "output_type": "execute_result"
    }
   ],
   "source": [
    "# for test outputs\n",
    "y_test_scaled = target_scaler.transform(y_test.values.reshape(-1,1))\n",
    "\n",
    "y_test_scaled.shape"
   ]
  },
  {
   "cell_type": "markdown",
   "metadata": {},
   "source": [
    "evaluate model (gives error)"
   ]
  },
  {
   "cell_type": "code",
   "execution_count": 31,
   "metadata": {},
   "outputs": [
    {
     "name": "stdout",
     "output_type": "stream",
     "text": [
      "\u001b[1m24/24\u001b[0m \u001b[32m━━━━━━━━━━━━━━━━━━━━\u001b[0m\u001b[37m\u001b[0m \u001b[1m0s\u001b[0m 3ms/step - loss: 0.0031 \n"
     ]
    },
    {
     "data": {
      "text/plain": [
       "0.0033175956923514605"
      ]
     },
     "execution_count": 31,
     "metadata": {},
     "output_type": "execute_result"
    }
   ],
   "source": [
    "model.evaluate([X1_test_scaled, X2_test_scaled], y_test_scaled)"
   ]
  },
  {
   "cell_type": "markdown",
   "metadata": {},
   "source": [
    "Check R2_Score"
   ]
  },
  {
   "cell_type": "code",
   "execution_count": 32,
   "metadata": {},
   "outputs": [
    {
     "name": "stdout",
     "output_type": "stream",
     "text": [
      "\u001b[1m24/24\u001b[0m \u001b[32m━━━━━━━━━━━━━━━━━━━━\u001b[0m\u001b[37m\u001b[0m \u001b[1m1s\u001b[0m 14ms/step\n"
     ]
    },
    {
     "data": {
      "text/plain": [
       "0.9969121941292477"
      ]
     },
     "execution_count": 32,
     "metadata": {},
     "output_type": "execute_result"
    }
   ],
   "source": [
    "r2_score(model.predict([X1_test_scaled, X2_test_scaled]), y_test_scaled)"
   ]
  },
  {
   "cell_type": "code",
   "execution_count": 33,
   "metadata": {},
   "outputs": [
    {
     "data": {
      "text/plain": [
       "array([[1937.59265137]])"
      ]
     },
     "execution_count": 33,
     "metadata": {},
     "output_type": "execute_result"
    }
   ],
   "source": [
    "target_scaler.inverse_transform(y_test_scaled[15].reshape(1,-1))"
   ]
  },
  {
   "cell_type": "code",
   "execution_count": 34,
   "metadata": {},
   "outputs": [
    {
     "name": "stdout",
     "output_type": "stream",
     "text": [
      "\u001b[1m1/1\u001b[0m \u001b[32m━━━━━━━━━━━━━━━━━━━━\u001b[0m\u001b[37m\u001b[0m \u001b[1m0s\u001b[0m 32ms/step\n"
     ]
    },
    {
     "data": {
      "text/plain": [
       "array([[2000.5894]], dtype=float32)"
      ]
     },
     "execution_count": 34,
     "metadata": {},
     "output_type": "execute_result"
    }
   ],
   "source": [
    "pred = model.predict([X1_test_scaled[15].reshape(1,timesteps, features), X2_test_scaled[10].reshape(1,-1)])\n",
    "target_scaler.inverse_transform(pred)"
   ]
  },
  {
   "cell_type": "markdown",
   "metadata": {},
   "source": [
    "##### Save the model"
   ]
  },
  {
   "cell_type": "code",
   "execution_count": 35,
   "metadata": {},
   "outputs": [
    {
     "name": "stderr",
     "output_type": "stream",
     "text": [
      "WARNING:absl:You are saving your model as an HDF5 file via `model.save()` or `keras.saving.save_model(model)`. This file format is considered legacy. We recommend using instead the native Keras format, e.g. `model.save('my_model.keras')` or `keras.saving.save_model(model, 'my_model.keras')`. \n"
     ]
    }
   ],
   "source": [
    "model.save(\"../models/final_model.h5\")"
   ]
  },
  {
   "cell_type": "code",
   "execution_count": 36,
   "metadata": {},
   "outputs": [],
   "source": [
    "model.save_weights(\"../models/final.weights.h5\")"
   ]
  },
  {
   "cell_type": "code",
   "execution_count": 37,
   "metadata": {},
   "outputs": [],
   "source": [
    "import joblib"
   ]
  },
  {
   "cell_type": "code",
   "execution_count": 38,
   "metadata": {},
   "outputs": [
    {
     "data": {
      "text/plain": [
       "['../models/artifacts/target_scaler.pkl']"
      ]
     },
     "execution_count": 38,
     "metadata": {},
     "output_type": "execute_result"
    }
   ],
   "source": [
    "joblib.dump(stock_input_scaler, '../models/artifacts/stock_scaler.pkl')\n",
    "joblib.dump(news_input_scaler, '../models/artifacts/news_scaler.pkl')\n",
    "joblib.dump(target_scaler, '../models/artifacts/target_scaler.pkl')"
   ]
  },
  {
   "cell_type": "code",
   "execution_count": null,
   "metadata": {},
   "outputs": [],
   "source": []
  }
 ],
 "metadata": {
  "kernelspec": {
   "display_name": "newVenv",
   "language": "python",
   "name": "python3"
  },
  "language_info": {
   "codemirror_mode": {
    "name": "ipython",
    "version": 3
   },
   "file_extension": ".py",
   "mimetype": "text/x-python",
   "name": "python",
   "nbconvert_exporter": "python",
   "pygments_lexer": "ipython3",
   "version": "3.11.4"
  }
 },
 "nbformat": 4,
 "nbformat_minor": 2
}
