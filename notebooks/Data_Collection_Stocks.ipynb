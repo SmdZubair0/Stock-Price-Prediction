{
 "cells": [
  {
   "cell_type": "markdown",
   "metadata": {},
   "source": [
    "#### **Imports**"
   ]
  },
  {
   "cell_type": "code",
   "execution_count": 1,
   "metadata": {},
   "outputs": [],
   "source": [
    "import numpy as np\n",
    "import pandas as pd\n",
    "import yfinance as yf"
   ]
  },
  {
   "cell_type": "markdown",
   "metadata": {},
   "source": [
    "#### **Date Gathering and Preprocessig**"
   ]
  },
  {
   "cell_type": "markdown",
   "metadata": {},
   "source": [
    "##### *Dowloading*"
   ]
  },
  {
   "cell_type": "code",
   "execution_count": 2,
   "metadata": {},
   "outputs": [
    {
     "name": "stdout",
     "output_type": "stream",
     "text": [
      "YF.download() has changed argument auto_adjust default to True\n"
     ]
    },
    {
     "name": "stderr",
     "output_type": "stream",
     "text": [
      "[*********************100%***********************]  1 of 1 completed\n"
     ]
    }
   ],
   "source": [
    "# This is for downloading Apple stock data\n",
    "data = yf.download(tickers = ['AAPL'], start=\"1980-12-12\", end=\"2025-04-01\")"
   ]
  },
  {
   "cell_type": "code",
   "execution_count": 3,
   "metadata": {},
   "outputs": [
    {
     "data": {
      "text/html": [
       "<div>\n",
       "<style scoped>\n",
       "    .dataframe tbody tr th:only-of-type {\n",
       "        vertical-align: middle;\n",
       "    }\n",
       "\n",
       "    .dataframe tbody tr th {\n",
       "        vertical-align: top;\n",
       "    }\n",
       "\n",
       "    .dataframe thead tr th {\n",
       "        text-align: left;\n",
       "    }\n",
       "\n",
       "    .dataframe thead tr:last-of-type th {\n",
       "        text-align: right;\n",
       "    }\n",
       "</style>\n",
       "<table border=\"1\" class=\"dataframe\">\n",
       "  <thead>\n",
       "    <tr>\n",
       "      <th>Price</th>\n",
       "      <th>Close</th>\n",
       "      <th>High</th>\n",
       "      <th>Low</th>\n",
       "      <th>Open</th>\n",
       "      <th>Volume</th>\n",
       "    </tr>\n",
       "    <tr>\n",
       "      <th>Ticker</th>\n",
       "      <th>AAPL</th>\n",
       "      <th>AAPL</th>\n",
       "      <th>AAPL</th>\n",
       "      <th>AAPL</th>\n",
       "      <th>AAPL</th>\n",
       "    </tr>\n",
       "    <tr>\n",
       "      <th>Date</th>\n",
       "      <th></th>\n",
       "      <th></th>\n",
       "      <th></th>\n",
       "      <th></th>\n",
       "      <th></th>\n",
       "    </tr>\n",
       "  </thead>\n",
       "  <tbody>\n",
       "    <tr>\n",
       "      <th>1980-12-12</th>\n",
       "      <td>0.098726</td>\n",
       "      <td>0.099155</td>\n",
       "      <td>0.098726</td>\n",
       "      <td>0.098726</td>\n",
       "      <td>469033600</td>\n",
       "    </tr>\n",
       "    <tr>\n",
       "      <th>1980-12-15</th>\n",
       "      <td>0.093575</td>\n",
       "      <td>0.094005</td>\n",
       "      <td>0.093575</td>\n",
       "      <td>0.094005</td>\n",
       "      <td>175884800</td>\n",
       "    </tr>\n",
       "    <tr>\n",
       "      <th>1980-12-16</th>\n",
       "      <td>0.086707</td>\n",
       "      <td>0.087136</td>\n",
       "      <td>0.086707</td>\n",
       "      <td>0.087136</td>\n",
       "      <td>105728000</td>\n",
       "    </tr>\n",
       "    <tr>\n",
       "      <th>1980-12-17</th>\n",
       "      <td>0.088853</td>\n",
       "      <td>0.089282</td>\n",
       "      <td>0.088853</td>\n",
       "      <td>0.088853</td>\n",
       "      <td>86441600</td>\n",
       "    </tr>\n",
       "    <tr>\n",
       "      <th>1980-12-18</th>\n",
       "      <td>0.091429</td>\n",
       "      <td>0.091858</td>\n",
       "      <td>0.091429</td>\n",
       "      <td>0.091429</td>\n",
       "      <td>73449600</td>\n",
       "    </tr>\n",
       "  </tbody>\n",
       "</table>\n",
       "</div>"
      ],
      "text/plain": [
       "Price          Close      High       Low      Open     Volume\n",
       "Ticker          AAPL      AAPL      AAPL      AAPL       AAPL\n",
       "Date                                                         \n",
       "1980-12-12  0.098726  0.099155  0.098726  0.098726  469033600\n",
       "1980-12-15  0.093575  0.094005  0.093575  0.094005  175884800\n",
       "1980-12-16  0.086707  0.087136  0.086707  0.087136  105728000\n",
       "1980-12-17  0.088853  0.089282  0.088853  0.088853   86441600\n",
       "1980-12-18  0.091429  0.091858  0.091429  0.091429   73449600"
      ]
     },
     "execution_count": 3,
     "metadata": {},
     "output_type": "execute_result"
    }
   ],
   "source": [
    "data.head()"
   ]
  },
  {
   "cell_type": "markdown",
   "metadata": {},
   "source": [
    "##### *Formating and storing*"
   ]
  },
  {
   "cell_type": "code",
   "execution_count": 4,
   "metadata": {},
   "outputs": [],
   "source": [
    "# Storing date as a column instead of index\n",
    "data = data.reset_index()"
   ]
  },
  {
   "cell_type": "code",
   "execution_count": 5,
   "metadata": {},
   "outputs": [
    {
     "data": {
      "text/html": [
       "<div>\n",
       "<style scoped>\n",
       "    .dataframe tbody tr th:only-of-type {\n",
       "        vertical-align: middle;\n",
       "    }\n",
       "\n",
       "    .dataframe tbody tr th {\n",
       "        vertical-align: top;\n",
       "    }\n",
       "\n",
       "    .dataframe thead tr th {\n",
       "        text-align: left;\n",
       "    }\n",
       "</style>\n",
       "<table border=\"1\" class=\"dataframe\">\n",
       "  <thead>\n",
       "    <tr>\n",
       "      <th>Price</th>\n",
       "      <th>Date</th>\n",
       "      <th>Close</th>\n",
       "      <th>High</th>\n",
       "      <th>Low</th>\n",
       "      <th>Open</th>\n",
       "      <th>Volume</th>\n",
       "    </tr>\n",
       "    <tr>\n",
       "      <th>Ticker</th>\n",
       "      <th></th>\n",
       "      <th>AAPL</th>\n",
       "      <th>AAPL</th>\n",
       "      <th>AAPL</th>\n",
       "      <th>AAPL</th>\n",
       "      <th>AAPL</th>\n",
       "    </tr>\n",
       "  </thead>\n",
       "  <tbody>\n",
       "    <tr>\n",
       "      <th>0</th>\n",
       "      <td>1980-12-12</td>\n",
       "      <td>0.098726</td>\n",
       "      <td>0.099155</td>\n",
       "      <td>0.098726</td>\n",
       "      <td>0.098726</td>\n",
       "      <td>469033600</td>\n",
       "    </tr>\n",
       "    <tr>\n",
       "      <th>1</th>\n",
       "      <td>1980-12-15</td>\n",
       "      <td>0.093575</td>\n",
       "      <td>0.094005</td>\n",
       "      <td>0.093575</td>\n",
       "      <td>0.094005</td>\n",
       "      <td>175884800</td>\n",
       "    </tr>\n",
       "    <tr>\n",
       "      <th>2</th>\n",
       "      <td>1980-12-16</td>\n",
       "      <td>0.086707</td>\n",
       "      <td>0.087136</td>\n",
       "      <td>0.086707</td>\n",
       "      <td>0.087136</td>\n",
       "      <td>105728000</td>\n",
       "    </tr>\n",
       "    <tr>\n",
       "      <th>3</th>\n",
       "      <td>1980-12-17</td>\n",
       "      <td>0.088853</td>\n",
       "      <td>0.089282</td>\n",
       "      <td>0.088853</td>\n",
       "      <td>0.088853</td>\n",
       "      <td>86441600</td>\n",
       "    </tr>\n",
       "    <tr>\n",
       "      <th>4</th>\n",
       "      <td>1980-12-18</td>\n",
       "      <td>0.091429</td>\n",
       "      <td>0.091858</td>\n",
       "      <td>0.091429</td>\n",
       "      <td>0.091429</td>\n",
       "      <td>73449600</td>\n",
       "    </tr>\n",
       "    <tr>\n",
       "      <th>...</th>\n",
       "      <td>...</td>\n",
       "      <td>...</td>\n",
       "      <td>...</td>\n",
       "      <td>...</td>\n",
       "      <td>...</td>\n",
       "      <td>...</td>\n",
       "    </tr>\n",
       "    <tr>\n",
       "      <th>11160</th>\n",
       "      <td>2025-03-25</td>\n",
       "      <td>223.750000</td>\n",
       "      <td>224.100006</td>\n",
       "      <td>220.080002</td>\n",
       "      <td>220.770004</td>\n",
       "      <td>34493600</td>\n",
       "    </tr>\n",
       "    <tr>\n",
       "      <th>11161</th>\n",
       "      <td>2025-03-26</td>\n",
       "      <td>221.529999</td>\n",
       "      <td>225.020004</td>\n",
       "      <td>220.470001</td>\n",
       "      <td>223.509995</td>\n",
       "      <td>34466100</td>\n",
       "    </tr>\n",
       "    <tr>\n",
       "      <th>11162</th>\n",
       "      <td>2025-03-27</td>\n",
       "      <td>223.850006</td>\n",
       "      <td>224.990005</td>\n",
       "      <td>220.559998</td>\n",
       "      <td>221.389999</td>\n",
       "      <td>37094800</td>\n",
       "    </tr>\n",
       "    <tr>\n",
       "      <th>11163</th>\n",
       "      <td>2025-03-28</td>\n",
       "      <td>217.899994</td>\n",
       "      <td>223.809998</td>\n",
       "      <td>217.679993</td>\n",
       "      <td>221.669998</td>\n",
       "      <td>39818600</td>\n",
       "    </tr>\n",
       "    <tr>\n",
       "      <th>11164</th>\n",
       "      <td>2025-03-31</td>\n",
       "      <td>222.130005</td>\n",
       "      <td>225.619995</td>\n",
       "      <td>216.229996</td>\n",
       "      <td>217.009995</td>\n",
       "      <td>65299300</td>\n",
       "    </tr>\n",
       "  </tbody>\n",
       "</table>\n",
       "<p>11165 rows × 6 columns</p>\n",
       "</div>"
      ],
      "text/plain": [
       "Price        Date       Close        High         Low        Open     Volume\n",
       "Ticker                   AAPL        AAPL        AAPL        AAPL       AAPL\n",
       "0      1980-12-12    0.098726    0.099155    0.098726    0.098726  469033600\n",
       "1      1980-12-15    0.093575    0.094005    0.093575    0.094005  175884800\n",
       "2      1980-12-16    0.086707    0.087136    0.086707    0.087136  105728000\n",
       "3      1980-12-17    0.088853    0.089282    0.088853    0.088853   86441600\n",
       "4      1980-12-18    0.091429    0.091858    0.091429    0.091429   73449600\n",
       "...           ...         ...         ...         ...         ...        ...\n",
       "11160  2025-03-25  223.750000  224.100006  220.080002  220.770004   34493600\n",
       "11161  2025-03-26  221.529999  225.020004  220.470001  223.509995   34466100\n",
       "11162  2025-03-27  223.850006  224.990005  220.559998  221.389999   37094800\n",
       "11163  2025-03-28  217.899994  223.809998  217.679993  221.669998   39818600\n",
       "11164  2025-03-31  222.130005  225.619995  216.229996  217.009995   65299300\n",
       "\n",
       "[11165 rows x 6 columns]"
      ]
     },
     "execution_count": 5,
     "metadata": {},
     "output_type": "execute_result"
    }
   ],
   "source": [
    "data"
   ]
  },
  {
   "cell_type": "code",
   "execution_count": 6,
   "metadata": {},
   "outputs": [],
   "source": [
    "# Removing multilevel index\n",
    "df = data.droplevel(level=0,axis=1)"
   ]
  },
  {
   "cell_type": "code",
   "execution_count": 7,
   "metadata": {},
   "outputs": [],
   "source": [
    "# Assigning column names for further use\n",
    "cols = ['date','close','high','low','open','volume']\n",
    "df.columns = cols"
   ]
  },
  {
   "cell_type": "code",
   "execution_count": 8,
   "metadata": {},
   "outputs": [
    {
     "data": {
      "text/html": [
       "<div>\n",
       "<style scoped>\n",
       "    .dataframe tbody tr th:only-of-type {\n",
       "        vertical-align: middle;\n",
       "    }\n",
       "\n",
       "    .dataframe tbody tr th {\n",
       "        vertical-align: top;\n",
       "    }\n",
       "\n",
       "    .dataframe thead th {\n",
       "        text-align: right;\n",
       "    }\n",
       "</style>\n",
       "<table border=\"1\" class=\"dataframe\">\n",
       "  <thead>\n",
       "    <tr style=\"text-align: right;\">\n",
       "      <th></th>\n",
       "      <th>date</th>\n",
       "      <th>close</th>\n",
       "      <th>high</th>\n",
       "      <th>low</th>\n",
       "      <th>open</th>\n",
       "      <th>volume</th>\n",
       "    </tr>\n",
       "  </thead>\n",
       "  <tbody>\n",
       "    <tr>\n",
       "      <th>0</th>\n",
       "      <td>1980-12-12</td>\n",
       "      <td>0.098726</td>\n",
       "      <td>0.099155</td>\n",
       "      <td>0.098726</td>\n",
       "      <td>0.098726</td>\n",
       "      <td>469033600</td>\n",
       "    </tr>\n",
       "    <tr>\n",
       "      <th>1</th>\n",
       "      <td>1980-12-15</td>\n",
       "      <td>0.093575</td>\n",
       "      <td>0.094005</td>\n",
       "      <td>0.093575</td>\n",
       "      <td>0.094005</td>\n",
       "      <td>175884800</td>\n",
       "    </tr>\n",
       "    <tr>\n",
       "      <th>2</th>\n",
       "      <td>1980-12-16</td>\n",
       "      <td>0.086707</td>\n",
       "      <td>0.087136</td>\n",
       "      <td>0.086707</td>\n",
       "      <td>0.087136</td>\n",
       "      <td>105728000</td>\n",
       "    </tr>\n",
       "    <tr>\n",
       "      <th>3</th>\n",
       "      <td>1980-12-17</td>\n",
       "      <td>0.088853</td>\n",
       "      <td>0.089282</td>\n",
       "      <td>0.088853</td>\n",
       "      <td>0.088853</td>\n",
       "      <td>86441600</td>\n",
       "    </tr>\n",
       "    <tr>\n",
       "      <th>4</th>\n",
       "      <td>1980-12-18</td>\n",
       "      <td>0.091429</td>\n",
       "      <td>0.091858</td>\n",
       "      <td>0.091429</td>\n",
       "      <td>0.091429</td>\n",
       "      <td>73449600</td>\n",
       "    </tr>\n",
       "  </tbody>\n",
       "</table>\n",
       "</div>"
      ],
      "text/plain": [
       "        date     close      high       low      open     volume\n",
       "0 1980-12-12  0.098726  0.099155  0.098726  0.098726  469033600\n",
       "1 1980-12-15  0.093575  0.094005  0.093575  0.094005  175884800\n",
       "2 1980-12-16  0.086707  0.087136  0.086707  0.087136  105728000\n",
       "3 1980-12-17  0.088853  0.089282  0.088853  0.088853   86441600\n",
       "4 1980-12-18  0.091429  0.091858  0.091429  0.091429   73449600"
      ]
     },
     "execution_count": 8,
     "metadata": {},
     "output_type": "execute_result"
    }
   ],
   "source": [
    "df.head()"
   ]
  },
  {
   "cell_type": "code",
   "execution_count": 9,
   "metadata": {},
   "outputs": [],
   "source": [
    "# Saving to a CSV file\n",
    "df.to_csv(\"../data/raw/Stocks1.csv\", index = False)"
   ]
  },
  {
   "cell_type": "markdown",
   "metadata": {},
   "source": [
    "##### *Basic Analysis*"
   ]
  },
  {
   "cell_type": "code",
   "execution_count": 10,
   "metadata": {},
   "outputs": [
    {
     "name": "stdout",
     "output_type": "stream",
     "text": [
      "<class 'pandas.core.frame.DataFrame'>\n",
      "RangeIndex: 11165 entries, 0 to 11164\n",
      "Data columns (total 6 columns):\n",
      " #   Column  Non-Null Count  Dtype         \n",
      "---  ------  --------------  -----         \n",
      " 0   date    11165 non-null  datetime64[ns]\n",
      " 1   close   11165 non-null  float64       \n",
      " 2   high    11165 non-null  float64       \n",
      " 3   low     11165 non-null  float64       \n",
      " 4   open    11165 non-null  float64       \n",
      " 5   volume  11165 non-null  int64         \n",
      "dtypes: datetime64[ns](1), float64(4), int64(1)\n",
      "memory usage: 523.5 KB\n"
     ]
    }
   ],
   "source": [
    "# Check for column names and categoris\n",
    "df.info()"
   ]
  },
  {
   "cell_type": "code",
   "execution_count": 11,
   "metadata": {},
   "outputs": [
    {
     "data": {
      "text/plain": [
       "(11165, 6)"
      ]
     },
     "execution_count": 11,
     "metadata": {},
     "output_type": "execute_result"
    }
   ],
   "source": [
    "# Shape of dataset\n",
    "df.shape"
   ]
  },
  {
   "cell_type": "code",
   "execution_count": 12,
   "metadata": {},
   "outputs": [
    {
     "data": {
      "text/plain": [
       "np.int64(0)"
      ]
     },
     "execution_count": 12,
     "metadata": {},
     "output_type": "execute_result"
    }
   ],
   "source": [
    "# Check for duplicates\n",
    "df.duplicated().sum()"
   ]
  },
  {
   "cell_type": "code",
   "execution_count": 13,
   "metadata": {},
   "outputs": [
    {
     "data": {
      "text/html": [
       "<div>\n",
       "<style scoped>\n",
       "    .dataframe tbody tr th:only-of-type {\n",
       "        vertical-align: middle;\n",
       "    }\n",
       "\n",
       "    .dataframe tbody tr th {\n",
       "        vertical-align: top;\n",
       "    }\n",
       "\n",
       "    .dataframe thead th {\n",
       "        text-align: right;\n",
       "    }\n",
       "</style>\n",
       "<table border=\"1\" class=\"dataframe\">\n",
       "  <thead>\n",
       "    <tr style=\"text-align: right;\">\n",
       "      <th></th>\n",
       "      <th>date</th>\n",
       "      <th>close</th>\n",
       "      <th>high</th>\n",
       "      <th>low</th>\n",
       "      <th>open</th>\n",
       "      <th>volume</th>\n",
       "    </tr>\n",
       "  </thead>\n",
       "  <tbody>\n",
       "    <tr>\n",
       "      <th>count</th>\n",
       "      <td>11165</td>\n",
       "      <td>11165.000000</td>\n",
       "      <td>11165.000000</td>\n",
       "      <td>11165.000000</td>\n",
       "      <td>11165.000000</td>\n",
       "      <td>1.116500e+04</td>\n",
       "    </tr>\n",
       "    <tr>\n",
       "      <th>mean</th>\n",
       "      <td>2003-01-25 17:29:12.440662784</td>\n",
       "      <td>24.575112</td>\n",
       "      <td>24.819920</td>\n",
       "      <td>24.305480</td>\n",
       "      <td>24.555977</td>\n",
       "      <td>3.140738e+08</td>\n",
       "    </tr>\n",
       "    <tr>\n",
       "      <th>min</th>\n",
       "      <td>1980-12-12 00:00:00</td>\n",
       "      <td>0.037773</td>\n",
       "      <td>0.038203</td>\n",
       "      <td>0.037773</td>\n",
       "      <td>0.038203</td>\n",
       "      <td>0.000000e+00</td>\n",
       "    </tr>\n",
       "    <tr>\n",
       "      <th>25%</th>\n",
       "      <td>1991-12-27 00:00:00</td>\n",
       "      <td>0.244305</td>\n",
       "      <td>0.249395</td>\n",
       "      <td>0.238868</td>\n",
       "      <td>0.244269</td>\n",
       "      <td>1.099380e+08</td>\n",
       "    </tr>\n",
       "    <tr>\n",
       "      <th>50%</th>\n",
       "      <td>2003-01-23 00:00:00</td>\n",
       "      <td>0.453388</td>\n",
       "      <td>0.460808</td>\n",
       "      <td>0.447155</td>\n",
       "      <td>0.453360</td>\n",
       "      <td>2.024736e+08</td>\n",
       "    </tr>\n",
       "    <tr>\n",
       "      <th>75%</th>\n",
       "      <td>2014-02-25 00:00:00</td>\n",
       "      <td>18.787733</td>\n",
       "      <td>18.936100</td>\n",
       "      <td>18.610886</td>\n",
       "      <td>18.788937</td>\n",
       "      <td>3.945144e+08</td>\n",
       "    </tr>\n",
       "    <tr>\n",
       "      <th>max</th>\n",
       "      <td>2025-03-31 00:00:00</td>\n",
       "      <td>258.735504</td>\n",
       "      <td>259.814335</td>\n",
       "      <td>257.347047</td>\n",
       "      <td>257.906429</td>\n",
       "      <td>7.421641e+09</td>\n",
       "    </tr>\n",
       "    <tr>\n",
       "      <th>std</th>\n",
       "      <td>NaN</td>\n",
       "      <td>51.787642</td>\n",
       "      <td>52.288254</td>\n",
       "      <td>51.225759</td>\n",
       "      <td>51.736698</td>\n",
       "      <td>3.345346e+08</td>\n",
       "    </tr>\n",
       "  </tbody>\n",
       "</table>\n",
       "</div>"
      ],
      "text/plain": [
       "                                date         close          high  \\\n",
       "count                          11165  11165.000000  11165.000000   \n",
       "mean   2003-01-25 17:29:12.440662784     24.575112     24.819920   \n",
       "min              1980-12-12 00:00:00      0.037773      0.038203   \n",
       "25%              1991-12-27 00:00:00      0.244305      0.249395   \n",
       "50%              2003-01-23 00:00:00      0.453388      0.460808   \n",
       "75%              2014-02-25 00:00:00     18.787733     18.936100   \n",
       "max              2025-03-31 00:00:00    258.735504    259.814335   \n",
       "std                              NaN     51.787642     52.288254   \n",
       "\n",
       "                low          open        volume  \n",
       "count  11165.000000  11165.000000  1.116500e+04  \n",
       "mean      24.305480     24.555977  3.140738e+08  \n",
       "min        0.037773      0.038203  0.000000e+00  \n",
       "25%        0.238868      0.244269  1.099380e+08  \n",
       "50%        0.447155      0.453360  2.024736e+08  \n",
       "75%       18.610886     18.788937  3.945144e+08  \n",
       "max      257.347047    257.906429  7.421641e+09  \n",
       "std       51.225759     51.736698  3.345346e+08  "
      ]
     },
     "execution_count": 13,
     "metadata": {},
     "output_type": "execute_result"
    }
   ],
   "source": [
    "# Statistics of the date\n",
    "df.describe()"
   ]
  },
  {
   "cell_type": "markdown",
   "metadata": {},
   "source": [
    "#### **Feature Construction**"
   ]
  },
  {
   "cell_type": "markdown",
   "metadata": {},
   "source": [
    "##### *Adjusted close*"
   ]
  },
  {
   "cell_type": "markdown",
   "metadata": {},
   "source": [
    "**Concept of Splits**\n",
    "* Normally for each share bought the price is retured for invested in that share\n",
    "* But sometimes the share gets split i.e the same amount invested is used in multiple shares\n",
    "* The returns of this share is given individually but that should be the sum of all shares\n",
    "\n",
    "**Example :** On day 1 if a share is bought for 100 the close price will be 100. On day 2 if 2-for-1 split has happened, the share is split into 50 and 50, but the close price will be shown as 50 only but it should be 50 * 2 = 100.\n",
    "\n",
    "**Issue :** When we use model like LSTM, the sudden fall in price due to split may cause the model to fail\n"
   ]
  },
  {
   "cell_type": "code",
   "execution_count": 14,
   "metadata": {},
   "outputs": [
    {
     "data": {
      "text/html": [
       "<div>\n",
       "<style scoped>\n",
       "    .dataframe tbody tr th:only-of-type {\n",
       "        vertical-align: middle;\n",
       "    }\n",
       "\n",
       "    .dataframe tbody tr th {\n",
       "        vertical-align: top;\n",
       "    }\n",
       "\n",
       "    .dataframe thead th {\n",
       "        text-align: right;\n",
       "    }\n",
       "</style>\n",
       "<table border=\"1\" class=\"dataframe\">\n",
       "  <thead>\n",
       "    <tr style=\"text-align: right;\">\n",
       "      <th></th>\n",
       "      <th>date</th>\n",
       "      <th>split_ratio</th>\n",
       "    </tr>\n",
       "  </thead>\n",
       "  <tbody>\n",
       "    <tr>\n",
       "      <th>0</th>\n",
       "      <td>1987-06-16 00:00:00-04:00</td>\n",
       "      <td>2.0</td>\n",
       "    </tr>\n",
       "    <tr>\n",
       "      <th>1</th>\n",
       "      <td>2000-06-21 00:00:00-04:00</td>\n",
       "      <td>2.0</td>\n",
       "    </tr>\n",
       "    <tr>\n",
       "      <th>2</th>\n",
       "      <td>2005-02-28 00:00:00-05:00</td>\n",
       "      <td>2.0</td>\n",
       "    </tr>\n",
       "    <tr>\n",
       "      <th>3</th>\n",
       "      <td>2014-06-09 00:00:00-04:00</td>\n",
       "      <td>7.0</td>\n",
       "    </tr>\n",
       "    <tr>\n",
       "      <th>4</th>\n",
       "      <td>2020-08-31 00:00:00-04:00</td>\n",
       "      <td>4.0</td>\n",
       "    </tr>\n",
       "  </tbody>\n",
       "</table>\n",
       "</div>"
      ],
      "text/plain": [
       "                       date  split_ratio\n",
       "0 1987-06-16 00:00:00-04:00          2.0\n",
       "1 2000-06-21 00:00:00-04:00          2.0\n",
       "2 2005-02-28 00:00:00-05:00          2.0\n",
       "3 2014-06-09 00:00:00-04:00          7.0\n",
       "4 2020-08-31 00:00:00-04:00          4.0"
      ]
     },
     "execution_count": 14,
     "metadata": {},
     "output_type": "execute_result"
    }
   ],
   "source": [
    "# Get the dates and split ratio\n",
    "stock = yf.Ticker('AAPL')\n",
    "splits = stock.splits\n",
    "splits = splits.reset_index()\n",
    "splits.columns = ['date', 'split_ratio']\n",
    "splits"
   ]
  },
  {
   "cell_type": "markdown",
   "metadata": {},
   "source": [
    "**Split_ratio** : previous close / current close"
   ]
  },
  {
   "cell_type": "code",
   "execution_count": 15,
   "metadata": {},
   "outputs": [
    {
     "data": {
      "text/plain": [
       "datetime64[ns, America/New_York]"
      ]
     },
     "execution_count": 15,
     "metadata": {},
     "output_type": "execute_result"
    }
   ],
   "source": [
    "splits.date.dtype"
   ]
  },
  {
   "cell_type": "code",
   "execution_count": 16,
   "metadata": {},
   "outputs": [],
   "source": [
    "# convert date type from datetime64[ns, America/New_York] to datetime64[ns]\n",
    "splits['date'] = splits[\"date\"].dt.tz_localize(None)"
   ]
  },
  {
   "cell_type": "code",
   "execution_count": 17,
   "metadata": {},
   "outputs": [],
   "source": [
    "# add split ratio column to original data\n",
    "df = df.merge(splits, on='date', how='left')"
   ]
  },
  {
   "cell_type": "code",
   "execution_count": 18,
   "metadata": {},
   "outputs": [
    {
     "name": "stderr",
     "output_type": "stream",
     "text": [
      "C:\\Users\\smoha\\AppData\\Local\\Temp\\ipykernel_8060\\2285346929.py:2: FutureWarning: A value is trying to be set on a copy of a DataFrame or Series through chained assignment using an inplace method.\n",
      "The behavior will change in pandas 3.0. This inplace method will never work because the intermediate object on which we are setting values always behaves as a copy.\n",
      "\n",
      "For example, when doing 'df[col].method(value, inplace=True)', try using 'df.method({col: value}, inplace=True)' or df[col] = df[col].method(value) instead, to perform the operation inplace on the original object.\n",
      "\n",
      "\n",
      "  df['split_ratio'].fillna(1, inplace=True)\n"
     ]
    }
   ],
   "source": [
    "# replace null values with 1 showing no split took place\n",
    "df['split_ratio'].fillna(1, inplace=True)"
   ]
  },
  {
   "cell_type": "markdown",
   "metadata": {},
   "source": [
    "- **Adj_factor** : It is simply the number of dividends that happened. The cummulative product of split ratio gives how many times and how many dividends occurs until that date\n",
    "- **Example** : If on day 2 it is 2-for-1 and on day 3 it is 2-for-1, then it becomes 2 * 2 on day 4 (as the 2 dividends of day2 are again divided into 2 parts each on day 3)"
   ]
  },
  {
   "cell_type": "code",
   "execution_count": 19,
   "metadata": {},
   "outputs": [],
   "source": [
    "df['adj_factor'] = df['split_ratio'].cumprod()"
   ]
  },
  {
   "cell_type": "code",
   "execution_count": 20,
   "metadata": {},
   "outputs": [],
   "source": [
    "# the product of no. of dividends and close price gives adj_close\n",
    "df['adj_close'] = df['adj_factor'] * df['close']"
   ]
  },
  {
   "cell_type": "markdown",
   "metadata": {},
   "source": [
    "##### *Moving Averages*"
   ]
  },
  {
   "cell_type": "markdown",
   "metadata": {},
   "source": [
    "**Moving Average :** The averge of a certain window helps in analysing the adj close value of that terms better. It is simple mean of n windows."
   ]
  },
  {
   "cell_type": "code",
   "execution_count": 21,
   "metadata": {},
   "outputs": [],
   "source": [
    "# df['adj_close'].rolling(window=10).mean() # standard moving average\n",
    "# exponential moving average\n",
    "df['rolling_ma'] = df['adj_close'].ewm(span=10, adjust=False).mean()"
   ]
  },
  {
   "cell_type": "markdown",
   "metadata": {},
   "source": [
    "##### *RSI*"
   ]
  },
  {
   "cell_type": "markdown",
   "metadata": {},
   "source": [
    "**RSI (Relative Strength Index)** is a momentum indicator used in stock trading to measure the speed and magnitude of price changes. It helps traders identify overbought or oversold conditions.\n",
    "\n",
    "RSI values range from 0 to 100:\n",
    "\n",
    "- Above 70 : Overbought (price may fall soon)\n",
    "- Below 30 : Oversold (price may rise soon)\n",
    "- Between 30-70 : Neutral (no strong trend)\n",
    "\n",
    "\n",
    "- **Relative Strenght** = *(Average gain for N periods / Avg loss for N periods)*\n",
    "- **RSI** = *100 - (100 / 1 - RS)*"
   ]
  },
  {
   "cell_type": "code",
   "execution_count": 22,
   "metadata": {},
   "outputs": [],
   "source": [
    "# curr close value - past close value\n",
    "df['change'] = df['adj_close'].diff()"
   ]
  },
  {
   "cell_type": "code",
   "execution_count": 23,
   "metadata": {},
   "outputs": [],
   "source": [
    "# take gain if gain, else take 0\n",
    "df['gain'] = np.where(df['change'] > 0, df['change'], 0)\n",
    "# take loss if loss, else take 0\n",
    "df['loss'] = np.where(df['change'] < 0, -df['change'], 0)"
   ]
  },
  {
   "cell_type": "code",
   "execution_count": 24,
   "metadata": {},
   "outputs": [],
   "source": [
    "# calculate average gain and loss usign exponentially moving average\n",
    "df['avg_gain'] = df['gain'].ewm(span=14, adjust=False).mean()\n",
    "df['avg_loss'] = df['loss'].ewm(span=14, adjust=False).mean()"
   ]
  },
  {
   "cell_type": "code",
   "execution_count": 25,
   "metadata": {},
   "outputs": [
    {
     "data": {
      "text/html": [
       "<div>\n",
       "<style scoped>\n",
       "    .dataframe tbody tr th:only-of-type {\n",
       "        vertical-align: middle;\n",
       "    }\n",
       "\n",
       "    .dataframe tbody tr th {\n",
       "        vertical-align: top;\n",
       "    }\n",
       "\n",
       "    .dataframe thead th {\n",
       "        text-align: right;\n",
       "    }\n",
       "</style>\n",
       "<table border=\"1\" class=\"dataframe\">\n",
       "  <thead>\n",
       "    <tr style=\"text-align: right;\">\n",
       "      <th></th>\n",
       "      <th>date</th>\n",
       "      <th>adj_close</th>\n",
       "      <th>change</th>\n",
       "      <th>gain</th>\n",
       "      <th>loss</th>\n",
       "      <th>avg_gain</th>\n",
       "      <th>avg_loss</th>\n",
       "    </tr>\n",
       "  </thead>\n",
       "  <tbody>\n",
       "    <tr>\n",
       "      <th>0</th>\n",
       "      <td>1980-12-12</td>\n",
       "      <td>0.098726</td>\n",
       "      <td>NaN</td>\n",
       "      <td>0.000000</td>\n",
       "      <td>0.000000</td>\n",
       "      <td>0.000000</td>\n",
       "      <td>0.000000</td>\n",
       "    </tr>\n",
       "    <tr>\n",
       "      <th>1</th>\n",
       "      <td>1980-12-15</td>\n",
       "      <td>0.093575</td>\n",
       "      <td>-0.005151</td>\n",
       "      <td>0.000000</td>\n",
       "      <td>0.005151</td>\n",
       "      <td>0.000000</td>\n",
       "      <td>0.000687</td>\n",
       "    </tr>\n",
       "    <tr>\n",
       "      <th>2</th>\n",
       "      <td>1980-12-16</td>\n",
       "      <td>0.086707</td>\n",
       "      <td>-0.006868</td>\n",
       "      <td>0.000000</td>\n",
       "      <td>0.006868</td>\n",
       "      <td>0.000000</td>\n",
       "      <td>0.001511</td>\n",
       "    </tr>\n",
       "    <tr>\n",
       "      <th>3</th>\n",
       "      <td>1980-12-17</td>\n",
       "      <td>0.088853</td>\n",
       "      <td>0.002146</td>\n",
       "      <td>0.002146</td>\n",
       "      <td>0.000000</td>\n",
       "      <td>0.000286</td>\n",
       "      <td>0.001309</td>\n",
       "    </tr>\n",
       "    <tr>\n",
       "      <th>4</th>\n",
       "      <td>1980-12-18</td>\n",
       "      <td>0.091429</td>\n",
       "      <td>0.002576</td>\n",
       "      <td>0.002576</td>\n",
       "      <td>0.000000</td>\n",
       "      <td>0.000591</td>\n",
       "      <td>0.001135</td>\n",
       "    </tr>\n",
       "  </tbody>\n",
       "</table>\n",
       "</div>"
      ],
      "text/plain": [
       "        date  adj_close    change      gain      loss  avg_gain  avg_loss\n",
       "0 1980-12-12   0.098726       NaN  0.000000  0.000000  0.000000  0.000000\n",
       "1 1980-12-15   0.093575 -0.005151  0.000000  0.005151  0.000000  0.000687\n",
       "2 1980-12-16   0.086707 -0.006868  0.000000  0.006868  0.000000  0.001511\n",
       "3 1980-12-17   0.088853  0.002146  0.002146  0.000000  0.000286  0.001309\n",
       "4 1980-12-18   0.091429  0.002576  0.002576  0.000000  0.000591  0.001135"
      ]
     },
     "execution_count": 25,
     "metadata": {},
     "output_type": "execute_result"
    }
   ],
   "source": [
    "df.loc[:,['date','adj_close','change','gain','loss','avg_gain','avg_loss']].head()"
   ]
  },
  {
   "cell_type": "code",
   "execution_count": 26,
   "metadata": {},
   "outputs": [],
   "source": [
    "df['relative_strength'] = df['avg_gain'] / df['avg_loss']"
   ]
  },
  {
   "cell_type": "code",
   "execution_count": 27,
   "metadata": {},
   "outputs": [],
   "source": [
    "df['RSI'] = 100 - (100 / (1 + df[\"relative_strength\"]))"
   ]
  },
  {
   "cell_type": "markdown",
   "metadata": {},
   "source": [
    "##### *MACD*"
   ]
  },
  {
   "cell_type": "markdown",
   "metadata": {},
   "source": [
    "**MACD** is a momentum indicator that helps identify trend direction, strength, and potential reversals in stock prices. It is calculated using two Exponential Moving Averages (EMAs).\n",
    "\n",
    "*MACD Calculation Formula*\n",
    "- **MACD Line** = 12-day EMA – 26-day EMA\n",
    "- **Signal Line** = 9-day EMA of the MACD Line\n",
    "- **MACD Histogram** = MACD Line – Signal Line\n",
    "\n",
    "- If MACD > Signal Line → Bullish (buy signal)\n",
    "- If MACD < Signal Line → Bearish (sell signal)\n",
    "\n"
   ]
  },
  {
   "cell_type": "code",
   "execution_count": 28,
   "metadata": {},
   "outputs": [],
   "source": [
    "df[\"EMA_12\"] = df[\"adj_close\"].ewm(span=12, adjust=False).mean()\n",
    "df[\"EMA_26\"] = df[\"adj_close\"].ewm(span=26, adjust=False).mean()\n",
    "\n",
    "# Calculate MACD Line\n",
    "df[\"MACD\"] = df[\"EMA_12\"] - df[\"EMA_26\"]\n",
    "\n",
    "# Calculate Signal Line (9-day EMA of MACD)\n",
    "df[\"Signal_Line\"] = df[\"MACD\"].ewm(span=9, adjust=False).mean()\n",
    "\n",
    "# Calculate MACD Histogram\n",
    "df[\"MACD_Histogram\"] = df[\"MACD\"] - df[\"Signal_Line\"]"
   ]
  },
  {
   "cell_type": "code",
   "execution_count": 29,
   "metadata": {},
   "outputs": [
    {
     "data": {
      "text/html": [
       "<div>\n",
       "<style scoped>\n",
       "    .dataframe tbody tr th:only-of-type {\n",
       "        vertical-align: middle;\n",
       "    }\n",
       "\n",
       "    .dataframe tbody tr th {\n",
       "        vertical-align: top;\n",
       "    }\n",
       "\n",
       "    .dataframe thead th {\n",
       "        text-align: right;\n",
       "    }\n",
       "</style>\n",
       "<table border=\"1\" class=\"dataframe\">\n",
       "  <thead>\n",
       "    <tr style=\"text-align: right;\">\n",
       "      <th></th>\n",
       "      <th>EMA_12</th>\n",
       "      <th>EMA_26</th>\n",
       "      <th>MACD</th>\n",
       "      <th>Signal_Line</th>\n",
       "      <th>MACD_Histogram</th>\n",
       "    </tr>\n",
       "  </thead>\n",
       "  <tbody>\n",
       "    <tr>\n",
       "      <th>0</th>\n",
       "      <td>0.098726</td>\n",
       "      <td>0.098726</td>\n",
       "      <td>0.000000</td>\n",
       "      <td>0.000000</td>\n",
       "      <td>0.000000</td>\n",
       "    </tr>\n",
       "    <tr>\n",
       "      <th>1</th>\n",
       "      <td>0.097934</td>\n",
       "      <td>0.098344</td>\n",
       "      <td>-0.000411</td>\n",
       "      <td>-0.000082</td>\n",
       "      <td>-0.000329</td>\n",
       "    </tr>\n",
       "    <tr>\n",
       "      <th>2</th>\n",
       "      <td>0.096206</td>\n",
       "      <td>0.097482</td>\n",
       "      <td>-0.001276</td>\n",
       "      <td>-0.000321</td>\n",
       "      <td>-0.000955</td>\n",
       "    </tr>\n",
       "    <tr>\n",
       "      <th>3</th>\n",
       "      <td>0.095075</td>\n",
       "      <td>0.096843</td>\n",
       "      <td>-0.001768</td>\n",
       "      <td>-0.000610</td>\n",
       "      <td>-0.001158</td>\n",
       "    </tr>\n",
       "    <tr>\n",
       "      <th>4</th>\n",
       "      <td>0.094514</td>\n",
       "      <td>0.096442</td>\n",
       "      <td>-0.001928</td>\n",
       "      <td>-0.000874</td>\n",
       "      <td>-0.001054</td>\n",
       "    </tr>\n",
       "  </tbody>\n",
       "</table>\n",
       "</div>"
      ],
      "text/plain": [
       "     EMA_12    EMA_26      MACD  Signal_Line  MACD_Histogram\n",
       "0  0.098726  0.098726  0.000000     0.000000        0.000000\n",
       "1  0.097934  0.098344 -0.000411    -0.000082       -0.000329\n",
       "2  0.096206  0.097482 -0.001276    -0.000321       -0.000955\n",
       "3  0.095075  0.096843 -0.001768    -0.000610       -0.001158\n",
       "4  0.094514  0.096442 -0.001928    -0.000874       -0.001054"
      ]
     },
     "execution_count": 29,
     "metadata": {},
     "output_type": "execute_result"
    }
   ],
   "source": [
    "df.loc[:,['EMA_12','EMA_26','MACD','Signal_Line','MACD_Histogram']].head()"
   ]
  },
  {
   "cell_type": "markdown",
   "metadata": {},
   "source": [
    "##### *Bollinger brand*"
   ]
  },
  {
   "cell_type": "markdown",
   "metadata": {},
   "source": [
    "**Bollinger Bands** are a volatility indicator that helps identify overbought and oversold conditions in a stock. They consist of three lines:\n",
    "\n",
    "- *Upper Band* = Moving Average + (2 × Standard Deviation)\n",
    "- *Middle Band* = Simple Moving Average (SMA) (default: 20-day)\n",
    "- *Lower Band* = Moving Average - (2 × Standard Deviation)"
   ]
  },
  {
   "cell_type": "code",
   "execution_count": 30,
   "metadata": {},
   "outputs": [],
   "source": [
    "df[\"SMA_20\"] = df[\"adj_close\"].ewm(span=20, adjust=False).mean()\n",
    "\n",
    "# Standard Deviation\n",
    "df[\"STD\"] = df[\"adj_close\"].ewm(span=20, adjust=False).std()\n",
    "\n",
    "# Calculate Bollinger Bands\n",
    "df[\"upper_band\"] = df[\"SMA_20\"] + (2 * df[\"STD\"])\n",
    "df[\"lower_band\"] = df[\"SMA_20\"] - (2 * df[\"STD\"])"
   ]
  },
  {
   "cell_type": "code",
   "execution_count": 31,
   "metadata": {},
   "outputs": [
    {
     "data": {
      "text/html": [
       "<div>\n",
       "<style scoped>\n",
       "    .dataframe tbody tr th:only-of-type {\n",
       "        vertical-align: middle;\n",
       "    }\n",
       "\n",
       "    .dataframe tbody tr th {\n",
       "        vertical-align: top;\n",
       "    }\n",
       "\n",
       "    .dataframe thead th {\n",
       "        text-align: right;\n",
       "    }\n",
       "</style>\n",
       "<table border=\"1\" class=\"dataframe\">\n",
       "  <thead>\n",
       "    <tr style=\"text-align: right;\">\n",
       "      <th></th>\n",
       "      <th>SMA_20</th>\n",
       "      <th>STD</th>\n",
       "      <th>upper_band</th>\n",
       "      <th>lower_band</th>\n",
       "    </tr>\n",
       "  </thead>\n",
       "  <tbody>\n",
       "    <tr>\n",
       "      <th>0</th>\n",
       "      <td>0.098726</td>\n",
       "      <td>NaN</td>\n",
       "      <td>NaN</td>\n",
       "      <td>NaN</td>\n",
       "    </tr>\n",
       "    <tr>\n",
       "      <th>1</th>\n",
       "      <td>0.098235</td>\n",
       "      <td>0.003642</td>\n",
       "      <td>0.105519</td>\n",
       "      <td>0.090951</td>\n",
       "    </tr>\n",
       "    <tr>\n",
       "      <th>2</th>\n",
       "      <td>0.097137</td>\n",
       "      <td>0.006568</td>\n",
       "      <td>0.110273</td>\n",
       "      <td>0.084001</td>\n",
       "    </tr>\n",
       "    <tr>\n",
       "      <th>3</th>\n",
       "      <td>0.096348</td>\n",
       "      <td>0.006505</td>\n",
       "      <td>0.109358</td>\n",
       "      <td>0.083339</td>\n",
       "    </tr>\n",
       "    <tr>\n",
       "      <th>4</th>\n",
       "      <td>0.095880</td>\n",
       "      <td>0.005946</td>\n",
       "      <td>0.107771</td>\n",
       "      <td>0.083989</td>\n",
       "    </tr>\n",
       "  </tbody>\n",
       "</table>\n",
       "</div>"
      ],
      "text/plain": [
       "     SMA_20       STD  upper_band  lower_band\n",
       "0  0.098726       NaN         NaN         NaN\n",
       "1  0.098235  0.003642    0.105519    0.090951\n",
       "2  0.097137  0.006568    0.110273    0.084001\n",
       "3  0.096348  0.006505    0.109358    0.083339\n",
       "4  0.095880  0.005946    0.107771    0.083989"
      ]
     },
     "execution_count": 31,
     "metadata": {},
     "output_type": "execute_result"
    }
   ],
   "source": [
    "df.loc[:, ['SMA_20', 'STD', 'upper_band', 'lower_band']].head()"
   ]
  },
  {
   "cell_type": "markdown",
   "metadata": {},
   "source": [
    "##### *Date*"
   ]
  },
  {
   "cell_type": "markdown",
   "metadata": {},
   "source": [
    "Splitting of date may help you find the seasonality and different trends in the data"
   ]
  },
  {
   "cell_type": "code",
   "execution_count": 32,
   "metadata": {},
   "outputs": [],
   "source": [
    "df[\"year\"] = df[\"date\"].dt.year\n",
    "df[\"month\"] = df[\"date\"].dt.month\n",
    "df[\"day\"] = df[\"date\"].dt.day\n",
    "df[\"weekday\"] = df[\"date\"].dt.weekday"
   ]
  },
  {
   "cell_type": "markdown",
   "metadata": {},
   "source": [
    "##### *Adding Seasonality*\n",
    "- Sin, cos terms repeat themselves periodically\n",
    "- Her fourier_sin_7, fourier_Cos_7 represents the weekly repetition (seasonality)\n",
    "- Her fourier_sin_30, fourier_Cos_30 represents the monthly repetition (seasonality)"
   ]
  },
  {
   "cell_type": "code",
   "execution_count": 33,
   "metadata": {},
   "outputs": [],
   "source": [
    "\n",
    "df[\"Fourier_Sin_7\"] = np.sin(2 * np.pi * df.date.dt.day_of_year / 7)\n",
    "df[\"Fourier_Cos_7\"] = np.cos(2 * np.pi * df.date.dt.day_of_year / 7)\n",
    "df[\"Fourier_Sin_30\"] = np.sin(2 * np.pi * df.date.dt.day_of_year / 30)\n",
    "df[\"Fourier_Cos_30\"] = np.cos(2 * np.pi * df.date.dt.day_of_year / 30)\n"
   ]
  },
  {
   "cell_type": "markdown",
   "metadata": {},
   "source": [
    "##### *Saving the feature constructed data*"
   ]
  },
  {
   "cell_type": "code",
   "execution_count": 34,
   "metadata": {},
   "outputs": [
    {
     "name": "stdout",
     "output_type": "stream",
     "text": [
      "<class 'pandas.core.frame.DataFrame'>\n",
      "RangeIndex: 11165 entries, 0 to 11164\n",
      "Data columns (total 34 columns):\n",
      " #   Column             Non-Null Count  Dtype         \n",
      "---  ------             --------------  -----         \n",
      " 0   date               11165 non-null  datetime64[ns]\n",
      " 1   close              11165 non-null  float64       \n",
      " 2   high               11165 non-null  float64       \n",
      " 3   low                11165 non-null  float64       \n",
      " 4   open               11165 non-null  float64       \n",
      " 5   volume             11165 non-null  int64         \n",
      " 6   split_ratio        11165 non-null  float64       \n",
      " 7   adj_factor         11165 non-null  float64       \n",
      " 8   adj_close          11165 non-null  float64       \n",
      " 9   rolling_ma         11165 non-null  float64       \n",
      " 10  change             11164 non-null  float64       \n",
      " 11  gain               11165 non-null  float64       \n",
      " 12  loss               11165 non-null  float64       \n",
      " 13  avg_gain           11165 non-null  float64       \n",
      " 14  avg_loss           11165 non-null  float64       \n",
      " 15  relative_strength  11164 non-null  float64       \n",
      " 16  RSI                11164 non-null  float64       \n",
      " 17  EMA_12             11165 non-null  float64       \n",
      " 18  EMA_26             11165 non-null  float64       \n",
      " 19  MACD               11165 non-null  float64       \n",
      " 20  Signal_Line        11165 non-null  float64       \n",
      " 21  MACD_Histogram     11165 non-null  float64       \n",
      " 22  SMA_20             11165 non-null  float64       \n",
      " 23  STD                11164 non-null  float64       \n",
      " 24  upper_band         11164 non-null  float64       \n",
      " 25  lower_band         11164 non-null  float64       \n",
      " 26  year               11165 non-null  int32         \n",
      " 27  month              11165 non-null  int32         \n",
      " 28  day                11165 non-null  int32         \n",
      " 29  weekday            11165 non-null  int32         \n",
      " 30  Fourier_Sin_7      11165 non-null  float64       \n",
      " 31  Fourier_Cos_7      11165 non-null  float64       \n",
      " 32  Fourier_Sin_30     11165 non-null  float64       \n",
      " 33  Fourier_Cos_30     11165 non-null  float64       \n",
      "dtypes: datetime64[ns](1), float64(28), int32(4), int64(1)\n",
      "memory usage: 2.7 MB\n"
     ]
    }
   ],
   "source": [
    "df.info()"
   ]
  },
  {
   "cell_type": "code",
   "execution_count": 35,
   "metadata": {},
   "outputs": [],
   "source": [
    "df.dropna(inplace=True)"
   ]
  },
  {
   "cell_type": "code",
   "execution_count": 36,
   "metadata": {},
   "outputs": [
    {
     "data": {
      "text/html": [
       "<div>\n",
       "<style scoped>\n",
       "    .dataframe tbody tr th:only-of-type {\n",
       "        vertical-align: middle;\n",
       "    }\n",
       "\n",
       "    .dataframe tbody tr th {\n",
       "        vertical-align: top;\n",
       "    }\n",
       "\n",
       "    .dataframe thead th {\n",
       "        text-align: right;\n",
       "    }\n",
       "</style>\n",
       "<table border=\"1\" class=\"dataframe\">\n",
       "  <thead>\n",
       "    <tr style=\"text-align: right;\">\n",
       "      <th></th>\n",
       "      <th>date</th>\n",
       "      <th>close</th>\n",
       "      <th>high</th>\n",
       "      <th>low</th>\n",
       "      <th>open</th>\n",
       "      <th>volume</th>\n",
       "      <th>split_ratio</th>\n",
       "      <th>adj_factor</th>\n",
       "      <th>adj_close</th>\n",
       "      <th>rolling_ma</th>\n",
       "      <th>...</th>\n",
       "      <th>upper_band</th>\n",
       "      <th>lower_band</th>\n",
       "      <th>year</th>\n",
       "      <th>month</th>\n",
       "      <th>day</th>\n",
       "      <th>weekday</th>\n",
       "      <th>Fourier_Sin_7</th>\n",
       "      <th>Fourier_Cos_7</th>\n",
       "      <th>Fourier_Sin_30</th>\n",
       "      <th>Fourier_Cos_30</th>\n",
       "    </tr>\n",
       "  </thead>\n",
       "  <tbody>\n",
       "    <tr>\n",
       "      <th>1</th>\n",
       "      <td>1980-12-15</td>\n",
       "      <td>0.093575</td>\n",
       "      <td>0.094005</td>\n",
       "      <td>0.093575</td>\n",
       "      <td>0.094005</td>\n",
       "      <td>175884800</td>\n",
       "      <td>1.0</td>\n",
       "      <td>1.0</td>\n",
       "      <td>0.093575</td>\n",
       "      <td>0.097789</td>\n",
       "      <td>...</td>\n",
       "      <td>0.105519</td>\n",
       "      <td>0.090951</td>\n",
       "      <td>1980</td>\n",
       "      <td>12</td>\n",
       "      <td>15</td>\n",
       "      <td>0</td>\n",
       "      <td>-5.487903e-14</td>\n",
       "      <td>1.000000</td>\n",
       "      <td>-0.866025</td>\n",
       "      <td>-0.500000</td>\n",
       "    </tr>\n",
       "    <tr>\n",
       "      <th>2</th>\n",
       "      <td>1980-12-16</td>\n",
       "      <td>0.086707</td>\n",
       "      <td>0.087136</td>\n",
       "      <td>0.086707</td>\n",
       "      <td>0.087136</td>\n",
       "      <td>105728000</td>\n",
       "      <td>1.0</td>\n",
       "      <td>1.0</td>\n",
       "      <td>0.086707</td>\n",
       "      <td>0.095774</td>\n",
       "      <td>...</td>\n",
       "      <td>0.110273</td>\n",
       "      <td>0.084001</td>\n",
       "      <td>1980</td>\n",
       "      <td>12</td>\n",
       "      <td>16</td>\n",
       "      <td>1</td>\n",
       "      <td>7.818315e-01</td>\n",
       "      <td>0.623490</td>\n",
       "      <td>-0.951057</td>\n",
       "      <td>-0.309017</td>\n",
       "    </tr>\n",
       "    <tr>\n",
       "      <th>3</th>\n",
       "      <td>1980-12-17</td>\n",
       "      <td>0.088853</td>\n",
       "      <td>0.089282</td>\n",
       "      <td>0.088853</td>\n",
       "      <td>0.088853</td>\n",
       "      <td>86441600</td>\n",
       "      <td>1.0</td>\n",
       "      <td>1.0</td>\n",
       "      <td>0.088853</td>\n",
       "      <td>0.094516</td>\n",
       "      <td>...</td>\n",
       "      <td>0.109358</td>\n",
       "      <td>0.083339</td>\n",
       "      <td>1980</td>\n",
       "      <td>12</td>\n",
       "      <td>17</td>\n",
       "      <td>2</td>\n",
       "      <td>9.749279e-01</td>\n",
       "      <td>-0.222521</td>\n",
       "      <td>-0.994522</td>\n",
       "      <td>-0.104528</td>\n",
       "    </tr>\n",
       "    <tr>\n",
       "      <th>4</th>\n",
       "      <td>1980-12-18</td>\n",
       "      <td>0.091429</td>\n",
       "      <td>0.091858</td>\n",
       "      <td>0.091429</td>\n",
       "      <td>0.091429</td>\n",
       "      <td>73449600</td>\n",
       "      <td>1.0</td>\n",
       "      <td>1.0</td>\n",
       "      <td>0.091429</td>\n",
       "      <td>0.093955</td>\n",
       "      <td>...</td>\n",
       "      <td>0.107771</td>\n",
       "      <td>0.083989</td>\n",
       "      <td>1980</td>\n",
       "      <td>12</td>\n",
       "      <td>18</td>\n",
       "      <td>3</td>\n",
       "      <td>4.338837e-01</td>\n",
       "      <td>-0.900969</td>\n",
       "      <td>-0.994522</td>\n",
       "      <td>0.104528</td>\n",
       "    </tr>\n",
       "    <tr>\n",
       "      <th>5</th>\n",
       "      <td>1980-12-19</td>\n",
       "      <td>0.097009</td>\n",
       "      <td>0.097438</td>\n",
       "      <td>0.097009</td>\n",
       "      <td>0.097009</td>\n",
       "      <td>48630400</td>\n",
       "      <td>1.0</td>\n",
       "      <td>1.0</td>\n",
       "      <td>0.097009</td>\n",
       "      <td>0.094510</td>\n",
       "      <td>...</td>\n",
       "      <td>0.106579</td>\n",
       "      <td>0.085396</td>\n",
       "      <td>1980</td>\n",
       "      <td>12</td>\n",
       "      <td>19</td>\n",
       "      <td>4</td>\n",
       "      <td>-4.338837e-01</td>\n",
       "      <td>-0.900969</td>\n",
       "      <td>-0.951057</td>\n",
       "      <td>0.309017</td>\n",
       "    </tr>\n",
       "  </tbody>\n",
       "</table>\n",
       "<p>5 rows × 34 columns</p>\n",
       "</div>"
      ],
      "text/plain": [
       "        date     close      high       low      open     volume  split_ratio  \\\n",
       "1 1980-12-15  0.093575  0.094005  0.093575  0.094005  175884800          1.0   \n",
       "2 1980-12-16  0.086707  0.087136  0.086707  0.087136  105728000          1.0   \n",
       "3 1980-12-17  0.088853  0.089282  0.088853  0.088853   86441600          1.0   \n",
       "4 1980-12-18  0.091429  0.091858  0.091429  0.091429   73449600          1.0   \n",
       "5 1980-12-19  0.097009  0.097438  0.097009  0.097009   48630400          1.0   \n",
       "\n",
       "   adj_factor  adj_close  rolling_ma  ...  upper_band  lower_band  year  \\\n",
       "1         1.0   0.093575    0.097789  ...    0.105519    0.090951  1980   \n",
       "2         1.0   0.086707    0.095774  ...    0.110273    0.084001  1980   \n",
       "3         1.0   0.088853    0.094516  ...    0.109358    0.083339  1980   \n",
       "4         1.0   0.091429    0.093955  ...    0.107771    0.083989  1980   \n",
       "5         1.0   0.097009    0.094510  ...    0.106579    0.085396  1980   \n",
       "\n",
       "   month  day  weekday  Fourier_Sin_7  Fourier_Cos_7  Fourier_Sin_30  \\\n",
       "1     12   15        0  -5.487903e-14       1.000000       -0.866025   \n",
       "2     12   16        1   7.818315e-01       0.623490       -0.951057   \n",
       "3     12   17        2   9.749279e-01      -0.222521       -0.994522   \n",
       "4     12   18        3   4.338837e-01      -0.900969       -0.994522   \n",
       "5     12   19        4  -4.338837e-01      -0.900969       -0.951057   \n",
       "\n",
       "   Fourier_Cos_30  \n",
       "1       -0.500000  \n",
       "2       -0.309017  \n",
       "3       -0.104528  \n",
       "4        0.104528  \n",
       "5        0.309017  \n",
       "\n",
       "[5 rows x 34 columns]"
      ]
     },
     "execution_count": 36,
     "metadata": {},
     "output_type": "execute_result"
    }
   ],
   "source": [
    "df.head()"
   ]
  },
  {
   "cell_type": "code",
   "execution_count": 37,
   "metadata": {},
   "outputs": [],
   "source": [
    "df.to_csv('../data/interim/Stocks2.csv', index = False)"
   ]
  }
 ],
 "metadata": {
  "kernelspec": {
   "display_name": "newVenv",
   "language": "python",
   "name": "python3"
  },
  "language_info": {
   "codemirror_mode": {
    "name": "ipython",
    "version": 3
   },
   "file_extension": ".py",
   "mimetype": "text/x-python",
   "name": "python",
   "nbconvert_exporter": "python",
   "pygments_lexer": "ipython3",
   "version": "3.11.4"
  }
 },
 "nbformat": 4,
 "nbformat_minor": 2
}
